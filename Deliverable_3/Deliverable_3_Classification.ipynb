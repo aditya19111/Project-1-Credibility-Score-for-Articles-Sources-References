{
  "cells": [
    {
      "cell_type": "markdown",
      "metadata": {
        "id": "vZWECH6nUPU2"
      },
      "source": [
        "## Define Model"
      ]
    },
    {
      "cell_type": "markdown",
      "metadata": {
        "id": "erc5ANgS4S7f"
      },
      "source": [
        "$$\n",
        "\\begin{matrix}\n",
        "\\text{Input 1: text}, X_1 & \\rightarrow & \\text{embed}: E(X_1) & \\rightarrow & N_1(E(X_1)) \\\\\n",
        "  & & & & \\searrow \\\\\n",
        "  & & & &          & \\oplus \\rightarrow N_3 \\bigg( \\underbrace{N_1(E(X_1))}_\\text{text}, \\underbrace{N_2(X_2)}_\\text{func rating} \\bigg) \\\\\n",
        "  & & & & \\nearrow \\\\\n",
        "& & \\text{Input 2: function rating}, X_2 & \\rightarrow & N_2(X_2) \\\\\n",
        "\\end{matrix}\n",
        "$$"
      ]
    },
    {
      "cell_type": "markdown",
      "metadata": {
        "id": "A0FsFKI3iTye"
      },
      "source": [
        "#Import required libraries"
      ]
    },
    {
      "cell_type": "code",
      "execution_count": null,
      "metadata": {
        "id": "34RL9Ia4iT2k"
      },
      "outputs": [],
      "source": [
        "from transformers import AutoTokenizer, TFAutoModel\n",
        "import tensorflow as tf\n",
        "from tensorflow.keras.layers import Input, Dense, Concatenate, Dropout, BatchNormalization, LeakyReLU\n",
        "from tensorflow.keras.models import Model\n",
        "import numpy as np\n",
        "import pandas as pd\n",
        "import matplotlib.pyplot as plt\n",
        "from tensorflow.keras.optimizers import Adam\n",
        "from tensorflow.keras.utils import to_categorical\n",
        "from tensorflow.keras.callbacks import ReduceLROnPlateau\n",
        "from sklearn.utils.class_weight import compute_class_weight"
      ]
    },
    {
      "cell_type": "markdown",
      "metadata": {
        "id": "dfTIn6jAiX5A"
      },
      "source": [
        "# Load tokenizer and model"
      ]
    },
    {
      "cell_type": "code",
      "execution_count": null,
      "metadata": {
        "colab": {
          "base_uri": "https://localhost:8080/"
        },
        "id": "N0pZbehsluWB",
        "outputId": "f4164970-ad86-46e6-eaa9-b2803d15beb4"
      },
      "outputs": [
        {
          "output_type": "stream",
          "name": "stderr",
          "text": [
            "Note: Environment variable`HF_TOKEN` is set and is the current active token independently from the token you've just configured.\n",
            "WARNING:huggingface_hub._login:Note: Environment variable`HF_TOKEN` is set and is the current active token independently from the token you've just configured.\n"
          ]
        }
      ],
      "source": [
        "# Setting Hugging face token\n",
        "import os\n",
        "os.environ[\"HF_TOKEN\"] = \"Your HF token\" # place your HF token here\n",
        "\n",
        "from huggingface_hub import login\n",
        "login(token=os.environ[\"HF_TOKEN\"])"
      ]
    },
    {
      "cell_type": "code",
      "source": [
        "# Load tokenizer and model from sentence-transformers\n",
        "model_name = \"sentence-transformers/all-MiniLM-L12-v2\"\n",
        "tokenizer = AutoTokenizer.from_pretrained(model_name)\n",
        "bert_model = TFAutoModel.from_pretrained(model_name)"
      ],
      "metadata": {
        "colab": {
          "base_uri": "https://localhost:8080/"
        },
        "id": "D1iXxdBiYbss",
        "outputId": "74341be8-38e7-4834-9dbe-34457a2f7e62"
      },
      "execution_count": null,
      "outputs": [
        {
          "output_type": "stream",
          "name": "stderr",
          "text": [
            "Some weights of the PyTorch model were not used when initializing the TF 2.0 model TFBertModel: ['embeddings.position_ids']\n",
            "- This IS expected if you are initializing TFBertModel from a PyTorch model trained on another task or with another architecture (e.g. initializing a TFBertForSequenceClassification model from a BertForPreTraining model).\n",
            "- This IS NOT expected if you are initializing TFBertModel from a PyTorch model that you expect to be exactly identical (e.g. initializing a TFBertForSequenceClassification model from a BertForSequenceClassification model).\n",
            "All the weights of TFBertModel were initialized from the PyTorch model.\n",
            "If your task is similar to the task the model of the checkpoint was trained on, you can already use TFBertModel for predictions without further training.\n"
          ]
        }
      ]
    },
    {
      "cell_type": "markdown",
      "metadata": {
        "id": "wPaRGXn1ihXj"
      },
      "source": [
        "# Model"
      ]
    },
    {
      "cell_type": "code",
      "execution_count": null,
      "metadata": {
        "id": "qu3gR9-zihbR"
      },
      "outputs": [],
      "source": [
        "def stars_from_rating(rating):\n",
        "    return \"★\" * int(rating)\n",
        "\n",
        "def create_nn_model(bert_output_dim, num_of_dense):\n",
        "    text_input = Input(shape=(bert_output_dim,), name=\"text_input\")\n",
        "    x = text_input\n",
        "    num_neurons = 1024\n",
        "    for _ in range(num_of_dense):\n",
        "        num_neurons = max(32, int(num_neurons / 2))\n",
        "        x = Dense(num_neurons, kernel_regularizer=tf.keras.regularizers.l2(0.01))(x)\n",
        "        x = LeakyReLU(alpha=0.1)(x)\n",
        "        x = BatchNormalization()(x)\n",
        "        x = Dropout(0.5)(x)\n",
        "\n",
        "    func_rating_input = Input(shape=(1,), name=\"func_rating_input\")\n",
        "    y = Dense(16, activation='relu')(func_rating_input)\n",
        "    concatenated = Concatenate()([x, y])\n",
        "    output = Dense(5, activation='softmax', name=\"output\")(concatenated)\n",
        "\n",
        "    model = Model(inputs=[text_input, func_rating_input], outputs=output)\n",
        "    model.compile(optimizer=Adam(learning_rate=3e-4), loss='categorical_crossentropy', metrics=['accuracy'])\n",
        "    return model"
      ]
    },
    {
      "cell_type": "markdown",
      "metadata": {
        "id": "lcISiZ8kirKN"
      },
      "source": [
        "# Loading Dataset"
      ]
    },
    {
      "cell_type": "code",
      "execution_count": null,
      "metadata": {
        "id": "CQ-NI4nSirOM"
      },
      "outputs": [],
      "source": [
        "df = pd.read_csv(\"/content/Combined.csv\")"
      ]
    },
    {
      "cell_type": "code",
      "execution_count": null,
      "metadata": {
        "colab": {
          "base_uri": "https://localhost:8080/",
          "height": 206
        },
        "id": "oVFstFktmavU",
        "outputId": "3197e0e1-f89b-4fe2-b71e-b520bed5e518"
      },
      "outputs": [
        {
          "output_type": "execute_result",
          "data": {
            "text/plain": [
              "                                         user_prompt  \\\n",
              "0  I have just been on an international flight, c...   \n",
              "1        What are the benefits of a vegetarian diet?   \n",
              "2        What are the benefits of a vegetarian diet?   \n",
              "3        What are the benefits of a vegetarian diet?   \n",
              "4  How to improve mental health during stressful ...   \n",
              "\n",
              "                                        url_to_check  func_rating  \\\n",
              "0  https://www.mayoclinic.org/healthy-lifestyle/i...            2   \n",
              "1  https://www.nhs.uk/live-well/eat-well/how-to-e...            2   \n",
              "2  https://www.nhs.uk/live-well/eat-well/how-to-e...            2   \n",
              "3  https://pubmed.ncbi.nlm.nih.gov/37226630/#:~:t...            2   \n",
              "4  https://www.who.int/news-room/questions-and-an...            3   \n",
              "\n",
              "   custom_rating  \n",
              "0              3  \n",
              "1              4  \n",
              "2              2  \n",
              "3              3  \n",
              "4              3  "
            ],
            "text/html": [
              "\n",
              "  <div id=\"df-070847b9-b0c9-4ef9-8fe5-7797289a4be5\" class=\"colab-df-container\">\n",
              "    <div>\n",
              "<style scoped>\n",
              "    .dataframe tbody tr th:only-of-type {\n",
              "        vertical-align: middle;\n",
              "    }\n",
              "\n",
              "    .dataframe tbody tr th {\n",
              "        vertical-align: top;\n",
              "    }\n",
              "\n",
              "    .dataframe thead th {\n",
              "        text-align: right;\n",
              "    }\n",
              "</style>\n",
              "<table border=\"1\" class=\"dataframe\">\n",
              "  <thead>\n",
              "    <tr style=\"text-align: right;\">\n",
              "      <th></th>\n",
              "      <th>user_prompt</th>\n",
              "      <th>url_to_check</th>\n",
              "      <th>func_rating</th>\n",
              "      <th>custom_rating</th>\n",
              "    </tr>\n",
              "  </thead>\n",
              "  <tbody>\n",
              "    <tr>\n",
              "      <th>0</th>\n",
              "      <td>I have just been on an international flight, c...</td>\n",
              "      <td>https://www.mayoclinic.org/healthy-lifestyle/i...</td>\n",
              "      <td>2</td>\n",
              "      <td>3</td>\n",
              "    </tr>\n",
              "    <tr>\n",
              "      <th>1</th>\n",
              "      <td>What are the benefits of a vegetarian diet?</td>\n",
              "      <td>https://www.nhs.uk/live-well/eat-well/how-to-e...</td>\n",
              "      <td>2</td>\n",
              "      <td>4</td>\n",
              "    </tr>\n",
              "    <tr>\n",
              "      <th>2</th>\n",
              "      <td>What are the benefits of a vegetarian diet?</td>\n",
              "      <td>https://www.nhs.uk/live-well/eat-well/how-to-e...</td>\n",
              "      <td>2</td>\n",
              "      <td>2</td>\n",
              "    </tr>\n",
              "    <tr>\n",
              "      <th>3</th>\n",
              "      <td>What are the benefits of a vegetarian diet?</td>\n",
              "      <td>https://pubmed.ncbi.nlm.nih.gov/37226630/#:~:t...</td>\n",
              "      <td>2</td>\n",
              "      <td>3</td>\n",
              "    </tr>\n",
              "    <tr>\n",
              "      <th>4</th>\n",
              "      <td>How to improve mental health during stressful ...</td>\n",
              "      <td>https://www.who.int/news-room/questions-and-an...</td>\n",
              "      <td>3</td>\n",
              "      <td>3</td>\n",
              "    </tr>\n",
              "  </tbody>\n",
              "</table>\n",
              "</div>\n",
              "    <div class=\"colab-df-buttons\">\n",
              "\n",
              "  <div class=\"colab-df-container\">\n",
              "    <button class=\"colab-df-convert\" onclick=\"convertToInteractive('df-070847b9-b0c9-4ef9-8fe5-7797289a4be5')\"\n",
              "            title=\"Convert this dataframe to an interactive table.\"\n",
              "            style=\"display:none;\">\n",
              "\n",
              "  <svg xmlns=\"http://www.w3.org/2000/svg\" height=\"24px\" viewBox=\"0 -960 960 960\">\n",
              "    <path d=\"M120-120v-720h720v720H120Zm60-500h600v-160H180v160Zm220 220h160v-160H400v160Zm0 220h160v-160H400v160ZM180-400h160v-160H180v160Zm440 0h160v-160H620v160ZM180-180h160v-160H180v160Zm440 0h160v-160H620v160Z\"/>\n",
              "  </svg>\n",
              "    </button>\n",
              "\n",
              "  <style>\n",
              "    .colab-df-container {\n",
              "      display:flex;\n",
              "      gap: 12px;\n",
              "    }\n",
              "\n",
              "    .colab-df-convert {\n",
              "      background-color: #E8F0FE;\n",
              "      border: none;\n",
              "      border-radius: 50%;\n",
              "      cursor: pointer;\n",
              "      display: none;\n",
              "      fill: #1967D2;\n",
              "      height: 32px;\n",
              "      padding: 0 0 0 0;\n",
              "      width: 32px;\n",
              "    }\n",
              "\n",
              "    .colab-df-convert:hover {\n",
              "      background-color: #E2EBFA;\n",
              "      box-shadow: 0px 1px 2px rgba(60, 64, 67, 0.3), 0px 1px 3px 1px rgba(60, 64, 67, 0.15);\n",
              "      fill: #174EA6;\n",
              "    }\n",
              "\n",
              "    .colab-df-buttons div {\n",
              "      margin-bottom: 4px;\n",
              "    }\n",
              "\n",
              "    [theme=dark] .colab-df-convert {\n",
              "      background-color: #3B4455;\n",
              "      fill: #D2E3FC;\n",
              "    }\n",
              "\n",
              "    [theme=dark] .colab-df-convert:hover {\n",
              "      background-color: #434B5C;\n",
              "      box-shadow: 0px 1px 3px 1px rgba(0, 0, 0, 0.15);\n",
              "      filter: drop-shadow(0px 1px 2px rgba(0, 0, 0, 0.3));\n",
              "      fill: #FFFFFF;\n",
              "    }\n",
              "  </style>\n",
              "\n",
              "    <script>\n",
              "      const buttonEl =\n",
              "        document.querySelector('#df-070847b9-b0c9-4ef9-8fe5-7797289a4be5 button.colab-df-convert');\n",
              "      buttonEl.style.display =\n",
              "        google.colab.kernel.accessAllowed ? 'block' : 'none';\n",
              "\n",
              "      async function convertToInteractive(key) {\n",
              "        const element = document.querySelector('#df-070847b9-b0c9-4ef9-8fe5-7797289a4be5');\n",
              "        const dataTable =\n",
              "          await google.colab.kernel.invokeFunction('convertToInteractive',\n",
              "                                                    [key], {});\n",
              "        if (!dataTable) return;\n",
              "\n",
              "        const docLinkHtml = 'Like what you see? Visit the ' +\n",
              "          '<a target=\"_blank\" href=https://colab.research.google.com/notebooks/data_table.ipynb>data table notebook</a>'\n",
              "          + ' to learn more about interactive tables.';\n",
              "        element.innerHTML = '';\n",
              "        dataTable['output_type'] = 'display_data';\n",
              "        await google.colab.output.renderOutput(dataTable, element);\n",
              "        const docLink = document.createElement('div');\n",
              "        docLink.innerHTML = docLinkHtml;\n",
              "        element.appendChild(docLink);\n",
              "      }\n",
              "    </script>\n",
              "  </div>\n",
              "\n",
              "\n",
              "<div id=\"df-dc598d64-8c0d-4f90-ad40-6d9c367556ae\">\n",
              "  <button class=\"colab-df-quickchart\" onclick=\"quickchart('df-dc598d64-8c0d-4f90-ad40-6d9c367556ae')\"\n",
              "            title=\"Suggest charts\"\n",
              "            style=\"display:none;\">\n",
              "\n",
              "<svg xmlns=\"http://www.w3.org/2000/svg\" height=\"24px\"viewBox=\"0 0 24 24\"\n",
              "     width=\"24px\">\n",
              "    <g>\n",
              "        <path d=\"M19 3H5c-1.1 0-2 .9-2 2v14c0 1.1.9 2 2 2h14c1.1 0 2-.9 2-2V5c0-1.1-.9-2-2-2zM9 17H7v-7h2v7zm4 0h-2V7h2v10zm4 0h-2v-4h2v4z\"/>\n",
              "    </g>\n",
              "</svg>\n",
              "  </button>\n",
              "\n",
              "<style>\n",
              "  .colab-df-quickchart {\n",
              "      --bg-color: #E8F0FE;\n",
              "      --fill-color: #1967D2;\n",
              "      --hover-bg-color: #E2EBFA;\n",
              "      --hover-fill-color: #174EA6;\n",
              "      --disabled-fill-color: #AAA;\n",
              "      --disabled-bg-color: #DDD;\n",
              "  }\n",
              "\n",
              "  [theme=dark] .colab-df-quickchart {\n",
              "      --bg-color: #3B4455;\n",
              "      --fill-color: #D2E3FC;\n",
              "      --hover-bg-color: #434B5C;\n",
              "      --hover-fill-color: #FFFFFF;\n",
              "      --disabled-bg-color: #3B4455;\n",
              "      --disabled-fill-color: #666;\n",
              "  }\n",
              "\n",
              "  .colab-df-quickchart {\n",
              "    background-color: var(--bg-color);\n",
              "    border: none;\n",
              "    border-radius: 50%;\n",
              "    cursor: pointer;\n",
              "    display: none;\n",
              "    fill: var(--fill-color);\n",
              "    height: 32px;\n",
              "    padding: 0;\n",
              "    width: 32px;\n",
              "  }\n",
              "\n",
              "  .colab-df-quickchart:hover {\n",
              "    background-color: var(--hover-bg-color);\n",
              "    box-shadow: 0 1px 2px rgba(60, 64, 67, 0.3), 0 1px 3px 1px rgba(60, 64, 67, 0.15);\n",
              "    fill: var(--button-hover-fill-color);\n",
              "  }\n",
              "\n",
              "  .colab-df-quickchart-complete:disabled,\n",
              "  .colab-df-quickchart-complete:disabled:hover {\n",
              "    background-color: var(--disabled-bg-color);\n",
              "    fill: var(--disabled-fill-color);\n",
              "    box-shadow: none;\n",
              "  }\n",
              "\n",
              "  .colab-df-spinner {\n",
              "    border: 2px solid var(--fill-color);\n",
              "    border-color: transparent;\n",
              "    border-bottom-color: var(--fill-color);\n",
              "    animation:\n",
              "      spin 1s steps(1) infinite;\n",
              "  }\n",
              "\n",
              "  @keyframes spin {\n",
              "    0% {\n",
              "      border-color: transparent;\n",
              "      border-bottom-color: var(--fill-color);\n",
              "      border-left-color: var(--fill-color);\n",
              "    }\n",
              "    20% {\n",
              "      border-color: transparent;\n",
              "      border-left-color: var(--fill-color);\n",
              "      border-top-color: var(--fill-color);\n",
              "    }\n",
              "    30% {\n",
              "      border-color: transparent;\n",
              "      border-left-color: var(--fill-color);\n",
              "      border-top-color: var(--fill-color);\n",
              "      border-right-color: var(--fill-color);\n",
              "    }\n",
              "    40% {\n",
              "      border-color: transparent;\n",
              "      border-right-color: var(--fill-color);\n",
              "      border-top-color: var(--fill-color);\n",
              "    }\n",
              "    60% {\n",
              "      border-color: transparent;\n",
              "      border-right-color: var(--fill-color);\n",
              "    }\n",
              "    80% {\n",
              "      border-color: transparent;\n",
              "      border-right-color: var(--fill-color);\n",
              "      border-bottom-color: var(--fill-color);\n",
              "    }\n",
              "    90% {\n",
              "      border-color: transparent;\n",
              "      border-bottom-color: var(--fill-color);\n",
              "    }\n",
              "  }\n",
              "</style>\n",
              "\n",
              "  <script>\n",
              "    async function quickchart(key) {\n",
              "      const quickchartButtonEl =\n",
              "        document.querySelector('#' + key + ' button');\n",
              "      quickchartButtonEl.disabled = true;  // To prevent multiple clicks.\n",
              "      quickchartButtonEl.classList.add('colab-df-spinner');\n",
              "      try {\n",
              "        const charts = await google.colab.kernel.invokeFunction(\n",
              "            'suggestCharts', [key], {});\n",
              "      } catch (error) {\n",
              "        console.error('Error during call to suggestCharts:', error);\n",
              "      }\n",
              "      quickchartButtonEl.classList.remove('colab-df-spinner');\n",
              "      quickchartButtonEl.classList.add('colab-df-quickchart-complete');\n",
              "    }\n",
              "    (() => {\n",
              "      let quickchartButtonEl =\n",
              "        document.querySelector('#df-dc598d64-8c0d-4f90-ad40-6d9c367556ae button');\n",
              "      quickchartButtonEl.style.display =\n",
              "        google.colab.kernel.accessAllowed ? 'block' : 'none';\n",
              "    })();\n",
              "  </script>\n",
              "</div>\n",
              "\n",
              "    </div>\n",
              "  </div>\n"
            ],
            "application/vnd.google.colaboratory.intrinsic+json": {
              "type": "dataframe",
              "variable_name": "df",
              "summary": "{\n  \"name\": \"df\",\n  \"rows\": 282,\n  \"fields\": [\n    {\n      \"column\": \"user_prompt\",\n      \"properties\": {\n        \"dtype\": \"string\",\n        \"num_unique_values\": 240,\n        \"samples\": [\n          \"deep learning sleep algorithm details and its working\",\n          \"How does climate change impact global weather?\",\n          \"\\\"Is it safe to do strength training exercises during pregnancy?\\\"\"\n        ],\n        \"semantic_type\": \"\",\n        \"description\": \"\"\n      }\n    },\n    {\n      \"column\": \"url_to_check\",\n      \"properties\": {\n        \"dtype\": \"string\",\n        \"num_unique_values\": 262,\n        \"samples\": [\n          \"https://www.psychologytoday.com/us/articles/201803/how-stop-self-sabotage\",\n          \"https://www.psychologytoday.com/us/articles/201608/how-to-stop-procrastinating\",\n          \"https://www.cdc.gov/nchs/fastats/heart-disease.htm\"\n        ],\n        \"semantic_type\": \"\",\n        \"description\": \"\"\n      }\n    },\n    {\n      \"column\": \"func_rating\",\n      \"properties\": {\n        \"dtype\": \"number\",\n        \"std\": 0,\n        \"min\": 0,\n        \"max\": 5,\n        \"num_unique_values\": 6,\n        \"samples\": [\n          2,\n          3,\n          0\n        ],\n        \"semantic_type\": \"\",\n        \"description\": \"\"\n      }\n    },\n    {\n      \"column\": \"custom_rating\",\n      \"properties\": {\n        \"dtype\": \"number\",\n        \"std\": 1,\n        \"min\": 0,\n        \"max\": 5,\n        \"num_unique_values\": 6,\n        \"samples\": [\n          3,\n          4,\n          0\n        ],\n        \"semantic_type\": \"\",\n        \"description\": \"\"\n      }\n    }\n  ]\n}"
            }
          },
          "metadata": {},
          "execution_count": 28
        }
      ],
      "source": [
        "df.head()"
      ]
    },
    {
      "cell_type": "markdown",
      "metadata": {
        "id": "ZT50BsVvivtE"
      },
      "source": [
        "# Encoding the given data and verfying the dimensionality/Shape"
      ]
    },
    {
      "cell_type": "code",
      "execution_count": null,
      "metadata": {
        "id": "-HgR-bdLivvz"
      },
      "outputs": [],
      "source": [
        "# Tokenize and prepare data using Sentence Transformers\n",
        "encoded_inputs = tokenizer(df[\"user_prompt\"].tolist(), padding=True, truncation=True, return_tensors=\"np\")\n",
        "X_text = bert_model(encoded_inputs['input_ids'])[0][:, 0, :].numpy()\n",
        "X_numeric = np.array(df[\"func_rating\"]).reshape(-1, 1)\n",
        "y = df[\"custom_rating\"].values - 1\n",
        "y_one_hot = to_categorical(y, num_classes=5)\n",
        "\n",
        "# Compute class weights\n",
        "class_weights = compute_class_weight('balanced', classes=np.unique(y), y=y.flatten())\n",
        "class_weight_dict = {i: class_weights[i] for i in range(5)}"
      ]
    },
    {
      "cell_type": "markdown",
      "metadata": {
        "id": "JYj2i9o7jLSa"
      },
      "source": [
        "#Creating and training the model"
      ]
    },
    {
      "cell_type": "code",
      "execution_count": null,
      "metadata": {
        "colab": {
          "base_uri": "https://localhost:8080/"
        },
        "id": "d8jcoMnyjLZh",
        "outputId": "6803adc5-463d-4d64-d415-ddc36b02db6c"
      },
      "outputs": [
        {
          "output_type": "stream",
          "name": "stdout",
          "text": [
            "Epoch 1/60\n"
          ]
        },
        {
          "output_type": "stream",
          "name": "stderr",
          "text": [
            "/usr/local/lib/python3.11/dist-packages/keras/src/layers/activations/leaky_relu.py:41: UserWarning: Argument `alpha` is deprecated. Use `negative_slope` instead.\n",
            "  warnings.warn(\n"
          ]
        },
        {
          "output_type": "stream",
          "name": "stdout",
          "text": [
            "32/32 - 5s - 144ms/step - accuracy: 0.1818 - loss: 13.2955 - val_accuracy: 0.0690 - val_loss: 11.0481 - learning_rate: 3.0000e-04\n",
            "Epoch 2/60\n",
            "32/32 - 1s - 29ms/step - accuracy: 0.2688 - loss: 12.8457 - val_accuracy: 0.2414 - val_loss: 10.9448 - learning_rate: 3.0000e-04\n",
            "Epoch 3/60\n",
            "32/32 - 1s - 18ms/step - accuracy: 0.2846 - loss: 12.8797 - val_accuracy: 0.2414 - val_loss: 10.8910 - learning_rate: 3.0000e-04\n",
            "Epoch 4/60\n",
            "32/32 - 1s - 20ms/step - accuracy: 0.3004 - loss: 12.4130 - val_accuracy: 0.5172 - val_loss: 10.7811 - learning_rate: 3.0000e-04\n",
            "Epoch 5/60\n",
            "32/32 - 0s - 11ms/step - accuracy: 0.2925 - loss: 12.2475 - val_accuracy: 0.5517 - val_loss: 10.7111 - learning_rate: 3.0000e-04\n",
            "Epoch 6/60\n",
            "32/32 - 0s - 13ms/step - accuracy: 0.3953 - loss: 11.6460 - val_accuracy: 0.6207 - val_loss: 10.6197 - learning_rate: 3.0000e-04\n",
            "Epoch 7/60\n",
            "32/32 - 1s - 18ms/step - accuracy: 0.3992 - loss: 11.7963 - val_accuracy: 0.6552 - val_loss: 10.5406 - learning_rate: 3.0000e-04\n",
            "Epoch 8/60\n",
            "32/32 - 0s - 12ms/step - accuracy: 0.4308 - loss: 11.5094 - val_accuracy: 0.7241 - val_loss: 10.4141 - learning_rate: 3.0000e-04\n",
            "Epoch 9/60\n",
            "32/32 - 0s - 10ms/step - accuracy: 0.4269 - loss: 11.3643 - val_accuracy: 0.7241 - val_loss: 10.3513 - learning_rate: 3.0000e-04\n",
            "Epoch 10/60\n",
            "32/32 - 1s - 22ms/step - accuracy: 0.4032 - loss: 11.3921 - val_accuracy: 0.7241 - val_loss: 10.2392 - learning_rate: 3.0000e-04\n",
            "Epoch 11/60\n",
            "32/32 - 1s - 26ms/step - accuracy: 0.4111 - loss: 11.5067 - val_accuracy: 0.7241 - val_loss: 10.1680 - learning_rate: 3.0000e-04\n",
            "Epoch 12/60\n",
            "32/32 - 1s - 38ms/step - accuracy: 0.4506 - loss: 11.1560 - val_accuracy: 0.7241 - val_loss: 10.0799 - learning_rate: 3.0000e-04\n",
            "Epoch 13/60\n",
            "32/32 - 0s - 11ms/step - accuracy: 0.4427 - loss: 11.2576 - val_accuracy: 0.7241 - val_loss: 10.0537 - learning_rate: 3.0000e-04\n",
            "Epoch 14/60\n",
            "32/32 - 1s - 21ms/step - accuracy: 0.5099 - loss: 10.8870 - val_accuracy: 0.7241 - val_loss: 9.9426 - learning_rate: 3.0000e-04\n",
            "Epoch 15/60\n",
            "32/32 - 1s - 20ms/step - accuracy: 0.4625 - loss: 11.0692 - val_accuracy: 0.7241 - val_loss: 9.8845 - learning_rate: 3.0000e-04\n",
            "Epoch 16/60\n",
            "32/32 - 0s - 11ms/step - accuracy: 0.5059 - loss: 10.8550 - val_accuracy: 0.7241 - val_loss: 9.8112 - learning_rate: 3.0000e-04\n",
            "Epoch 17/60\n",
            "32/32 - 0s - 11ms/step - accuracy: 0.4862 - loss: 10.6630 - val_accuracy: 0.7241 - val_loss: 9.7305 - learning_rate: 3.0000e-04\n",
            "Epoch 18/60\n",
            "32/32 - 1s - 21ms/step - accuracy: 0.4901 - loss: 10.9791 - val_accuracy: 0.6897 - val_loss: 9.7010 - learning_rate: 3.0000e-04\n",
            "Epoch 19/60\n",
            "32/32 - 1s - 19ms/step - accuracy: 0.5020 - loss: 10.7670 - val_accuracy: 0.7241 - val_loss: 9.6742 - learning_rate: 3.0000e-04\n",
            "Epoch 20/60\n",
            "32/32 - 0s - 12ms/step - accuracy: 0.5217 - loss: 10.5771 - val_accuracy: 0.7241 - val_loss: 9.6619 - learning_rate: 3.0000e-04\n",
            "Epoch 21/60\n",
            "32/32 - 0s - 11ms/step - accuracy: 0.5731 - loss: 10.2582 - val_accuracy: 0.6897 - val_loss: 9.6000 - learning_rate: 3.0000e-04\n",
            "Epoch 22/60\n",
            "32/32 - 1s - 20ms/step - accuracy: 0.5059 - loss: 10.3968 - val_accuracy: 0.6897 - val_loss: 9.5269 - learning_rate: 3.0000e-04\n",
            "Epoch 23/60\n",
            "32/32 - 0s - 11ms/step - accuracy: 0.5217 - loss: 10.3751 - val_accuracy: 0.6897 - val_loss: 9.4936 - learning_rate: 3.0000e-04\n",
            "Epoch 24/60\n",
            "32/32 - 0s - 10ms/step - accuracy: 0.4901 - loss: 10.2741 - val_accuracy: 0.7241 - val_loss: 9.4541 - learning_rate: 3.0000e-04\n",
            "Epoch 25/60\n",
            "32/32 - 1s - 20ms/step - accuracy: 0.5138 - loss: 10.1182 - val_accuracy: 0.6897 - val_loss: 9.3798 - learning_rate: 3.0000e-04\n",
            "Epoch 26/60\n",
            "32/32 - 1s - 20ms/step - accuracy: 0.5296 - loss: 10.0884 - val_accuracy: 0.6897 - val_loss: 9.3257 - learning_rate: 3.0000e-04\n",
            "Epoch 27/60\n",
            "32/32 - 1s - 20ms/step - accuracy: 0.5692 - loss: 10.0916 - val_accuracy: 0.6897 - val_loss: 9.2801 - learning_rate: 3.0000e-04\n",
            "Epoch 28/60\n",
            "32/32 - 1s - 18ms/step - accuracy: 0.5692 - loss: 9.8972 - val_accuracy: 0.7241 - val_loss: 9.2149 - learning_rate: 3.0000e-04\n",
            "Epoch 29/60\n",
            "32/32 - 1s - 20ms/step - accuracy: 0.5455 - loss: 9.9344 - val_accuracy: 0.7586 - val_loss: 9.2339 - learning_rate: 3.0000e-04\n",
            "Epoch 30/60\n",
            "32/32 - 0s - 14ms/step - accuracy: 0.5731 - loss: 9.7347 - val_accuracy: 0.7586 - val_loss: 9.1992 - learning_rate: 3.0000e-04\n",
            "Epoch 31/60\n",
            "32/32 - 1s - 18ms/step - accuracy: 0.5850 - loss: 9.6740 - val_accuracy: 0.7586 - val_loss: 9.1071 - learning_rate: 3.0000e-04\n",
            "Epoch 32/60\n",
            "32/32 - 1s - 18ms/step - accuracy: 0.6008 - loss: 9.6113 - val_accuracy: 0.7241 - val_loss: 9.0295 - learning_rate: 3.0000e-04\n",
            "Epoch 33/60\n",
            "32/32 - 1s - 21ms/step - accuracy: 0.6008 - loss: 9.4576 - val_accuracy: 0.6897 - val_loss: 9.0010 - learning_rate: 3.0000e-04\n",
            "Epoch 34/60\n",
            "32/32 - 1s - 39ms/step - accuracy: 0.5573 - loss: 9.6025 - val_accuracy: 0.7241 - val_loss: 8.9588 - learning_rate: 3.0000e-04\n",
            "Epoch 35/60\n",
            "32/32 - 0s - 11ms/step - accuracy: 0.5573 - loss: 9.5602 - val_accuracy: 0.6897 - val_loss: 8.9419 - learning_rate: 3.0000e-04\n",
            "Epoch 36/60\n",
            "32/32 - 1s - 20ms/step - accuracy: 0.5534 - loss: 9.5819 - val_accuracy: 0.7241 - val_loss: 8.8669 - learning_rate: 3.0000e-04\n",
            "Epoch 37/60\n",
            "32/32 - 0s - 11ms/step - accuracy: 0.5810 - loss: 9.4616 - val_accuracy: 0.6897 - val_loss: 8.8442 - learning_rate: 3.0000e-04\n",
            "Epoch 38/60\n",
            "32/32 - 0s - 12ms/step - accuracy: 0.5652 - loss: 9.3318 - val_accuracy: 0.7241 - val_loss: 8.8086 - learning_rate: 3.0000e-04\n",
            "Epoch 39/60\n",
            "32/32 - 1s - 19ms/step - accuracy: 0.5889 - loss: 9.2626 - val_accuracy: 0.7586 - val_loss: 8.7411 - learning_rate: 3.0000e-04\n",
            "Epoch 40/60\n",
            "32/32 - 0s - 10ms/step - accuracy: 0.5889 - loss: 9.1095 - val_accuracy: 0.7241 - val_loss: 8.7018 - learning_rate: 3.0000e-04\n",
            "Epoch 41/60\n",
            "32/32 - 1s - 20ms/step - accuracy: 0.5573 - loss: 9.3079 - val_accuracy: 0.7241 - val_loss: 8.6668 - learning_rate: 3.0000e-04\n",
            "Epoch 42/60\n",
            "32/32 - 0s - 11ms/step - accuracy: 0.6206 - loss: 9.0515 - val_accuracy: 0.6897 - val_loss: 8.6317 - learning_rate: 3.0000e-04\n",
            "Epoch 43/60\n",
            "32/32 - 0s - 11ms/step - accuracy: 0.6008 - loss: 9.1634 - val_accuracy: 0.7241 - val_loss: 8.6657 - learning_rate: 3.0000e-04\n",
            "Epoch 44/60\n",
            "32/32 - 0s - 11ms/step - accuracy: 0.5889 - loss: 8.9504 - val_accuracy: 0.7241 - val_loss: 8.6110 - learning_rate: 3.0000e-04\n",
            "Epoch 45/60\n",
            "32/32 - 0s - 11ms/step - accuracy: 0.5889 - loss: 9.0213 - val_accuracy: 0.7241 - val_loss: 8.5550 - learning_rate: 3.0000e-04\n",
            "Epoch 46/60\n",
            "32/32 - 0s - 11ms/step - accuracy: 0.6087 - loss: 8.9699 - val_accuracy: 0.6897 - val_loss: 8.4927 - learning_rate: 3.0000e-04\n",
            "Epoch 47/60\n",
            "32/32 - 0s - 12ms/step - accuracy: 0.5771 - loss: 8.8617 - val_accuracy: 0.6897 - val_loss: 8.4713 - learning_rate: 3.0000e-04\n",
            "Epoch 48/60\n",
            "32/32 - 1s - 19ms/step - accuracy: 0.6087 - loss: 8.8189 - val_accuracy: 0.6897 - val_loss: 8.4407 - learning_rate: 3.0000e-04\n",
            "Epoch 49/60\n",
            "32/32 - 1s - 18ms/step - accuracy: 0.5929 - loss: 8.6585 - val_accuracy: 0.7241 - val_loss: 8.3629 - learning_rate: 3.0000e-04\n",
            "Epoch 50/60\n",
            "32/32 - 1s - 20ms/step - accuracy: 0.6166 - loss: 8.7297 - val_accuracy: 0.7586 - val_loss: 8.3319 - learning_rate: 3.0000e-04\n",
            "Epoch 51/60\n",
            "32/32 - 1s - 20ms/step - accuracy: 0.5929 - loss: 8.7193 - val_accuracy: 0.7586 - val_loss: 8.2464 - learning_rate: 3.0000e-04\n",
            "Epoch 52/60\n",
            "32/32 - 0s - 12ms/step - accuracy: 0.5652 - loss: 8.7657 - val_accuracy: 0.7241 - val_loss: 8.1682 - learning_rate: 3.0000e-04\n",
            "Epoch 53/60\n",
            "32/32 - 0s - 11ms/step - accuracy: 0.6482 - loss: 8.3383 - val_accuracy: 0.7241 - val_loss: 8.1266 - learning_rate: 3.0000e-04\n",
            "Epoch 54/60\n",
            "32/32 - 1s - 20ms/step - accuracy: 0.6126 - loss: 8.4506 - val_accuracy: 0.7241 - val_loss: 8.0694 - learning_rate: 3.0000e-04\n",
            "Epoch 55/60\n",
            "32/32 - 1s - 19ms/step - accuracy: 0.6245 - loss: 8.3670 - val_accuracy: 0.7241 - val_loss: 8.0564 - learning_rate: 3.0000e-04\n",
            "Epoch 56/60\n",
            "32/32 - 1s - 25ms/step - accuracy: 0.6206 - loss: 8.5772 - val_accuracy: 0.6897 - val_loss: 8.0415 - learning_rate: 3.0000e-04\n",
            "Epoch 57/60\n",
            "32/32 - 1s - 21ms/step - accuracy: 0.6206 - loss: 8.3583 - val_accuracy: 0.6897 - val_loss: 7.9877 - learning_rate: 3.0000e-04\n",
            "Epoch 58/60\n",
            "32/32 - 1s - 30ms/step - accuracy: 0.6206 - loss: 8.3031 - val_accuracy: 0.6897 - val_loss: 7.9321 - learning_rate: 3.0000e-04\n",
            "Epoch 59/60\n",
            "32/32 - 1s - 21ms/step - accuracy: 0.6047 - loss: 8.0585 - val_accuracy: 0.7241 - val_loss: 7.8686 - learning_rate: 3.0000e-04\n",
            "Epoch 60/60\n",
            "32/32 - 0s - 13ms/step - accuracy: 0.5850 - loss: 8.2484 - val_accuracy: 0.7241 - val_loss: 7.8512 - learning_rate: 3.0000e-04\n"
          ]
        }
      ],
      "source": [
        "# Create and train the model\n",
        "num_of_dense_layers = 3\n",
        "bert_output_dim = X_text.shape[1]\n",
        "model = create_nn_model(bert_output_dim, num_of_dense_layers)\n",
        "\n",
        "# Learning rate scheduler\n",
        "lr_scheduler = ReduceLROnPlateau(monitor='val_loss', factor=0.5, patience=3, min_lr=1e-7, verbose=1)\n",
        "\n",
        "history = model.fit(\n",
        "    {\"text_input\": X_text, \"func_rating_input\": X_numeric},\n",
        "    y_one_hot,\n",
        "    epochs=60,\n",
        "    batch_size=8,\n",
        "    validation_split=0.1,\n",
        "    verbose=2,\n",
        "    callbacks=[lr_scheduler],\n",
        "    class_weight=class_weight_dict\n",
        ")"
      ]
    },
    {
      "cell_type": "markdown",
      "metadata": {
        "id": "T0Ah6BTljXI2"
      },
      "source": [
        "# Plotting training and validation loss"
      ]
    },
    {
      "cell_type": "code",
      "execution_count": null,
      "metadata": {
        "colab": {
          "base_uri": "https://localhost:8080/",
          "height": 472
        },
        "id": "NJqLENfBjXL6",
        "outputId": "da8e3c08-5781-4535-cbdc-720f448408b7"
      },
      "outputs": [
        {
          "output_type": "display_data",
          "data": {
            "text/plain": [
              "<Figure size 640x480 with 1 Axes>"
            ],
            "image/png": "[encoded data removed]"
          },
          "metadata": {}
        }
      ],
      "source": [
        "# Plot training and validation loss\n",
        "plt.plot(history.history['loss'], label='Training Loss')\n",
        "plt.plot(history.history['val_loss'], label='Validation Loss')\n",
        "plt.xlabel('Epochs')\n",
        "plt.ylabel('Loss')\n",
        "plt.title('Training and Validation Loss')\n",
        "plt.legend()\n",
        "plt.show()\n",
        "\n"
      ]
    },
    {
      "cell_type": "code",
      "execution_count": null,
      "metadata": {
        "colab": {
          "base_uri": "https://localhost:8080/"
        },
        "id": "wrnn5mO_XGrV",
        "outputId": "2cba315b-3ffe-46b4-ca8c-d9c7bc066365"
      },
      "outputs": [
        {
          "output_type": "stream",
          "name": "stdout",
          "text": [
            "Final Training Accuracy: 58.50%\n",
            "Final Validation Accuracy: 72.41%\n"
          ]
        }
      ],
      "source": [
        "# Compute Accuracy\n",
        "train_acc = history.history['accuracy'][-1]\n",
        "val_acc = history.history['val_accuracy'][-1]\n",
        "print(f\"Final Training Accuracy: {train_acc * 100:.2f}%\")\n",
        "print(f\"Final Validation Accuracy: {val_acc * 100:.2f}%\")"
      ]
    },
    {
      "cell_type": "code",
      "execution_count": null,
      "metadata": {
        "colab": {
          "base_uri": "https://localhost:8080/",
          "height": 769
        },
        "id": "gYXHAb6QWhNp",
        "outputId": "fb3bed27-6487-45b9-92b4-6f86045280fa"
      },
      "outputs": [
        {
          "output_type": "display_data",
          "data": {
            "text/plain": [
              "\u001b[1mModel: \"functional_2\"\u001b[0m\n"
            ],
            "text/html": [
              "<pre style=\"white-space:pre;overflow-x:auto;line-height:normal;font-family:Menlo,'DejaVu Sans Mono',consolas,'Courier New',monospace\"><span style=\"font-weight: bold\">Model: \"functional_2\"</span>\n",
              "</pre>\n"
            ]
          },
          "metadata": {}
        },
        {
          "output_type": "display_data",
          "data": {
            "text/plain": [
              "┏━━━━━━━━━━━━━━━━━━━━━━━━━━━┳━━━━━━━━━━━━━━━━━━━━━━━━┳━━━━━━━━━━━━━━━━┳━━━━━━━━━━━━━━━━━━━━━━━━┓\n",
              "┃\u001b[1m \u001b[0m\u001b[1mLayer (type)             \u001b[0m\u001b[1m \u001b[0m┃\u001b[1m \u001b[0m\u001b[1mOutput Shape          \u001b[0m\u001b[1m \u001b[0m┃\u001b[1m \u001b[0m\u001b[1m       Param #\u001b[0m\u001b[1m \u001b[0m┃\u001b[1m \u001b[0m\u001b[1mConnected to          \u001b[0m\u001b[1m \u001b[0m┃\n",
              "┡━━━━━━━━━━━━━━━━━━━━━━━━━━━╇━━━━━━━━━━━━━━━━━━━━━━━━╇━━━━━━━━━━━━━━━━╇━━━━━━━━━━━━━━━━━━━━━━━━┩\n",
              "│ text_input (\u001b[38;5;33mInputLayer\u001b[0m)   │ (\u001b[38;5;45mNone\u001b[0m, \u001b[38;5;34m384\u001b[0m)            │              \u001b[38;5;34m0\u001b[0m │ -                      │\n",
              "├───────────────────────────┼────────────────────────┼────────────────┼────────────────────────┤\n",
              "│ dense_8 (\u001b[38;5;33mDense\u001b[0m)           │ (\u001b[38;5;45mNone\u001b[0m, \u001b[38;5;34m512\u001b[0m)            │        \u001b[38;5;34m197,120\u001b[0m │ text_input[\u001b[38;5;34m0\u001b[0m][\u001b[38;5;34m0\u001b[0m]       │\n",
              "├───────────────────────────┼────────────────────────┼────────────────┼────────────────────────┤\n",
              "│ leaky_re_lu_6 (\u001b[38;5;33mLeakyReLU\u001b[0m) │ (\u001b[38;5;45mNone\u001b[0m, \u001b[38;5;34m512\u001b[0m)            │              \u001b[38;5;34m0\u001b[0m │ dense_8[\u001b[38;5;34m0\u001b[0m][\u001b[38;5;34m0\u001b[0m]          │\n",
              "├───────────────────────────┼────────────────────────┼────────────────┼────────────────────────┤\n",
              "│ batch_normalization_6     │ (\u001b[38;5;45mNone\u001b[0m, \u001b[38;5;34m512\u001b[0m)            │          \u001b[38;5;34m2,048\u001b[0m │ leaky_re_lu_6[\u001b[38;5;34m0\u001b[0m][\u001b[38;5;34m0\u001b[0m]    │\n",
              "│ (\u001b[38;5;33mBatchNormalization\u001b[0m)      │                        │                │                        │\n",
              "├───────────────────────────┼────────────────────────┼────────────────┼────────────────────────┤\n",
              "│ dropout_6 (\u001b[38;5;33mDropout\u001b[0m)       │ (\u001b[38;5;45mNone\u001b[0m, \u001b[38;5;34m512\u001b[0m)            │              \u001b[38;5;34m0\u001b[0m │ batch_normalization_6… │\n",
              "├───────────────────────────┼────────────────────────┼────────────────┼────────────────────────┤\n",
              "│ dense_9 (\u001b[38;5;33mDense\u001b[0m)           │ (\u001b[38;5;45mNone\u001b[0m, \u001b[38;5;34m256\u001b[0m)            │        \u001b[38;5;34m131,328\u001b[0m │ dropout_6[\u001b[38;5;34m0\u001b[0m][\u001b[38;5;34m0\u001b[0m]        │\n",
              "├───────────────────────────┼────────────────────────┼────────────────┼────────────────────────┤\n",
              "│ leaky_re_lu_7 (\u001b[38;5;33mLeakyReLU\u001b[0m) │ (\u001b[38;5;45mNone\u001b[0m, \u001b[38;5;34m256\u001b[0m)            │              \u001b[38;5;34m0\u001b[0m │ dense_9[\u001b[38;5;34m0\u001b[0m][\u001b[38;5;34m0\u001b[0m]          │\n",
              "├───────────────────────────┼────────────────────────┼────────────────┼────────────────────────┤\n",
              "│ batch_normalization_7     │ (\u001b[38;5;45mNone\u001b[0m, \u001b[38;5;34m256\u001b[0m)            │          \u001b[38;5;34m1,024\u001b[0m │ leaky_re_lu_7[\u001b[38;5;34m0\u001b[0m][\u001b[38;5;34m0\u001b[0m]    │\n",
              "│ (\u001b[38;5;33mBatchNormalization\u001b[0m)      │                        │                │                        │\n",
              "├───────────────────────────┼────────────────────────┼────────────────┼────────────────────────┤\n",
              "│ dropout_7 (\u001b[38;5;33mDropout\u001b[0m)       │ (\u001b[38;5;45mNone\u001b[0m, \u001b[38;5;34m256\u001b[0m)            │              \u001b[38;5;34m0\u001b[0m │ batch_normalization_7… │\n",
              "├───────────────────────────┼────────────────────────┼────────────────┼────────────────────────┤\n",
              "│ dense_10 (\u001b[38;5;33mDense\u001b[0m)          │ (\u001b[38;5;45mNone\u001b[0m, \u001b[38;5;34m128\u001b[0m)            │         \u001b[38;5;34m32,896\u001b[0m │ dropout_7[\u001b[38;5;34m0\u001b[0m][\u001b[38;5;34m0\u001b[0m]        │\n",
              "├───────────────────────────┼────────────────────────┼────────────────┼────────────────────────┤\n",
              "│ leaky_re_lu_8 (\u001b[38;5;33mLeakyReLU\u001b[0m) │ (\u001b[38;5;45mNone\u001b[0m, \u001b[38;5;34m128\u001b[0m)            │              \u001b[38;5;34m0\u001b[0m │ dense_10[\u001b[38;5;34m0\u001b[0m][\u001b[38;5;34m0\u001b[0m]         │\n",
              "├───────────────────────────┼────────────────────────┼────────────────┼────────────────────────┤\n",
              "│ batch_normalization_8     │ (\u001b[38;5;45mNone\u001b[0m, \u001b[38;5;34m128\u001b[0m)            │            \u001b[38;5;34m512\u001b[0m │ leaky_re_lu_8[\u001b[38;5;34m0\u001b[0m][\u001b[38;5;34m0\u001b[0m]    │\n",
              "│ (\u001b[38;5;33mBatchNormalization\u001b[0m)      │                        │                │                        │\n",
              "├───────────────────────────┼────────────────────────┼────────────────┼────────────────────────┤\n",
              "│ func_rating_input         │ (\u001b[38;5;45mNone\u001b[0m, \u001b[38;5;34m1\u001b[0m)              │              \u001b[38;5;34m0\u001b[0m │ -                      │\n",
              "│ (\u001b[38;5;33mInputLayer\u001b[0m)              │                        │                │                        │\n",
              "├───────────────────────────┼────────────────────────┼────────────────┼────────────────────────┤\n",
              "│ dropout_8 (\u001b[38;5;33mDropout\u001b[0m)       │ (\u001b[38;5;45mNone\u001b[0m, \u001b[38;5;34m128\u001b[0m)            │              \u001b[38;5;34m0\u001b[0m │ batch_normalization_8… │\n",
              "├───────────────────────────┼────────────────────────┼────────────────┼────────────────────────┤\n",
              "│ dense_11 (\u001b[38;5;33mDense\u001b[0m)          │ (\u001b[38;5;45mNone\u001b[0m, \u001b[38;5;34m16\u001b[0m)             │             \u001b[38;5;34m32\u001b[0m │ func_rating_input[\u001b[38;5;34m0\u001b[0m][\u001b[38;5;34m…\u001b[0m │\n",
              "├───────────────────────────┼────────────────────────┼────────────────┼────────────────────────┤\n",
              "│ concatenate_2             │ (\u001b[38;5;45mNone\u001b[0m, \u001b[38;5;34m144\u001b[0m)            │              \u001b[38;5;34m0\u001b[0m │ dropout_8[\u001b[38;5;34m0\u001b[0m][\u001b[38;5;34m0\u001b[0m],       │\n",
              "│ (\u001b[38;5;33mConcatenate\u001b[0m)             │                        │                │ dense_11[\u001b[38;5;34m0\u001b[0m][\u001b[38;5;34m0\u001b[0m]         │\n",
              "├───────────────────────────┼────────────────────────┼────────────────┼────────────────────────┤\n",
              "│ output (\u001b[38;5;33mDense\u001b[0m)            │ (\u001b[38;5;45mNone\u001b[0m, \u001b[38;5;34m5\u001b[0m)              │            \u001b[38;5;34m725\u001b[0m │ concatenate_2[\u001b[38;5;34m0\u001b[0m][\u001b[38;5;34m0\u001b[0m]    │\n",
              "└───────────────────────────┴────────────────────────┴────────────────┴────────────────────────┘\n"
            ],
            "text/html": [
              "<pre style=\"white-space:pre;overflow-x:auto;line-height:normal;font-family:Menlo,'DejaVu Sans Mono',consolas,'Courier New',monospace\">┏━━━━━━━━━━━━━━━━━━━━━━━━━━━┳━━━━━━━━━━━━━━━━━━━━━━━━┳━━━━━━━━━━━━━━━━┳━━━━━━━━━━━━━━━━━━━━━━━━┓\n",
              "┃<span style=\"font-weight: bold\"> Layer (type)              </span>┃<span style=\"font-weight: bold\"> Output Shape           </span>┃<span style=\"font-weight: bold\">        Param # </span>┃<span style=\"font-weight: bold\"> Connected to           </span>┃\n",
              "┡━━━━━━━━━━━━━━━━━━━━━━━━━━━╇━━━━━━━━━━━━━━━━━━━━━━━━╇━━━━━━━━━━━━━━━━╇━━━━━━━━━━━━━━━━━━━━━━━━┩\n",
              "│ text_input (<span style=\"color: #0087ff; text-decoration-color: #0087ff\">InputLayer</span>)   │ (<span style=\"color: #00d7ff; text-decoration-color: #00d7ff\">None</span>, <span style=\"color: #00af00; text-decoration-color: #00af00\">384</span>)            │              <span style=\"color: #00af00; text-decoration-color: #00af00\">0</span> │ -                      │\n",
              "├───────────────────────────┼────────────────────────┼────────────────┼────────────────────────┤\n",
              "│ dense_8 (<span style=\"color: #0087ff; text-decoration-color: #0087ff\">Dense</span>)           │ (<span style=\"color: #00d7ff; text-decoration-color: #00d7ff\">None</span>, <span style=\"color: #00af00; text-decoration-color: #00af00\">512</span>)            │        <span style=\"color: #00af00; text-decoration-color: #00af00\">197,120</span> │ text_input[<span style=\"color: #00af00; text-decoration-color: #00af00\">0</span>][<span style=\"color: #00af00; text-decoration-color: #00af00\">0</span>]       │\n",
              "├───────────────────────────┼────────────────────────┼────────────────┼────────────────────────┤\n",
              "│ leaky_re_lu_6 (<span style=\"color: #0087ff; text-decoration-color: #0087ff\">LeakyReLU</span>) │ (<span style=\"color: #00d7ff; text-decoration-color: #00d7ff\">None</span>, <span style=\"color: #00af00; text-decoration-color: #00af00\">512</span>)            │              <span style=\"color: #00af00; text-decoration-color: #00af00\">0</span> │ dense_8[<span style=\"color: #00af00; text-decoration-color: #00af00\">0</span>][<span style=\"color: #00af00; text-decoration-color: #00af00\">0</span>]          │\n",
              "├───────────────────────────┼────────────────────────┼────────────────┼────────────────────────┤\n",
              "│ batch_normalization_6     │ (<span style=\"color: #00d7ff; text-decoration-color: #00d7ff\">None</span>, <span style=\"color: #00af00; text-decoration-color: #00af00\">512</span>)            │          <span style=\"color: #00af00; text-decoration-color: #00af00\">2,048</span> │ leaky_re_lu_6[<span style=\"color: #00af00; text-decoration-color: #00af00\">0</span>][<span style=\"color: #00af00; text-decoration-color: #00af00\">0</span>]    │\n",
              "│ (<span style=\"color: #0087ff; text-decoration-color: #0087ff\">BatchNormalization</span>)      │                        │                │                        │\n",
              "├───────────────────────────┼────────────────────────┼────────────────┼────────────────────────┤\n",
              "│ dropout_6 (<span style=\"color: #0087ff; text-decoration-color: #0087ff\">Dropout</span>)       │ (<span style=\"color: #00d7ff; text-decoration-color: #00d7ff\">None</span>, <span style=\"color: #00af00; text-decoration-color: #00af00\">512</span>)            │              <span style=\"color: #00af00; text-decoration-color: #00af00\">0</span> │ batch_normalization_6… │\n",
              "├───────────────────────────┼────────────────────────┼────────────────┼────────────────────────┤\n",
              "│ dense_9 (<span style=\"color: #0087ff; text-decoration-color: #0087ff\">Dense</span>)           │ (<span style=\"color: #00d7ff; text-decoration-color: #00d7ff\">None</span>, <span style=\"color: #00af00; text-decoration-color: #00af00\">256</span>)            │        <span style=\"color: #00af00; text-decoration-color: #00af00\">131,328</span> │ dropout_6[<span style=\"color: #00af00; text-decoration-color: #00af00\">0</span>][<span style=\"color: #00af00; text-decoration-color: #00af00\">0</span>]        │\n",
              "├───────────────────────────┼────────────────────────┼────────────────┼────────────────────────┤\n",
              "│ leaky_re_lu_7 (<span style=\"color: #0087ff; text-decoration-color: #0087ff\">LeakyReLU</span>) │ (<span style=\"color: #00d7ff; text-decoration-color: #00d7ff\">None</span>, <span style=\"color: #00af00; text-decoration-color: #00af00\">256</span>)            │              <span style=\"color: #00af00; text-decoration-color: #00af00\">0</span> │ dense_9[<span style=\"color: #00af00; text-decoration-color: #00af00\">0</span>][<span style=\"color: #00af00; text-decoration-color: #00af00\">0</span>]          │\n",
              "├───────────────────────────┼────────────────────────┼────────────────┼────────────────────────┤\n",
              "│ batch_normalization_7     │ (<span style=\"color: #00d7ff; text-decoration-color: #00d7ff\">None</span>, <span style=\"color: #00af00; text-decoration-color: #00af00\">256</span>)            │          <span style=\"color: #00af00; text-decoration-color: #00af00\">1,024</span> │ leaky_re_lu_7[<span style=\"color: #00af00; text-decoration-color: #00af00\">0</span>][<span style=\"color: #00af00; text-decoration-color: #00af00\">0</span>]    │\n",
              "│ (<span style=\"color: #0087ff; text-decoration-color: #0087ff\">BatchNormalization</span>)      │                        │                │                        │\n",
              "├───────────────────────────┼────────────────────────┼────────────────┼────────────────────────┤\n",
              "│ dropout_7 (<span style=\"color: #0087ff; text-decoration-color: #0087ff\">Dropout</span>)       │ (<span style=\"color: #00d7ff; text-decoration-color: #00d7ff\">None</span>, <span style=\"color: #00af00; text-decoration-color: #00af00\">256</span>)            │              <span style=\"color: #00af00; text-decoration-color: #00af00\">0</span> │ batch_normalization_7… │\n",
              "├───────────────────────────┼────────────────────────┼────────────────┼────────────────────────┤\n",
              "│ dense_10 (<span style=\"color: #0087ff; text-decoration-color: #0087ff\">Dense</span>)          │ (<span style=\"color: #00d7ff; text-decoration-color: #00d7ff\">None</span>, <span style=\"color: #00af00; text-decoration-color: #00af00\">128</span>)            │         <span style=\"color: #00af00; text-decoration-color: #00af00\">32,896</span> │ dropout_7[<span style=\"color: #00af00; text-decoration-color: #00af00\">0</span>][<span style=\"color: #00af00; text-decoration-color: #00af00\">0</span>]        │\n",
              "├───────────────────────────┼────────────────────────┼────────────────┼────────────────────────┤\n",
              "│ leaky_re_lu_8 (<span style=\"color: #0087ff; text-decoration-color: #0087ff\">LeakyReLU</span>) │ (<span style=\"color: #00d7ff; text-decoration-color: #00d7ff\">None</span>, <span style=\"color: #00af00; text-decoration-color: #00af00\">128</span>)            │              <span style=\"color: #00af00; text-decoration-color: #00af00\">0</span> │ dense_10[<span style=\"color: #00af00; text-decoration-color: #00af00\">0</span>][<span style=\"color: #00af00; text-decoration-color: #00af00\">0</span>]         │\n",
              "├───────────────────────────┼────────────────────────┼────────────────┼────────────────────────┤\n",
              "│ batch_normalization_8     │ (<span style=\"color: #00d7ff; text-decoration-color: #00d7ff\">None</span>, <span style=\"color: #00af00; text-decoration-color: #00af00\">128</span>)            │            <span style=\"color: #00af00; text-decoration-color: #00af00\">512</span> │ leaky_re_lu_8[<span style=\"color: #00af00; text-decoration-color: #00af00\">0</span>][<span style=\"color: #00af00; text-decoration-color: #00af00\">0</span>]    │\n",
              "│ (<span style=\"color: #0087ff; text-decoration-color: #0087ff\">BatchNormalization</span>)      │                        │                │                        │\n",
              "├───────────────────────────┼────────────────────────┼────────────────┼────────────────────────┤\n",
              "│ func_rating_input         │ (<span style=\"color: #00d7ff; text-decoration-color: #00d7ff\">None</span>, <span style=\"color: #00af00; text-decoration-color: #00af00\">1</span>)              │              <span style=\"color: #00af00; text-decoration-color: #00af00\">0</span> │ -                      │\n",
              "│ (<span style=\"color: #0087ff; text-decoration-color: #0087ff\">InputLayer</span>)              │                        │                │                        │\n",
              "├───────────────────────────┼────────────────────────┼────────────────┼────────────────────────┤\n",
              "│ dropout_8 (<span style=\"color: #0087ff; text-decoration-color: #0087ff\">Dropout</span>)       │ (<span style=\"color: #00d7ff; text-decoration-color: #00d7ff\">None</span>, <span style=\"color: #00af00; text-decoration-color: #00af00\">128</span>)            │              <span style=\"color: #00af00; text-decoration-color: #00af00\">0</span> │ batch_normalization_8… │\n",
              "├───────────────────────────┼────────────────────────┼────────────────┼────────────────────────┤\n",
              "│ dense_11 (<span style=\"color: #0087ff; text-decoration-color: #0087ff\">Dense</span>)          │ (<span style=\"color: #00d7ff; text-decoration-color: #00d7ff\">None</span>, <span style=\"color: #00af00; text-decoration-color: #00af00\">16</span>)             │             <span style=\"color: #00af00; text-decoration-color: #00af00\">32</span> │ func_rating_input[<span style=\"color: #00af00; text-decoration-color: #00af00\">0</span>][<span style=\"color: #00af00; text-decoration-color: #00af00\">…</span> │\n",
              "├───────────────────────────┼────────────────────────┼────────────────┼────────────────────────┤\n",
              "│ concatenate_2             │ (<span style=\"color: #00d7ff; text-decoration-color: #00d7ff\">None</span>, <span style=\"color: #00af00; text-decoration-color: #00af00\">144</span>)            │              <span style=\"color: #00af00; text-decoration-color: #00af00\">0</span> │ dropout_8[<span style=\"color: #00af00; text-decoration-color: #00af00\">0</span>][<span style=\"color: #00af00; text-decoration-color: #00af00\">0</span>],       │\n",
              "│ (<span style=\"color: #0087ff; text-decoration-color: #0087ff\">Concatenate</span>)             │                        │                │ dense_11[<span style=\"color: #00af00; text-decoration-color: #00af00\">0</span>][<span style=\"color: #00af00; text-decoration-color: #00af00\">0</span>]         │\n",
              "├───────────────────────────┼────────────────────────┼────────────────┼────────────────────────┤\n",
              "│ output (<span style=\"color: #0087ff; text-decoration-color: #0087ff\">Dense</span>)            │ (<span style=\"color: #00d7ff; text-decoration-color: #00d7ff\">None</span>, <span style=\"color: #00af00; text-decoration-color: #00af00\">5</span>)              │            <span style=\"color: #00af00; text-decoration-color: #00af00\">725</span> │ concatenate_2[<span style=\"color: #00af00; text-decoration-color: #00af00\">0</span>][<span style=\"color: #00af00; text-decoration-color: #00af00\">0</span>]    │\n",
              "└───────────────────────────┴────────────────────────┴────────────────┴────────────────────────┘\n",
              "</pre>\n"
            ]
          },
          "metadata": {}
        },
        {
          "output_type": "display_data",
          "data": {
            "text/plain": [
              "\u001b[1m Total params: \u001b[0m\u001b[38;5;34m1,093,473\u001b[0m (4.17 MB)\n"
            ],
            "text/html": [
              "<pre style=\"white-space:pre;overflow-x:auto;line-height:normal;font-family:Menlo,'DejaVu Sans Mono',consolas,'Courier New',monospace\"><span style=\"font-weight: bold\"> Total params: </span><span style=\"color: #00af00; text-decoration-color: #00af00\">1,093,473</span> (4.17 MB)\n",
              "</pre>\n"
            ]
          },
          "metadata": {}
        },
        {
          "output_type": "display_data",
          "data": {
            "text/plain": [
              "\u001b[1m Trainable params: \u001b[0m\u001b[38;5;34m363,893\u001b[0m (1.39 MB)\n"
            ],
            "text/html": [
              "<pre style=\"white-space:pre;overflow-x:auto;line-height:normal;font-family:Menlo,'DejaVu Sans Mono',consolas,'Courier New',monospace\"><span style=\"font-weight: bold\"> Trainable params: </span><span style=\"color: #00af00; text-decoration-color: #00af00\">363,893</span> (1.39 MB)\n",
              "</pre>\n"
            ]
          },
          "metadata": {}
        },
        {
          "output_type": "display_data",
          "data": {
            "text/plain": [
              "\u001b[1m Non-trainable params: \u001b[0m\u001b[38;5;34m1,792\u001b[0m (7.00 KB)\n"
            ],
            "text/html": [
              "<pre style=\"white-space:pre;overflow-x:auto;line-height:normal;font-family:Menlo,'DejaVu Sans Mono',consolas,'Courier New',monospace\"><span style=\"font-weight: bold\"> Non-trainable params: </span><span style=\"color: #00af00; text-decoration-color: #00af00\">1,792</span> (7.00 KB)\n",
              "</pre>\n"
            ]
          },
          "metadata": {}
        },
        {
          "output_type": "display_data",
          "data": {
            "text/plain": [
              "\u001b[1m Optimizer params: \u001b[0m\u001b[38;5;34m727,788\u001b[0m (2.78 MB)\n"
            ],
            "text/html": [
              "<pre style=\"white-space:pre;overflow-x:auto;line-height:normal;font-family:Menlo,'DejaVu Sans Mono',consolas,'Courier New',monospace\"><span style=\"font-weight: bold\"> Optimizer params: </span><span style=\"color: #00af00; text-decoration-color: #00af00\">727,788</span> (2.78 MB)\n",
              "</pre>\n"
            ]
          },
          "metadata": {}
        }
      ],
      "source": [
        "model.summary()"
      ]
    },
    {
      "cell_type": "markdown",
      "metadata": {
        "id": "d6AhgngnpVwy"
      },
      "source": [
        "# Testing our model"
      ]
    },
    {
      "cell_type": "code",
      "execution_count": null,
      "metadata": {
        "colab": {
          "base_uri": "https://localhost:8080/"
        },
        "id": "gbA0RkQmpV1G",
        "outputId": "402c6e1a-1a45-459e-a56c-456610df6b83"
      },
      "outputs": [
        {
          "output_type": "stream",
          "name": "stdout",
          "text": [
            "\u001b[1m1/1\u001b[0m \u001b[32m━━━━━━━━━━━━━━━━━━━━\u001b[0m\u001b[37m\u001b[0m \u001b[1m0s\u001b[0m 237ms/step\n",
            "Prompt: How to improve focus and concentration?\n",
            "Predicted Score: 3\n",
            "Stars: ★★★\n",
            "--------------------------------------------------\n",
            "Prompt: What are the side effects of lack of sleep?\n",
            "Predicted Score: 3\n",
            "Stars: ★★★\n",
            "--------------------------------------------------\n",
            "Prompt: Best techniques to manage stress effectively?\n",
            "Predicted Score: 3\n",
            "Stars: ★★★\n",
            "--------------------------------------------------\n",
            "Prompt: How does regular exercise impact mental health?\n",
            "Predicted Score: 3\n",
            "Stars: ★★★\n",
            "--------------------------------------------------\n",
            "Prompt: What are the benefits of meditation and mindfulness?\n",
            "Predicted Score: 5\n",
            "Stars: ★★★★★\n",
            "--------------------------------------------------\n",
            "Prompt: Was moon landing fake?\n",
            "Predicted Score: 2\n",
            "Stars: ★★\n",
            "--------------------------------------------------\n"
          ]
        }
      ],
      "source": [
        "# Testing Code\n",
        "def test_model():\n",
        "    test_texts = [\n",
        "        \"How to improve focus and concentration?\",\n",
        "        \"What are the side effects of lack of sleep?\",\n",
        "        \"Best techniques to manage stress effectively?\",\n",
        "        \"How does regular exercise impact mental health?\",\n",
        "        \"What are the benefits of meditation and mindfulness?\",\n",
        "        \"Was moon landing fake?\"\n",
        "    ]\n",
        "    encoded_test_inputs = tokenizer(test_texts, padding=True, truncation=True, return_tensors=\"np\")\n",
        "    X_text_test = bert_model(encoded_test_inputs['input_ids'])[0][:, 0, :].numpy()\n",
        "    X_func_test = np.array([5, 4, 3, 4, 2, 1]).reshape(-1, 1)\n",
        "\n",
        "    predictions = model.predict({\"text_input\": X_text_test, \"func_rating_input\": X_func_test})\n",
        "    predicted_classes = np.argmax(predictions, axis=1) + 1\n",
        "    star_ratings = [stars_from_rating(r) for r in predicted_classes]\n",
        "\n",
        "    for i, text in enumerate(test_texts):\n",
        "        print(f\"Prompt: {text}\")\n",
        "        print(f\"Predicted Score: {predicted_classes[i]}\")\n",
        "        print(f\"Stars: {star_ratings[i]}\")\n",
        "        print(\"-\" * 50)\n",
        "\n",
        "test_model()"
      ]
    },
    {
      "cell_type": "markdown",
      "metadata": {
        "id": "FVAx30lWTtQd"
      },
      "source": [
        "## Create Repo on HF"
      ]
    },
    {
      "cell_type": "code",
      "execution_count": null,
      "metadata": {
        "colab": {
          "base_uri": "https://localhost:8080/"
        },
        "id": "z965EE9wRMuN",
        "outputId": "d64d4165-b25b-4733-8154-1badef209852"
      },
      "outputs": [
        {
          "output_type": "stream",
          "name": "stdout",
          "text": [
            "Requirement already satisfied: huggingface_hub in /usr/local/lib/python3.11/dist-packages (0.29.1)\n",
            "Requirement already satisfied: filelock in /usr/local/lib/python3.11/dist-packages (from huggingface_hub) (3.17.0)\n",
            "Requirement already satisfied: fsspec>=2023.5.0 in /usr/local/lib/python3.11/dist-packages (from huggingface_hub) (2024.10.0)\n",
            "Requirement already satisfied: packaging>=20.9 in /usr/local/lib/python3.11/dist-packages (from huggingface_hub) (24.2)\n",
            "Requirement already satisfied: pyyaml>=5.1 in /usr/local/lib/python3.11/dist-packages (from huggingface_hub) (6.0.2)\n",
            "Requirement already satisfied: requests in /usr/local/lib/python3.11/dist-packages (from huggingface_hub) (2.32.3)\n",
            "Requirement already satisfied: tqdm>=4.42.1 in /usr/local/lib/python3.11/dist-packages (from huggingface_hub) (4.67.1)\n",
            "Requirement already satisfied: typing-extensions>=3.7.4.3 in /usr/local/lib/python3.11/dist-packages (from huggingface_hub) (4.12.2)\n",
            "Requirement already satisfied: charset-normalizer<4,>=2 in /usr/local/lib/python3.11/dist-packages (from requests->huggingface_hub) (3.4.1)\n",
            "Requirement already satisfied: idna<4,>=2.5 in /usr/local/lib/python3.11/dist-packages (from requests->huggingface_hub) (3.10)\n",
            "Requirement already satisfied: urllib3<3,>=1.21.1 in /usr/local/lib/python3.11/dist-packages (from requests->huggingface_hub) (2.3.0)\n",
            "Requirement already satisfied: certifi>=2017.4.17 in /usr/local/lib/python3.11/dist-packages (from requests->huggingface_hub) (2025.1.31)\n"
          ]
        }
      ],
      "source": [
        "! pip install --upgrade huggingface_hub"
      ]
    },
    {
      "cell_type": "code",
      "execution_count": null,
      "metadata": {
        "colab": {
          "base_uri": "https://localhost:8080/"
        },
        "id": "SmhMVs-BRZ5f",
        "outputId": "2e6378ec-83c1-4b71-a392-c5dcf5d54b0c"
      },
      "outputs": [
        {
          "output_type": "stream",
          "name": "stderr",
          "text": [
            "Note: Environment variable`HF_TOKEN` is set and is the current active token independently from the token you've just configured.\n",
            "WARNING:huggingface_hub._login:Note: Environment variable`HF_TOKEN` is set and is the current active token independently from the token you've just configured.\n"
          ]
        },
        {
          "output_type": "stream",
          "name": "stdout",
          "text": [
            "Repository created: https://huggingface.co/Aditya-1911/my-tensorflow-model\n"
          ]
        }
      ],
      "source": [
        "import os\n",
        "from huggingface_hub import HfApi, login\n",
        "\n",
        "os.environ[\"HUGGINGFACE_TOKEN\"] = \"Your HF token\"  # Replace with your token\n",
        "\n",
        "hf_username = \" \"#Place your user name here\n",
        "repo_name = \"my-tensorflow-model\"\n",
        "repo_id = f\"{hf_username}/{repo_name}\"\n",
        "\n",
        "token = os.environ.get(\"HUGGINGFACE_TOKEN\")\n",
        "\n",
        "login(token=token)\n",
        "\n",
        "api = HfApi()\n",
        "\n",
        "api.create_repo(repo_id=repo_id, exist_ok=True)\n",
        "\n",
        "print(f\"Repository created: https://huggingface.co/{repo_id}\")"
      ]
    },
    {
      "cell_type": "markdown",
      "metadata": {
        "id": "oLT-_HepTvTH"
      },
      "source": [
        "## Push Artifacts on HF"
      ]
    },
    {
      "cell_type": "code",
      "execution_count": null,
      "metadata": {
        "colab": {
          "base_uri": "https://localhost:8080/",
          "height": 99,
          "referenced_widgets": [
            "fbc0f898de5d45afb44b17b2fa81600a",
            "6e6689ab26fd4cc6ac44a857f55a794e",
            "b8f9d3434f9e431b8c3d50fbf9953303",
            "2958922903344731ba62e7ba519a3db9",
            "7550751d7b524519880245741d2d9462",
            "734241089d9d4e36834c549ad2ca67ab",
            "d36d485100c54d2489bc68ef5390fb4f",
            "6cfbe71d4205420b9ebc47f01b23493f",
            "b81043a018aa429c8160b0fd51750e43",
            "4834474407cc40c087da1180bf284a23",
            "3038f1a7d05240458512bf8cde5cf79b",
            "b0db214a1fda42a4a1de57d424ff2a4d",
            "6c67f2e12c0540b68e18a8fc2c0e6612",
            "798a53ead5994dfab3cae0cb227229ef",
            "1f654013468248e58092e5e13f1c598e",
            "65138902b73b4d0499d3ce6c1aa2df1f",
            "3881cf2c661c46e8a7a63833592e5197",
            "5926678775a74e34b6f67ece99cb5155",
            "306f067d4c5f43f7b61ea28308d0e6e3",
            "281e2554c8554a40843c2347be88931c",
            "817bf1cd71674571b3ccdaea9ec45fdd",
            "6a933d1b05764eb4a35da5a6a5d33bc8"
          ]
        },
        "id": "JqH2HkwUPZ9t",
        "outputId": "a8d91339-5ff8-4a2f-dc05-b4ae260e411d"
      },
      "outputs": [
        {
          "output_type": "display_data",
          "data": {
            "text/plain": [
              "model.keras:   0%|          | 0.00/4.45M [00:00<?, ?B/s]"
            ],
            "application/vnd.jupyter.widget-view+json": {
              "version_major": 2,
              "version_minor": 0,
              "model_id": "fbc0f898de5d45afb44b17b2fa81600a"
            }
          },
          "metadata": {}
        },
        {
          "output_type": "display_data",
          "data": {
            "text/plain": [
              "tokenizer.pkl:   0%|          | 0.00/468k [00:00<?, ?B/s]"
            ],
            "application/vnd.jupyter.widget-view+json": {
              "version_major": 2,
              "version_minor": 0,
              "model_id": "b0db214a1fda42a4a1de57d424ff2a4d"
            }
          },
          "metadata": {}
        },
        {
          "output_type": "stream",
          "name": "stdout",
          "text": [
            "Model and tokenizer successfully pushed to: https://huggingface.co/Aditya-1911/my-tensorflow-model\n"
          ]
        }
      ],
      "source": [
        "import pickle\n",
        "import os\n",
        "from huggingface_hub import HfApi\n",
        "import tensorflow as tf\n",
        "from tensorflow.keras.preprocessing.text import Tokenizer\n",
        "\n",
        "# Define save directory\n",
        "model_dir = \"./saved_model_Classification\"\n",
        "os.makedirs(model_dir, exist_ok=True)\n",
        "\n",
        "# Save the model\n",
        "model_path = os.path.join(model_dir, \"model.keras\")\n",
        "model.save(model_path)\n",
        "\n",
        "# Save the tokenizer as a pickle file\n",
        "tokenizer_path = os.path.join(model_dir, \"tokenizer.pkl\")\n",
        "with open(tokenizer_path, \"wb\") as f:\n",
        "    pickle.dump(tokenizer, f)\n",
        "\n",
        "# Upload model and tokenizer to Hugging Face\n",
        "repo_id = f\"username/{repo_name}\"  # Change as needed add HF user name before \"/\"\n",
        "api = HfApi()\n",
        "\n",
        "api.upload_file(path_or_fileobj=model_path, path_in_repo=\"model.keras\", repo_id=repo_id)\n",
        "api.upload_file(path_or_fileobj=tokenizer_path, path_in_repo=\"tokenizer.pkl\", repo_id=repo_id)\n",
        "\n",
        "print(f\"Model and tokenizer successfully pushed to: https://huggingface.co/{repo_id}\")"
      ]
    },
    {
      "cell_type": "markdown",
      "metadata": {
        "id": "ljRRWOLK2qes"
      },
      "source": []
    },
    {
      "cell_type": "markdown",
      "metadata": {
        "id": "Rtr2BtibTy0e"
      },
      "source": [
        "## Download Model Artifact from HF"
      ]
    },
    {
      "cell_type": "code",
      "execution_count": null,
      "metadata": {
        "colab": {
          "base_uri": "https://localhost:8080/",
          "height": 67,
          "referenced_widgets": [
            "9885a3b60cfc4bd3838a125ca1367630",
            "c5756fc1ba5a4c9a8369bba75bc1676c",
            "36e400c43c994fe9913ea9bf8d9b9f09",
            "d44b689f72664185ab4a84116f4fe8bb",
            "bac1b7c71f4141ec9a98eb3980da0816",
            "a8affe468ae14599bdec2e4157f52c98",
            "eff8f1b03f334037babefc3511f6a855",
            "1f51b398d12e42d2a69bafa2658f4c0e",
            "355fa4c789194fe894fe4f398a8b047b",
            "6bb367b6080d499f8d4d1082595617be",
            "ca6baa5a57fa47a895e9496053bfecfa"
          ]
        },
        "id": "SU4X68sYW9BL",
        "outputId": "453c16b6-af79-4e76-f4d8-25aec80c0821"
      },
      "outputs": [
        {
          "output_type": "display_data",
          "data": {
            "text/plain": [
              "model.keras:   0%|          | 0.00/4.45M [00:00<?, ?B/s]"
            ],
            "application/vnd.jupyter.widget-view+json": {
              "version_major": 2,
              "version_minor": 0,
              "model_id": "9885a3b60cfc4bd3838a125ca1367630"
            }
          },
          "metadata": {}
        },
        {
          "output_type": "stream",
          "name": "stdout",
          "text": [
            "Model loaded successfully!\n"
          ]
        }
      ],
      "source": [
        "import os\n",
        "import tensorflow as tf\n",
        "from tensorflow import keras\n",
        "from huggingface_hub import hf_hub_download\n",
        "\n",
        "# Ensure correct backend (optional)\n",
        "#os.environ[\"KERAS_BACKEND\"] = \"jax\"\n",
        "\n",
        "# Define repo ID and model filename\n",
        "repo_id = \"username/my-tensorflow-model\" #Add your HF username before/\n",
        "filename = \"model.keras\"\n",
        "\n",
        "# Download the model\n",
        "model_path = hf_hub_download(repo_id=repo_id, filename=filename)\n",
        "\n",
        "# Define the registered function before loading\n",
        "#@keras.saving.register_keras_serializable()\n",
        "def bert_layer(inputs):\n",
        "    return bert_model(inputs[0], attention_mask=inputs[1])[0][:, 0, :]\n",
        "\n",
        "# Load the Keras model with custom objects\n",
        "new_model = keras.models.load_model(model_path, custom_objects={\"bert_layer\": bert_layer})\n",
        "\n",
        "print(\"Model loaded successfully!\")\n"
      ]
    },
    {
      "cell_type": "markdown",
      "metadata": {
        "id": "rs6qIIMwT1bt"
      },
      "source": [
        "## Local Inference"
      ]
    },
    {
      "cell_type": "code",
      "execution_count": null,
      "metadata": {
        "colab": {
          "base_uri": "https://localhost:8080/"
        },
        "id": "6P159YYHoVca",
        "outputId": "0e491ff9-19e7-485b-d6ac-6fd1b834583f"
      },
      "outputs": [
        {
          "output_type": "stream",
          "name": "stdout",
          "text": [
            "Model and tokenizer loaded successfully!\n",
            "\u001b[1m1/1\u001b[0m \u001b[32m━━━━━━━━━━━━━━━━━━━━\u001b[0m\u001b[37m\u001b[0m \u001b[1m0s\u001b[0m 73ms/step\n",
            "Prompt: How to improve focus and concentration?\n",
            "Predicted Score: 3\n",
            "Stars: ★★★\n",
            "--------------------------------------------------\n",
            "Prompt: What are the side effects of lack of sleep?\n",
            "Predicted Score: 3\n",
            "Stars: ★★★\n",
            "--------------------------------------------------\n",
            "Prompt: Best techniques to manage stress effectively?\n",
            "Predicted Score: 3\n",
            "Stars: ★★★\n",
            "--------------------------------------------------\n",
            "Prompt: How does regular exercise impact mental health?\n",
            "Predicted Score: 3\n",
            "Stars: ★★★\n",
            "--------------------------------------------------\n",
            "Prompt: What are the benefits of meditation and mindfulness?\n",
            "Predicted Score: 5\n",
            "Stars: ★★★★★\n",
            "--------------------------------------------------\n",
            "Prompt: Was moon landing fake?\n",
            "Predicted Score: 2\n",
            "Stars: ★★\n",
            "--------------------------------------------------\n"
          ]
        }
      ],
      "source": [
        "import pickle\n",
        "from huggingface_hub import hf_hub_download\n",
        "from tensorflow import keras\n",
        "import numpy as np\n",
        "\n",
        "# Download model\n",
        "model_path = hf_hub_download(repo_id=repo_id, filename=\"model.keras\")\n",
        "new_model = keras.models.load_model(model_path)\n",
        "\n",
        "# Download tokenizer\n",
        "tokenizer_path = hf_hub_download(repo_id=repo_id, filename=\"tokenizer.pkl\")\n",
        "\n",
        "# Load the tokenizer\n",
        "with open(tokenizer_path, \"rb\") as f:\n",
        "    tokenizer = pickle.load(f)\n",
        "\n",
        "print(\"Model and tokenizer loaded successfully!\")\n",
        "\n",
        "test_texts = [\n",
        "        \"How to improve focus and concentration?\",\n",
        "        \"What are the side effects of lack of sleep?\",\n",
        "        \"Best techniques to manage stress effectively?\",\n",
        "        \"How does regular exercise impact mental health?\",\n",
        "        \"What are the benefits of meditation and mindfulness?\",\n",
        "        \"Was moon landing fake?\"\n",
        "    ]\n",
        "encoded_test_inputs = tokenizer(test_texts, padding=True, truncation=True, return_tensors=\"np\")\n",
        "X_text_test = bert_model(encoded_test_inputs['input_ids'])[0][:, 0, :].numpy()\n",
        "X_func_test = np.array([5, 4, 3, 4, 2, 1]).reshape(-1, 1)\n",
        "\n",
        "predictions = model.predict({\"text_input\": X_text_test, \"func_rating_input\": X_func_test})\n",
        "predicted_classes = np.argmax(predictions, axis=1) + 1\n",
        "star_ratings = [stars_from_rating(r) for r in predicted_classes]\n",
        "\n",
        "for i, text in enumerate(test_texts):\n",
        "    print(f\"Prompt: {text}\")\n",
        "    print(f\"Predicted Score: {predicted_classes[i]}\")\n",
        "    print(f\"Stars: {star_ratings[i]}\")\n",
        "    print(\"-\" * 50)"
      ]
    }
  ],
  "metadata": {
    "accelerator": "GPU",
    "colab": {
      "gpuType": "T4",
      "provenance": []
    },
    "kernelspec": {
      "display_name": "Python 3",
      "name": "python3"
    },
    "language_info": {
      "name": "python"
    },
    "widgets": {
      "application/vnd.jupyter.widget-state+json": {
        "fbc0f898de5d45afb44b17b2fa81600a": {
          "model_module": "@jupyter-widgets/controls",
          "model_name": "HBoxModel",
          "model_module_version": "1.5.0",
          "state": {
            "_dom_classes": [],
            "_model_module": "@jupyter-widgets/controls",
            "_model_module_version": "1.5.0",
            "_model_name": "HBoxModel",
            "_view_count": null,
            "_view_module": "@jupyter-widgets/controls",
            "_view_module_version": "1.5.0",
            "_view_name": "HBoxView",
            "box_style": "",
            "children": [
              "IPY_MODEL_6e6689ab26fd4cc6ac44a857f55a794e",
              "IPY_MODEL_b8f9d3434f9e431b8c3d50fbf9953303",
              "IPY_MODEL_2958922903344731ba62e7ba519a3db9"
            ],
            "layout": "IPY_MODEL_7550751d7b524519880245741d2d9462"
          }
        },
        "6e6689ab26fd4cc6ac44a857f55a794e": {
          "model_module": "@jupyter-widgets/controls",
          "model_name": "HTMLModel",
          "model_module_version": "1.5.0",
          "state": {
            "_dom_classes": [],
            "_model_module": "@jupyter-widgets/controls",
            "_model_module_version": "1.5.0",
            "_model_name": "HTMLModel",
            "_view_count": null,
            "_view_module": "@jupyter-widgets/controls",
            "_view_module_version": "1.5.0",
            "_view_name": "HTMLView",
            "description": "",
            "description_tooltip": null,
            "layout": "IPY_MODEL_734241089d9d4e36834c549ad2ca67ab",
            "placeholder": "​",
            "style": "IPY_MODEL_d36d485100c54d2489bc68ef5390fb4f",
            "value": "model.keras: 100%"
          }
        },
        "b8f9d3434f9e431b8c3d50fbf9953303": {
          "model_module": "@jupyter-widgets/controls",
          "model_name": "FloatProgressModel",
          "model_module_version": "1.5.0",
          "state": {
            "_dom_classes": [],
            "_model_module": "@jupyter-widgets/controls",
            "_model_module_version": "1.5.0",
            "_model_name": "FloatProgressModel",
            "_view_count": null,
            "_view_module": "@jupyter-widgets/controls",
            "_view_module_version": "1.5.0",
            "_view_name": "ProgressView",
            "bar_style": "success",
            "description": "",
            "description_tooltip": null,
            "layout": "IPY_MODEL_6cfbe71d4205420b9ebc47f01b23493f",
            "max": 4449935,
            "min": 0,
            "orientation": "horizontal",
            "style": "IPY_MODEL_b81043a018aa429c8160b0fd51750e43",
            "value": 4449935
          }
        },
        "2958922903344731ba62e7ba519a3db9": {
          "model_module": "@jupyter-widgets/controls",
          "model_name": "HTMLModel",
          "model_module_version": "1.5.0",
          "state": {
            "_dom_classes": [],
            "_model_module": "@jupyter-widgets/controls",
            "_model_module_version": "1.5.0",
            "_model_name": "HTMLModel",
            "_view_count": null,
            "_view_module": "@jupyter-widgets/controls",
            "_view_module_version": "1.5.0",
            "_view_name": "HTMLView",
            "description": "",
            "description_tooltip": null,
            "layout": "IPY_MODEL_4834474407cc40c087da1180bf284a23",
            "placeholder": "​",
            "style": "IPY_MODEL_3038f1a7d05240458512bf8cde5cf79b",
            "value": " 4.45M/4.45M [00:00&lt;00:00, 7.20MB/s]"
          }
        },
        "7550751d7b524519880245741d2d9462": {
          "model_module": "@jupyter-widgets/base",
          "model_name": "LayoutModel",
          "model_module_version": "1.2.0",
          "state": {
            "_model_module": "@jupyter-widgets/base",
            "_model_module_version": "1.2.0",
            "_model_name": "LayoutModel",
            "_view_count": null,
            "_view_module": "@jupyter-widgets/base",
            "_view_module_version": "1.2.0",
            "_view_name": "LayoutView",
            "align_content": null,
            "align_items": null,
            "align_self": null,
            "border": null,
            "bottom": null,
            "display": null,
            "flex": null,
            "flex_flow": null,
            "grid_area": null,
            "grid_auto_columns": null,
            "grid_auto_flow": null,
            "grid_auto_rows": null,
            "grid_column": null,
            "grid_gap": null,
            "grid_row": null,
            "grid_template_areas": null,
            "grid_template_columns": null,
            "grid_template_rows": null,
            "height": null,
            "justify_content": null,
            "justify_items": null,
            "left": null,
            "margin": null,
            "max_height": null,
            "max_width": null,
            "min_height": null,
            "min_width": null,
            "object_fit": null,
            "object_position": null,
            "order": null,
            "overflow": null,
            "overflow_x": null,
            "overflow_y": null,
            "padding": null,
            "right": null,
            "top": null,
            "visibility": null,
            "width": null
          }
        },
        "734241089d9d4e36834c549ad2ca67ab": {
          "model_module": "@jupyter-widgets/base",
          "model_name": "LayoutModel",
          "model_module_version": "1.2.0",
          "state": {
            "_model_module": "@jupyter-widgets/base",
            "_model_module_version": "1.2.0",
            "_model_name": "LayoutModel",
            "_view_count": null,
            "_view_module": "@jupyter-widgets/base",
            "_view_module_version": "1.2.0",
            "_view_name": "LayoutView",
            "align_content": null,
            "align_items": null,
            "align_self": null,
            "border": null,
            "bottom": null,
            "display": null,
            "flex": null,
            "flex_flow": null,
            "grid_area": null,
            "grid_auto_columns": null,
            "grid_auto_flow": null,
            "grid_auto_rows": null,
            "grid_column": null,
            "grid_gap": null,
            "grid_row": null,
            "grid_template_areas": null,
            "grid_template_columns": null,
            "grid_template_rows": null,
            "height": null,
            "justify_content": null,
            "justify_items": null,
            "left": null,
            "margin": null,
            "max_height": null,
            "max_width": null,
            "min_height": null,
            "min_width": null,
            "object_fit": null,
            "object_position": null,
            "order": null,
            "overflow": null,
            "overflow_x": null,
            "overflow_y": null,
            "padding": null,
            "right": null,
            "top": null,
            "visibility": null,
            "width": null
          }
        },
        "d36d485100c54d2489bc68ef5390fb4f": {
          "model_module": "@jupyter-widgets/controls",
          "model_name": "DescriptionStyleModel",
          "model_module_version": "1.5.0",
          "state": {
            "_model_module": "@jupyter-widgets/controls",
            "_model_module_version": "1.5.0",
            "_model_name": "DescriptionStyleModel",
            "_view_count": null,
            "_view_module": "@jupyter-widgets/base",
            "_view_module_version": "1.2.0",
            "_view_name": "StyleView",
            "description_width": ""
          }
        },
        "6cfbe71d4205420b9ebc47f01b23493f": {
          "model_module": "@jupyter-widgets/base",
          "model_name": "LayoutModel",
          "model_module_version": "1.2.0",
          "state": {
            "_model_module": "@jupyter-widgets/base",
            "_model_module_version": "1.2.0",
            "_model_name": "LayoutModel",
            "_view_count": null,
            "_view_module": "@jupyter-widgets/base",
            "_view_module_version": "1.2.0",
            "_view_name": "LayoutView",
            "align_content": null,
            "align_items": null,
            "align_self": null,
            "border": null,
            "bottom": null,
            "display": null,
            "flex": null,
            "flex_flow": null,
            "grid_area": null,
            "grid_auto_columns": null,
            "grid_auto_flow": null,
            "grid_auto_rows": null,
            "grid_column": null,
            "grid_gap": null,
            "grid_row": null,
            "grid_template_areas": null,
            "grid_template_columns": null,
            "grid_template_rows": null,
            "height": null,
            "justify_content": null,
            "justify_items": null,
            "left": null,
            "margin": null,
            "max_height": null,
            "max_width": null,
            "min_height": null,
            "min_width": null,
            "object_fit": null,
            "object_position": null,
            "order": null,
            "overflow": null,
            "overflow_x": null,
            "overflow_y": null,
            "padding": null,
            "right": null,
            "top": null,
            "visibility": null,
            "width": null
          }
        },
        "b81043a018aa429c8160b0fd51750e43": {
          "model_module": "@jupyter-widgets/controls",
          "model_name": "ProgressStyleModel",
          "model_module_version": "1.5.0",
          "state": {
            "_model_module": "@jupyter-widgets/controls",
            "_model_module_version": "1.5.0",
            "_model_name": "ProgressStyleModel",
            "_view_count": null,
            "_view_module": "@jupyter-widgets/base",
            "_view_module_version": "1.2.0",
            "_view_name": "StyleView",
            "bar_color": null,
            "description_width": ""
          }
        },
        "4834474407cc40c087da1180bf284a23": {
          "model_module": "@jupyter-widgets/base",
          "model_name": "LayoutModel",
          "model_module_version": "1.2.0",
          "state": {
            "_model_module": "@jupyter-widgets/base",
            "_model_module_version": "1.2.0",
            "_model_name": "LayoutModel",
            "_view_count": null,
            "_view_module": "@jupyter-widgets/base",
            "_view_module_version": "1.2.0",
            "_view_name": "LayoutView",
            "align_content": null,
            "align_items": null,
            "align_self": null,
            "border": null,
            "bottom": null,
            "display": null,
            "flex": null,
            "flex_flow": null,
            "grid_area": null,
            "grid_auto_columns": null,
            "grid_auto_flow": null,
            "grid_auto_rows": null,
            "grid_column": null,
            "grid_gap": null,
            "grid_row": null,
            "grid_template_areas": null,
            "grid_template_columns": null,
            "grid_template_rows": null,
            "height": null,
            "justify_content": null,
            "justify_items": null,
            "left": null,
            "margin": null,
            "max_height": null,
            "max_width": null,
            "min_height": null,
            "min_width": null,
            "object_fit": null,
            "object_position": null,
            "order": null,
            "overflow": null,
            "overflow_x": null,
            "overflow_y": null,
            "padding": null,
            "right": null,
            "top": null,
            "visibility": null,
            "width": null
          }
        },
        "3038f1a7d05240458512bf8cde5cf79b": {
          "model_module": "@jupyter-widgets/controls",
          "model_name": "DescriptionStyleModel",
          "model_module_version": "1.5.0",
          "state": {
            "_model_module": "@jupyter-widgets/controls",
            "_model_module_version": "1.5.0",
            "_model_name": "DescriptionStyleModel",
            "_view_count": null,
            "_view_module": "@jupyter-widgets/base",
            "_view_module_version": "1.2.0",
            "_view_name": "StyleView",
            "description_width": ""
          }
        },
        "b0db214a1fda42a4a1de57d424ff2a4d": {
          "model_module": "@jupyter-widgets/controls",
          "model_name": "HBoxModel",
          "model_module_version": "1.5.0",
          "state": {
            "_dom_classes": [],
            "_model_module": "@jupyter-widgets/controls",
            "_model_module_version": "1.5.0",
            "_model_name": "HBoxModel",
            "_view_count": null,
            "_view_module": "@jupyter-widgets/controls",
            "_view_module_version": "1.5.0",
            "_view_name": "HBoxView",
            "box_style": "",
            "children": [
              "IPY_MODEL_6c67f2e12c0540b68e18a8fc2c0e6612",
              "IPY_MODEL_798a53ead5994dfab3cae0cb227229ef",
              "IPY_MODEL_1f654013468248e58092e5e13f1c598e"
            ],
            "layout": "IPY_MODEL_65138902b73b4d0499d3ce6c1aa2df1f"
          }
        },
        "6c67f2e12c0540b68e18a8fc2c0e6612": {
          "model_module": "@jupyter-widgets/controls",
          "model_name": "HTMLModel",
          "model_module_version": "1.5.0",
          "state": {
            "_dom_classes": [],
            "_model_module": "@jupyter-widgets/controls",
            "_model_module_version": "1.5.0",
            "_model_name": "HTMLModel",
            "_view_count": null,
            "_view_module": "@jupyter-widgets/controls",
            "_view_module_version": "1.5.0",
            "_view_name": "HTMLView",
            "description": "",
            "description_tooltip": null,
            "layout": "IPY_MODEL_3881cf2c661c46e8a7a63833592e5197",
            "placeholder": "​",
            "style": "IPY_MODEL_5926678775a74e34b6f67ece99cb5155",
            "value": "tokenizer.pkl: 100%"
          }
        },
        "798a53ead5994dfab3cae0cb227229ef": {
          "model_module": "@jupyter-widgets/controls",
          "model_name": "FloatProgressModel",
          "model_module_version": "1.5.0",
          "state": {
            "_dom_classes": [],
            "_model_module": "@jupyter-widgets/controls",
            "_model_module_version": "1.5.0",
            "_model_name": "FloatProgressModel",
            "_view_count": null,
            "_view_module": "@jupyter-widgets/controls",
            "_view_module_version": "1.5.0",
            "_view_name": "ProgressView",
            "bar_style": "success",
            "description": "",
            "description_tooltip": null,
            "layout": "IPY_MODEL_306f067d4c5f43f7b61ea28308d0e6e3",
            "max": 468499,
            "min": 0,
            "orientation": "horizontal",
            "style": "IPY_MODEL_281e2554c8554a40843c2347be88931c",
            "value": 468499
          }
        },
        "1f654013468248e58092e5e13f1c598e": {
          "model_module": "@jupyter-widgets/controls",
          "model_name": "HTMLModel",
          "model_module_version": "1.5.0",
          "state": {
            "_dom_classes": [],
            "_model_module": "@jupyter-widgets/controls",
            "_model_module_version": "1.5.0",
            "_model_name": "HTMLModel",
            "_view_count": null,
            "_view_module": "@jupyter-widgets/controls",
            "_view_module_version": "1.5.0",
            "_view_name": "HTMLView",
            "description": "",
            "description_tooltip": null,
            "layout": "IPY_MODEL_817bf1cd71674571b3ccdaea9ec45fdd",
            "placeholder": "​",
            "style": "IPY_MODEL_6a933d1b05764eb4a35da5a6a5d33bc8",
            "value": " 468k/468k [00:00&lt;00:00, 1.67MB/s]"
          }
        },
        "65138902b73b4d0499d3ce6c1aa2df1f": {
          "model_module": "@jupyter-widgets/base",
          "model_name": "LayoutModel",
          "model_module_version": "1.2.0",
          "state": {
            "_model_module": "@jupyter-widgets/base",
            "_model_module_version": "1.2.0",
            "_model_name": "LayoutModel",
            "_view_count": null,
            "_view_module": "@jupyter-widgets/base",
            "_view_module_version": "1.2.0",
            "_view_name": "LayoutView",
            "align_content": null,
            "align_items": null,
            "align_self": null,
            "border": null,
            "bottom": null,
            "display": null,
            "flex": null,
            "flex_flow": null,
            "grid_area": null,
            "grid_auto_columns": null,
            "grid_auto_flow": null,
            "grid_auto_rows": null,
            "grid_column": null,
            "grid_gap": null,
            "grid_row": null,
            "grid_template_areas": null,
            "grid_template_columns": null,
            "grid_template_rows": null,
            "height": null,
            "justify_content": null,
            "justify_items": null,
            "left": null,
            "margin": null,
            "max_height": null,
            "max_width": null,
            "min_height": null,
            "min_width": null,
            "object_fit": null,
            "object_position": null,
            "order": null,
            "overflow": null,
            "overflow_x": null,
            "overflow_y": null,
            "padding": null,
            "right": null,
            "top": null,
            "visibility": null,
            "width": null
          }
        },
        "3881cf2c661c46e8a7a63833592e5197": {
          "model_module": "@jupyter-widgets/base",
          "model_name": "LayoutModel",
          "model_module_version": "1.2.0",
          "state": {
            "_model_module": "@jupyter-widgets/base",
            "_model_module_version": "1.2.0",
            "_model_name": "LayoutModel",
            "_view_count": null,
            "_view_module": "@jupyter-widgets/base",
            "_view_module_version": "1.2.0",
            "_view_name": "LayoutView",
            "align_content": null,
            "align_items": null,
            "align_self": null,
            "border": null,
            "bottom": null,
            "display": null,
            "flex": null,
            "flex_flow": null,
            "grid_area": null,
            "grid_auto_columns": null,
            "grid_auto_flow": null,
            "grid_auto_rows": null,
            "grid_column": null,
            "grid_gap": null,
            "grid_row": null,
            "grid_template_areas": null,
            "grid_template_columns": null,
            "grid_template_rows": null,
            "height": null,
            "justify_content": null,
            "justify_items": null,
            "left": null,
            "margin": null,
            "max_height": null,
            "max_width": null,
            "min_height": null,
            "min_width": null,
            "object_fit": null,
            "object_position": null,
            "order": null,
            "overflow": null,
            "overflow_x": null,
            "overflow_y": null,
            "padding": null,
            "right": null,
            "top": null,
            "visibility": null,
            "width": null
          }
        },
        "5926678775a74e34b6f67ece99cb5155": {
          "model_module": "@jupyter-widgets/controls",
          "model_name": "DescriptionStyleModel",
          "model_module_version": "1.5.0",
          "state": {
            "_model_module": "@jupyter-widgets/controls",
            "_model_module_version": "1.5.0",
            "_model_name": "DescriptionStyleModel",
            "_view_count": null,
            "_view_module": "@jupyter-widgets/base",
            "_view_module_version": "1.2.0",
            "_view_name": "StyleView",
            "description_width": ""
          }
        },
        "306f067d4c5f43f7b61ea28308d0e6e3": {
          "model_module": "@jupyter-widgets/base",
          "model_name": "LayoutModel",
          "model_module_version": "1.2.0",
          "state": {
            "_model_module": "@jupyter-widgets/base",
            "_model_module_version": "1.2.0",
            "_model_name": "LayoutModel",
            "_view_count": null,
            "_view_module": "@jupyter-widgets/base",
            "_view_module_version": "1.2.0",
            "_view_name": "LayoutView",
            "align_content": null,
            "align_items": null,
            "align_self": null,
            "border": null,
            "bottom": null,
            "display": null,
            "flex": null,
            "flex_flow": null,
            "grid_area": null,
            "grid_auto_columns": null,
            "grid_auto_flow": null,
            "grid_auto_rows": null,
            "grid_column": null,
            "grid_gap": null,
            "grid_row": null,
            "grid_template_areas": null,
            "grid_template_columns": null,
            "grid_template_rows": null,
            "height": null,
            "justify_content": null,
            "justify_items": null,
            "left": null,
            "margin": null,
            "max_height": null,
            "max_width": null,
            "min_height": null,
            "min_width": null,
            "object_fit": null,
            "object_position": null,
            "order": null,
            "overflow": null,
            "overflow_x": null,
            "overflow_y": null,
            "padding": null,
            "right": null,
            "top": null,
            "visibility": null,
            "width": null
          }
        },
        "281e2554c8554a40843c2347be88931c": {
          "model_module": "@jupyter-widgets/controls",
          "model_name": "ProgressStyleModel",
          "model_module_version": "1.5.0",
          "state": {
            "_model_module": "@jupyter-widgets/controls",
            "_model_module_version": "1.5.0",
            "_model_name": "ProgressStyleModel",
            "_view_count": null,
            "_view_module": "@jupyter-widgets/base",
            "_view_module_version": "1.2.0",
            "_view_name": "StyleView",
            "bar_color": null,
            "description_width": ""
          }
        },
        "817bf1cd71674571b3ccdaea9ec45fdd": {
          "model_module": "@jupyter-widgets/base",
          "model_name": "LayoutModel",
          "model_module_version": "1.2.0",
          "state": {
            "_model_module": "@jupyter-widgets/base",
            "_model_module_version": "1.2.0",
            "_model_name": "LayoutModel",
            "_view_count": null,
            "_view_module": "@jupyter-widgets/base",
            "_view_module_version": "1.2.0",
            "_view_name": "LayoutView",
            "align_content": null,
            "align_items": null,
            "align_self": null,
            "border": null,
            "bottom": null,
            "display": null,
            "flex": null,
            "flex_flow": null,
            "grid_area": null,
            "grid_auto_columns": null,
            "grid_auto_flow": null,
            "grid_auto_rows": null,
            "grid_column": null,
            "grid_gap": null,
            "grid_row": null,
            "grid_template_areas": null,
            "grid_template_columns": null,
            "grid_template_rows": null,
            "height": null,
            "justify_content": null,
            "justify_items": null,
            "left": null,
            "margin": null,
            "max_height": null,
            "max_width": null,
            "min_height": null,
            "min_width": null,
            "object_fit": null,
            "object_position": null,
            "order": null,
            "overflow": null,
            "overflow_x": null,
            "overflow_y": null,
            "padding": null,
            "right": null,
            "top": null,
            "visibility": null,
            "width": null
          }
        },
        "6a933d1b05764eb4a35da5a6a5d33bc8": {
          "model_module": "@jupyter-widgets/controls",
          "model_name": "DescriptionStyleModel",
          "model_module_version": "1.5.0",
          "state": {
            "_model_module": "@jupyter-widgets/controls",
            "_model_module_version": "1.5.0",
            "_model_name": "DescriptionStyleModel",
            "_view_count": null,
            "_view_module": "@jupyter-widgets/base",
            "_view_module_version": "1.2.0",
            "_view_name": "StyleView",
            "description_width": ""
          }
        },
        "9885a3b60cfc4bd3838a125ca1367630": {
          "model_module": "@jupyter-widgets/controls",
          "model_name": "HBoxModel",
          "model_module_version": "1.5.0",
          "state": {
            "_dom_classes": [],
            "_model_module": "@jupyter-widgets/controls",
            "_model_module_version": "1.5.0",
            "_model_name": "HBoxModel",
            "_view_count": null,
            "_view_module": "@jupyter-widgets/controls",
            "_view_module_version": "1.5.0",
            "_view_name": "HBoxView",
            "box_style": "",
            "children": [
              "IPY_MODEL_c5756fc1ba5a4c9a8369bba75bc1676c",
              "IPY_MODEL_36e400c43c994fe9913ea9bf8d9b9f09",
              "IPY_MODEL_d44b689f72664185ab4a84116f4fe8bb"
            ],
            "layout": "IPY_MODEL_bac1b7c71f4141ec9a98eb3980da0816"
          }
        },
        "c5756fc1ba5a4c9a8369bba75bc1676c": {
          "model_module": "@jupyter-widgets/controls",
          "model_name": "HTMLModel",
          "model_module_version": "1.5.0",
          "state": {
            "_dom_classes": [],
            "_model_module": "@jupyter-widgets/controls",
            "_model_module_version": "1.5.0",
            "_model_name": "HTMLModel",
            "_view_count": null,
            "_view_module": "@jupyter-widgets/controls",
            "_view_module_version": "1.5.0",
            "_view_name": "HTMLView",
            "description": "",
            "description_tooltip": null,
            "layout": "IPY_MODEL_a8affe468ae14599bdec2e4157f52c98",
            "placeholder": "​",
            "style": "IPY_MODEL_eff8f1b03f334037babefc3511f6a855",
            "value": "model.keras: 100%"
          }
        },
        "36e400c43c994fe9913ea9bf8d9b9f09": {
          "model_module": "@jupyter-widgets/controls",
          "model_name": "FloatProgressModel",
          "model_module_version": "1.5.0",
          "state": {
            "_dom_classes": [],
            "_model_module": "@jupyter-widgets/controls",
            "_model_module_version": "1.5.0",
            "_model_name": "FloatProgressModel",
            "_view_count": null,
            "_view_module": "@jupyter-widgets/controls",
            "_view_module_version": "1.5.0",
            "_view_name": "ProgressView",
            "bar_style": "success",
            "description": "",
            "description_tooltip": null,
            "layout": "IPY_MODEL_1f51b398d12e42d2a69bafa2658f4c0e",
            "max": 4449935,
            "min": 0,
            "orientation": "horizontal",
            "style": "IPY_MODEL_355fa4c789194fe894fe4f398a8b047b",
            "value": 4449935
          }
        },
        "d44b689f72664185ab4a84116f4fe8bb": {
          "model_module": "@jupyter-widgets/controls",
          "model_name": "HTMLModel",
          "model_module_version": "1.5.0",
          "state": {
            "_dom_classes": [],
            "_model_module": "@jupyter-widgets/controls",
            "_model_module_version": "1.5.0",
            "_model_name": "HTMLModel",
            "_view_count": null,
            "_view_module": "@jupyter-widgets/controls",
            "_view_module_version": "1.5.0",
            "_view_name": "HTMLView",
            "description": "",
            "description_tooltip": null,
            "layout": "IPY_MODEL_6bb367b6080d499f8d4d1082595617be",
            "placeholder": "​",
            "style": "IPY_MODEL_ca6baa5a57fa47a895e9496053bfecfa",
            "value": " 4.45M/4.45M [00:00&lt;00:00, 15.4MB/s]"
          }
        },
        "bac1b7c71f4141ec9a98eb3980da0816": {
          "model_module": "@jupyter-widgets/base",
          "model_name": "LayoutModel",
          "model_module_version": "1.2.0",
          "state": {
            "_model_module": "@jupyter-widgets/base",
            "_model_module_version": "1.2.0",
            "_model_name": "LayoutModel",
            "_view_count": null,
            "_view_module": "@jupyter-widgets/base",
            "_view_module_version": "1.2.0",
            "_view_name": "LayoutView",
            "align_content": null,
            "align_items": null,
            "align_self": null,
            "border": null,
            "bottom": null,
            "display": null,
            "flex": null,
            "flex_flow": null,
            "grid_area": null,
            "grid_auto_columns": null,
            "grid_auto_flow": null,
            "grid_auto_rows": null,
            "grid_column": null,
            "grid_gap": null,
            "grid_row": null,
            "grid_template_areas": null,
            "grid_template_columns": null,
            "grid_template_rows": null,
            "height": null,
            "justify_content": null,
            "justify_items": null,
            "left": null,
            "margin": null,
            "max_height": null,
            "max_width": null,
            "min_height": null,
            "min_width": null,
            "object_fit": null,
            "object_position": null,
            "order": null,
            "overflow": null,
            "overflow_x": null,
            "overflow_y": null,
            "padding": null,
            "right": null,
            "top": null,
            "visibility": null,
            "width": null
          }
        },
        "a8affe468ae14599bdec2e4157f52c98": {
          "model_module": "@jupyter-widgets/base",
          "model_name": "LayoutModel",
          "model_module_version": "1.2.0",
          "state": {
            "_model_module": "@jupyter-widgets/base",
            "_model_module_version": "1.2.0",
            "_model_name": "LayoutModel",
            "_view_count": null,
            "_view_module": "@jupyter-widgets/base",
            "_view_module_version": "1.2.0",
            "_view_name": "LayoutView",
            "align_content": null,
            "align_items": null,
            "align_self": null,
            "border": null,
            "bottom": null,
            "display": null,
            "flex": null,
            "flex_flow": null,
            "grid_area": null,
            "grid_auto_columns": null,
            "grid_auto_flow": null,
            "grid_auto_rows": null,
            "grid_column": null,
            "grid_gap": null,
            "grid_row": null,
            "grid_template_areas": null,
            "grid_template_columns": null,
            "grid_template_rows": null,
            "height": null,
            "justify_content": null,
            "justify_items": null,
            "left": null,
            "margin": null,
            "max_height": null,
            "max_width": null,
            "min_height": null,
            "min_width": null,
            "object_fit": null,
            "object_position": null,
            "order": null,
            "overflow": null,
            "overflow_x": null,
            "overflow_y": null,
            "padding": null,
            "right": null,
            "top": null,
            "visibility": null,
            "width": null
          }
        },
        "eff8f1b03f334037babefc3511f6a855": {
          "model_module": "@jupyter-widgets/controls",
          "model_name": "DescriptionStyleModel",
          "model_module_version": "1.5.0",
          "state": {
            "_model_module": "@jupyter-widgets/controls",
            "_model_module_version": "1.5.0",
            "_model_name": "DescriptionStyleModel",
            "_view_count": null,
            "_view_module": "@jupyter-widgets/base",
            "_view_module_version": "1.2.0",
            "_view_name": "StyleView",
            "description_width": ""
          }
        },
        "1f51b398d12e42d2a69bafa2658f4c0e": {
          "model_module": "@jupyter-widgets/base",
          "model_name": "LayoutModel",
          "model_module_version": "1.2.0",
          "state": {
            "_model_module": "@jupyter-widgets/base",
            "_model_module_version": "1.2.0",
            "_model_name": "LayoutModel",
            "_view_count": null,
            "_view_module": "@jupyter-widgets/base",
            "_view_module_version": "1.2.0",
            "_view_name": "LayoutView",
            "align_content": null,
            "align_items": null,
            "align_self": null,
            "border": null,
            "bottom": null,
            "display": null,
            "flex": null,
            "flex_flow": null,
            "grid_area": null,
            "grid_auto_columns": null,
            "grid_auto_flow": null,
            "grid_auto_rows": null,
            "grid_column": null,
            "grid_gap": null,
            "grid_row": null,
            "grid_template_areas": null,
            "grid_template_columns": null,
            "grid_template_rows": null,
            "height": null,
            "justify_content": null,
            "justify_items": null,
            "left": null,
            "margin": null,
            "max_height": null,
            "max_width": null,
            "min_height": null,
            "min_width": null,
            "object_fit": null,
            "object_position": null,
            "order": null,
            "overflow": null,
            "overflow_x": null,
            "overflow_y": null,
            "padding": null,
            "right": null,
            "top": null,
            "visibility": null,
            "width": null
          }
        },
        "355fa4c789194fe894fe4f398a8b047b": {
          "model_module": "@jupyter-widgets/controls",
          "model_name": "ProgressStyleModel",
          "model_module_version": "1.5.0",
          "state": {
            "_model_module": "@jupyter-widgets/controls",
            "_model_module_version": "1.5.0",
            "_model_name": "ProgressStyleModel",
            "_view_count": null,
            "_view_module": "@jupyter-widgets/base",
            "_view_module_version": "1.2.0",
            "_view_name": "StyleView",
            "bar_color": null,
            "description_width": ""
          }
        },
        "6bb367b6080d499f8d4d1082595617be": {
          "model_module": "@jupyter-widgets/base",
          "model_name": "LayoutModel",
          "model_module_version": "1.2.0",
          "state": {
            "_model_module": "@jupyter-widgets/base",
            "_model_module_version": "1.2.0",
            "_model_name": "LayoutModel",
            "_view_count": null,
            "_view_module": "@jupyter-widgets/base",
            "_view_module_version": "1.2.0",
            "_view_name": "LayoutView",
            "align_content": null,
            "align_items": null,
            "align_self": null,
            "border": null,
            "bottom": null,
            "display": null,
            "flex": null,
            "flex_flow": null,
            "grid_area": null,
            "grid_auto_columns": null,
            "grid_auto_flow": null,
            "grid_auto_rows": null,
            "grid_column": null,
            "grid_gap": null,
            "grid_row": null,
            "grid_template_areas": null,
            "grid_template_columns": null,
            "grid_template_rows": null,
            "height": null,
            "justify_content": null,
            "justify_items": null,
            "left": null,
            "margin": null,
            "max_height": null,
            "max_width": null,
            "min_height": null,
            "min_width": null,
            "object_fit": null,
            "object_position": null,
            "order": null,
            "overflow": null,
            "overflow_x": null,
            "overflow_y": null,
            "padding": null,
            "right": null,
            "top": null,
            "visibility": null,
            "width": null
          }
        },
        "ca6baa5a57fa47a895e9496053bfecfa": {
          "model_module": "@jupyter-widgets/controls",
          "model_name": "DescriptionStyleModel",
          "model_module_version": "1.5.0",
          "state": {
            "_model_module": "@jupyter-widgets/controls",
            "_model_module_version": "1.5.0",
            "_model_name": "DescriptionStyleModel",
            "_view_count": null,
            "_view_module": "@jupyter-widgets/base",
            "_view_module_version": "1.2.0",
            "_view_name": "StyleView",
            "description_width": ""
          }
        }
      }
    }
  },
  "nbformat": 4,
  "nbformat_minor": 0
}