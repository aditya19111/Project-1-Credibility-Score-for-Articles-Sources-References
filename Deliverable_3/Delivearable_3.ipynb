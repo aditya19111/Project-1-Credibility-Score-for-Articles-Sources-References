{
  "nbformat": 4,
  "nbformat_minor": 0,
  "metadata": {
    "colab": {
      "provenance": [],
      "gpuType": "T4"
    },
    "kernelspec": {
      "name": "python3",
      "display_name": "Python 3"
    },
    "language_info": {
      "name": "python"
    },
    "accelerator": "GPU",
    "widgets": {
      "application/vnd.jupyter.widget-state+json": {
        "306d032c0e7b4420859a46fab149a482": {
          "model_module": "@jupyter-widgets/controls",
          "model_name": "HBoxModel",
          "model_module_version": "1.5.0",
          "state": {
            "_dom_classes": [],
            "_model_module": "@jupyter-widgets/controls",
            "_model_module_version": "1.5.0",
            "_model_name": "HBoxModel",
            "_view_count": null,
            "_view_module": "@jupyter-widgets/controls",
            "_view_module_version": "1.5.0",
            "_view_name": "HBoxView",
            "box_style": "",
            "children": [
              "IPY_MODEL_2dc0ec5e7d3243979403207ce3a73cbc",
              "IPY_MODEL_ddbf720a72994ed79798c415cd0a3b79",
              "IPY_MODEL_8aa211c44fe747a0a14ca389c812a818"
            ],
            "layout": "IPY_MODEL_cab9b342642245aebc441cb647d5ffed"
          }
        },
        "2dc0ec5e7d3243979403207ce3a73cbc": {
          "model_module": "@jupyter-widgets/controls",
          "model_name": "HTMLModel",
          "model_module_version": "1.5.0",
          "state": {
            "_dom_classes": [],
            "_model_module": "@jupyter-widgets/controls",
            "_model_module_version": "1.5.0",
            "_model_name": "HTMLModel",
            "_view_count": null,
            "_view_module": "@jupyter-widgets/controls",
            "_view_module_version": "1.5.0",
            "_view_name": "HTMLView",
            "description": "",
            "description_tooltip": null,
            "layout": "IPY_MODEL_1cfd9bba40264da39e4aa38f418f0955",
            "placeholder": "​",
            "style": "IPY_MODEL_ca14a22ffbf8400cae28d7ddb1723c0f",
            "value": "model.keras: 100%"
          }
        },
        "ddbf720a72994ed79798c415cd0a3b79": {
          "model_module": "@jupyter-widgets/controls",
          "model_name": "FloatProgressModel",
          "model_module_version": "1.5.0",
          "state": {
            "_dom_classes": [],
            "_model_module": "@jupyter-widgets/controls",
            "_model_module_version": "1.5.0",
            "_model_name": "FloatProgressModel",
            "_view_count": null,
            "_view_module": "@jupyter-widgets/controls",
            "_view_module_version": "1.5.0",
            "_view_name": "ProgressView",
            "bar_style": "success",
            "description": "",
            "description_tooltip": null,
            "layout": "IPY_MODEL_c13edc661c774712b22dcb6e22e760a3",
            "max": 6353724,
            "min": 0,
            "orientation": "horizontal",
            "style": "IPY_MODEL_d521957070a947a9bdff179d3a070ea3",
            "value": 6353724
          }
        },
        "8aa211c44fe747a0a14ca389c812a818": {
          "model_module": "@jupyter-widgets/controls",
          "model_name": "HTMLModel",
          "model_module_version": "1.5.0",
          "state": {
            "_dom_classes": [],
            "_model_module": "@jupyter-widgets/controls",
            "_model_module_version": "1.5.0",
            "_model_name": "HTMLModel",
            "_view_count": null,
            "_view_module": "@jupyter-widgets/controls",
            "_view_module_version": "1.5.0",
            "_view_name": "HTMLView",
            "description": "",
            "description_tooltip": null,
            "layout": "IPY_MODEL_f6c41a2ef3e64246ab1a2cc53353a957",
            "placeholder": "​",
            "style": "IPY_MODEL_76e3833477f44ce4bd2282680217fb8e",
            "value": " 6.35M/6.35M [00:00&lt;00:00, 18.7MB/s]"
          }
        },
        "cab9b342642245aebc441cb647d5ffed": {
          "model_module": "@jupyter-widgets/base",
          "model_name": "LayoutModel",
          "model_module_version": "1.2.0",
          "state": {
            "_model_module": "@jupyter-widgets/base",
            "_model_module_version": "1.2.0",
            "_model_name": "LayoutModel",
            "_view_count": null,
            "_view_module": "@jupyter-widgets/base",
            "_view_module_version": "1.2.0",
            "_view_name": "LayoutView",
            "align_content": null,
            "align_items": null,
            "align_self": null,
            "border": null,
            "bottom": null,
            "display": null,
            "flex": null,
            "flex_flow": null,
            "grid_area": null,
            "grid_auto_columns": null,
            "grid_auto_flow": null,
            "grid_auto_rows": null,
            "grid_column": null,
            "grid_gap": null,
            "grid_row": null,
            "grid_template_areas": null,
            "grid_template_columns": null,
            "grid_template_rows": null,
            "height": null,
            "justify_content": null,
            "justify_items": null,
            "left": null,
            "margin": null,
            "max_height": null,
            "max_width": null,
            "min_height": null,
            "min_width": null,
            "object_fit": null,
            "object_position": null,
            "order": null,
            "overflow": null,
            "overflow_x": null,
            "overflow_y": null,
            "padding": null,
            "right": null,
            "top": null,
            "visibility": null,
            "width": null
          }
        },
        "1cfd9bba40264da39e4aa38f418f0955": {
          "model_module": "@jupyter-widgets/base",
          "model_name": "LayoutModel",
          "model_module_version": "1.2.0",
          "state": {
            "_model_module": "@jupyter-widgets/base",
            "_model_module_version": "1.2.0",
            "_model_name": "LayoutModel",
            "_view_count": null,
            "_view_module": "@jupyter-widgets/base",
            "_view_module_version": "1.2.0",
            "_view_name": "LayoutView",
            "align_content": null,
            "align_items": null,
            "align_self": null,
            "border": null,
            "bottom": null,
            "display": null,
            "flex": null,
            "flex_flow": null,
            "grid_area": null,
            "grid_auto_columns": null,
            "grid_auto_flow": null,
            "grid_auto_rows": null,
            "grid_column": null,
            "grid_gap": null,
            "grid_row": null,
            "grid_template_areas": null,
            "grid_template_columns": null,
            "grid_template_rows": null,
            "height": null,
            "justify_content": null,
            "justify_items": null,
            "left": null,
            "margin": null,
            "max_height": null,
            "max_width": null,
            "min_height": null,
            "min_width": null,
            "object_fit": null,
            "object_position": null,
            "order": null,
            "overflow": null,
            "overflow_x": null,
            "overflow_y": null,
            "padding": null,
            "right": null,
            "top": null,
            "visibility": null,
            "width": null
          }
        },
        "ca14a22ffbf8400cae28d7ddb1723c0f": {
          "model_module": "@jupyter-widgets/controls",
          "model_name": "DescriptionStyleModel",
          "model_module_version": "1.5.0",
          "state": {
            "_model_module": "@jupyter-widgets/controls",
            "_model_module_version": "1.5.0",
            "_model_name": "DescriptionStyleModel",
            "_view_count": null,
            "_view_module": "@jupyter-widgets/base",
            "_view_module_version": "1.2.0",
            "_view_name": "StyleView",
            "description_width": ""
          }
        },
        "c13edc661c774712b22dcb6e22e760a3": {
          "model_module": "@jupyter-widgets/base",
          "model_name": "LayoutModel",
          "model_module_version": "1.2.0",
          "state": {
            "_model_module": "@jupyter-widgets/base",
            "_model_module_version": "1.2.0",
            "_model_name": "LayoutModel",
            "_view_count": null,
            "_view_module": "@jupyter-widgets/base",
            "_view_module_version": "1.2.0",
            "_view_name": "LayoutView",
            "align_content": null,
            "align_items": null,
            "align_self": null,
            "border": null,
            "bottom": null,
            "display": null,
            "flex": null,
            "flex_flow": null,
            "grid_area": null,
            "grid_auto_columns": null,
            "grid_auto_flow": null,
            "grid_auto_rows": null,
            "grid_column": null,
            "grid_gap": null,
            "grid_row": null,
            "grid_template_areas": null,
            "grid_template_columns": null,
            "grid_template_rows": null,
            "height": null,
            "justify_content": null,
            "justify_items": null,
            "left": null,
            "margin": null,
            "max_height": null,
            "max_width": null,
            "min_height": null,
            "min_width": null,
            "object_fit": null,
            "object_position": null,
            "order": null,
            "overflow": null,
            "overflow_x": null,
            "overflow_y": null,
            "padding": null,
            "right": null,
            "top": null,
            "visibility": null,
            "width": null
          }
        },
        "d521957070a947a9bdff179d3a070ea3": {
          "model_module": "@jupyter-widgets/controls",
          "model_name": "ProgressStyleModel",
          "model_module_version": "1.5.0",
          "state": {
            "_model_module": "@jupyter-widgets/controls",
            "_model_module_version": "1.5.0",
            "_model_name": "ProgressStyleModel",
            "_view_count": null,
            "_view_module": "@jupyter-widgets/base",
            "_view_module_version": "1.2.0",
            "_view_name": "StyleView",
            "bar_color": null,
            "description_width": ""
          }
        },
        "f6c41a2ef3e64246ab1a2cc53353a957": {
          "model_module": "@jupyter-widgets/base",
          "model_name": "LayoutModel",
          "model_module_version": "1.2.0",
          "state": {
            "_model_module": "@jupyter-widgets/base",
            "_model_module_version": "1.2.0",
            "_model_name": "LayoutModel",
            "_view_count": null,
            "_view_module": "@jupyter-widgets/base",
            "_view_module_version": "1.2.0",
            "_view_name": "LayoutView",
            "align_content": null,
            "align_items": null,
            "align_self": null,
            "border": null,
            "bottom": null,
            "display": null,
            "flex": null,
            "flex_flow": null,
            "grid_area": null,
            "grid_auto_columns": null,
            "grid_auto_flow": null,
            "grid_auto_rows": null,
            "grid_column": null,
            "grid_gap": null,
            "grid_row": null,
            "grid_template_areas": null,
            "grid_template_columns": null,
            "grid_template_rows": null,
            "height": null,
            "justify_content": null,
            "justify_items": null,
            "left": null,
            "margin": null,
            "max_height": null,
            "max_width": null,
            "min_height": null,
            "min_width": null,
            "object_fit": null,
            "object_position": null,
            "order": null,
            "overflow": null,
            "overflow_x": null,
            "overflow_y": null,
            "padding": null,
            "right": null,
            "top": null,
            "visibility": null,
            "width": null
          }
        },
        "76e3833477f44ce4bd2282680217fb8e": {
          "model_module": "@jupyter-widgets/controls",
          "model_name": "DescriptionStyleModel",
          "model_module_version": "1.5.0",
          "state": {
            "_model_module": "@jupyter-widgets/controls",
            "_model_module_version": "1.5.0",
            "_model_name": "DescriptionStyleModel",
            "_view_count": null,
            "_view_module": "@jupyter-widgets/base",
            "_view_module_version": "1.2.0",
            "_view_name": "StyleView",
            "description_width": ""
          }
        },
        "23cb2e6167aa462784c42b1558e19cbe": {
          "model_module": "@jupyter-widgets/controls",
          "model_name": "HBoxModel",
          "model_module_version": "1.5.0",
          "state": {
            "_dom_classes": [],
            "_model_module": "@jupyter-widgets/controls",
            "_model_module_version": "1.5.0",
            "_model_name": "HBoxModel",
            "_view_count": null,
            "_view_module": "@jupyter-widgets/controls",
            "_view_module_version": "1.5.0",
            "_view_name": "HBoxView",
            "box_style": "",
            "children": [
              "IPY_MODEL_168948ed50ce42db953502d3461ba731",
              "IPY_MODEL_5eef942310b54a4d8fb72ef6de2d406c",
              "IPY_MODEL_5d2f0e30ea1f41339133a822fd724640"
            ],
            "layout": "IPY_MODEL_6491938394bc45f9a96c9acfd9b94607"
          }
        },
        "168948ed50ce42db953502d3461ba731": {
          "model_module": "@jupyter-widgets/controls",
          "model_name": "HTMLModel",
          "model_module_version": "1.5.0",
          "state": {
            "_dom_classes": [],
            "_model_module": "@jupyter-widgets/controls",
            "_model_module_version": "1.5.0",
            "_model_name": "HTMLModel",
            "_view_count": null,
            "_view_module": "@jupyter-widgets/controls",
            "_view_module_version": "1.5.0",
            "_view_name": "HTMLView",
            "description": "",
            "description_tooltip": null,
            "layout": "IPY_MODEL_ba89bb7e75094c7dabf25db59e1bd708",
            "placeholder": "​",
            "style": "IPY_MODEL_ffefc0883fa949b08201104daaf01fa7",
            "value": "tokenizer.pkl: 100%"
          }
        },
        "5eef942310b54a4d8fb72ef6de2d406c": {
          "model_module": "@jupyter-widgets/controls",
          "model_name": "FloatProgressModel",
          "model_module_version": "1.5.0",
          "state": {
            "_dom_classes": [],
            "_model_module": "@jupyter-widgets/controls",
            "_model_module_version": "1.5.0",
            "_model_name": "FloatProgressModel",
            "_view_count": null,
            "_view_module": "@jupyter-widgets/controls",
            "_view_module_version": "1.5.0",
            "_view_name": "ProgressView",
            "bar_style": "success",
            "description": "",
            "description_tooltip": null,
            "layout": "IPY_MODEL_6ab30596dd0d42da800056c2d4e9046a",
            "max": 629587,
            "min": 0,
            "orientation": "horizontal",
            "style": "IPY_MODEL_7914c5c8f2d544a3a244794651dba903",
            "value": 629587
          }
        },
        "5d2f0e30ea1f41339133a822fd724640": {
          "model_module": "@jupyter-widgets/controls",
          "model_name": "HTMLModel",
          "model_module_version": "1.5.0",
          "state": {
            "_dom_classes": [],
            "_model_module": "@jupyter-widgets/controls",
            "_model_module_version": "1.5.0",
            "_model_name": "HTMLModel",
            "_view_count": null,
            "_view_module": "@jupyter-widgets/controls",
            "_view_module_version": "1.5.0",
            "_view_name": "HTMLView",
            "description": "",
            "description_tooltip": null,
            "layout": "IPY_MODEL_7afde3d562b14312bf8409645c710cd7",
            "placeholder": "​",
            "style": "IPY_MODEL_5eba94457f714611adae9956821f014c",
            "value": " 630k/630k [00:00&lt;00:00, 3.21MB/s]"
          }
        },
        "6491938394bc45f9a96c9acfd9b94607": {
          "model_module": "@jupyter-widgets/base",
          "model_name": "LayoutModel",
          "model_module_version": "1.2.0",
          "state": {
            "_model_module": "@jupyter-widgets/base",
            "_model_module_version": "1.2.0",
            "_model_name": "LayoutModel",
            "_view_count": null,
            "_view_module": "@jupyter-widgets/base",
            "_view_module_version": "1.2.0",
            "_view_name": "LayoutView",
            "align_content": null,
            "align_items": null,
            "align_self": null,
            "border": null,
            "bottom": null,
            "display": null,
            "flex": null,
            "flex_flow": null,
            "grid_area": null,
            "grid_auto_columns": null,
            "grid_auto_flow": null,
            "grid_auto_rows": null,
            "grid_column": null,
            "grid_gap": null,
            "grid_row": null,
            "grid_template_areas": null,
            "grid_template_columns": null,
            "grid_template_rows": null,
            "height": null,
            "justify_content": null,
            "justify_items": null,
            "left": null,
            "margin": null,
            "max_height": null,
            "max_width": null,
            "min_height": null,
            "min_width": null,
            "object_fit": null,
            "object_position": null,
            "order": null,
            "overflow": null,
            "overflow_x": null,
            "overflow_y": null,
            "padding": null,
            "right": null,
            "top": null,
            "visibility": null,
            "width": null
          }
        },
        "ba89bb7e75094c7dabf25db59e1bd708": {
          "model_module": "@jupyter-widgets/base",
          "model_name": "LayoutModel",
          "model_module_version": "1.2.0",
          "state": {
            "_model_module": "@jupyter-widgets/base",
            "_model_module_version": "1.2.0",
            "_model_name": "LayoutModel",
            "_view_count": null,
            "_view_module": "@jupyter-widgets/base",
            "_view_module_version": "1.2.0",
            "_view_name": "LayoutView",
            "align_content": null,
            "align_items": null,
            "align_self": null,
            "border": null,
            "bottom": null,
            "display": null,
            "flex": null,
            "flex_flow": null,
            "grid_area": null,
            "grid_auto_columns": null,
            "grid_auto_flow": null,
            "grid_auto_rows": null,
            "grid_column": null,
            "grid_gap": null,
            "grid_row": null,
            "grid_template_areas": null,
            "grid_template_columns": null,
            "grid_template_rows": null,
            "height": null,
            "justify_content": null,
            "justify_items": null,
            "left": null,
            "margin": null,
            "max_height": null,
            "max_width": null,
            "min_height": null,
            "min_width": null,
            "object_fit": null,
            "object_position": null,
            "order": null,
            "overflow": null,
            "overflow_x": null,
            "overflow_y": null,
            "padding": null,
            "right": null,
            "top": null,
            "visibility": null,
            "width": null
          }
        },
        "ffefc0883fa949b08201104daaf01fa7": {
          "model_module": "@jupyter-widgets/controls",
          "model_name": "DescriptionStyleModel",
          "model_module_version": "1.5.0",
          "state": {
            "_model_module": "@jupyter-widgets/controls",
            "_model_module_version": "1.5.0",
            "_model_name": "DescriptionStyleModel",
            "_view_count": null,
            "_view_module": "@jupyter-widgets/base",
            "_view_module_version": "1.2.0",
            "_view_name": "StyleView",
            "description_width": ""
          }
        },
        "6ab30596dd0d42da800056c2d4e9046a": {
          "model_module": "@jupyter-widgets/base",
          "model_name": "LayoutModel",
          "model_module_version": "1.2.0",
          "state": {
            "_model_module": "@jupyter-widgets/base",
            "_model_module_version": "1.2.0",
            "_model_name": "LayoutModel",
            "_view_count": null,
            "_view_module": "@jupyter-widgets/base",
            "_view_module_version": "1.2.0",
            "_view_name": "LayoutView",
            "align_content": null,
            "align_items": null,
            "align_self": null,
            "border": null,
            "bottom": null,
            "display": null,
            "flex": null,
            "flex_flow": null,
            "grid_area": null,
            "grid_auto_columns": null,
            "grid_auto_flow": null,
            "grid_auto_rows": null,
            "grid_column": null,
            "grid_gap": null,
            "grid_row": null,
            "grid_template_areas": null,
            "grid_template_columns": null,
            "grid_template_rows": null,
            "height": null,
            "justify_content": null,
            "justify_items": null,
            "left": null,
            "margin": null,
            "max_height": null,
            "max_width": null,
            "min_height": null,
            "min_width": null,
            "object_fit": null,
            "object_position": null,
            "order": null,
            "overflow": null,
            "overflow_x": null,
            "overflow_y": null,
            "padding": null,
            "right": null,
            "top": null,
            "visibility": null,
            "width": null
          }
        },
        "7914c5c8f2d544a3a244794651dba903": {
          "model_module": "@jupyter-widgets/controls",
          "model_name": "ProgressStyleModel",
          "model_module_version": "1.5.0",
          "state": {
            "_model_module": "@jupyter-widgets/controls",
            "_model_module_version": "1.5.0",
            "_model_name": "ProgressStyleModel",
            "_view_count": null,
            "_view_module": "@jupyter-widgets/base",
            "_view_module_version": "1.2.0",
            "_view_name": "StyleView",
            "bar_color": null,
            "description_width": ""
          }
        },
        "7afde3d562b14312bf8409645c710cd7": {
          "model_module": "@jupyter-widgets/base",
          "model_name": "LayoutModel",
          "model_module_version": "1.2.0",
          "state": {
            "_model_module": "@jupyter-widgets/base",
            "_model_module_version": "1.2.0",
            "_model_name": "LayoutModel",
            "_view_count": null,
            "_view_module": "@jupyter-widgets/base",
            "_view_module_version": "1.2.0",
            "_view_name": "LayoutView",
            "align_content": null,
            "align_items": null,
            "align_self": null,
            "border": null,
            "bottom": null,
            "display": null,
            "flex": null,
            "flex_flow": null,
            "grid_area": null,
            "grid_auto_columns": null,
            "grid_auto_flow": null,
            "grid_auto_rows": null,
            "grid_column": null,
            "grid_gap": null,
            "grid_row": null,
            "grid_template_areas": null,
            "grid_template_columns": null,
            "grid_template_rows": null,
            "height": null,
            "justify_content": null,
            "justify_items": null,
            "left": null,
            "margin": null,
            "max_height": null,
            "max_width": null,
            "min_height": null,
            "min_width": null,
            "object_fit": null,
            "object_position": null,
            "order": null,
            "overflow": null,
            "overflow_x": null,
            "overflow_y": null,
            "padding": null,
            "right": null,
            "top": null,
            "visibility": null,
            "width": null
          }
        },
        "5eba94457f714611adae9956821f014c": {
          "model_module": "@jupyter-widgets/controls",
          "model_name": "DescriptionStyleModel",
          "model_module_version": "1.5.0",
          "state": {
            "_model_module": "@jupyter-widgets/controls",
            "_model_module_version": "1.5.0",
            "_model_name": "DescriptionStyleModel",
            "_view_count": null,
            "_view_module": "@jupyter-widgets/base",
            "_view_module_version": "1.2.0",
            "_view_name": "StyleView",
            "description_width": ""
          }
        }
      }
    }
  },
  "cells": [
    {
      "cell_type": "markdown",
      "source": [
        "**Student Name - Aditya Bhavsar**"
      ],
      "metadata": {
        "id": "axJQ5w3Pq2vn"
      }
    },
    {
      "cell_type": "markdown",
      "source": [
        "## Define Model"
      ],
      "metadata": {
        "id": "vZWECH6nUPU2"
      }
    },
    {
      "cell_type": "markdown",
      "source": [
        "$$\n",
        "\\begin{matrix}\n",
        "\\text{Input 1: text}, X_1 & \\rightarrow & \\text{embed}: E(X_1) & \\rightarrow & N_1(E(X_1)) \\\\\n",
        "  & & & & \\searrow \\\\\n",
        "  & & & &          & \\oplus \\rightarrow N_3 \\bigg( \\underbrace{N_1(E(X_1))}_\\text{text}, \\underbrace{N_2(X_2)}_\\text{func rating} \\bigg) \\\\\n",
        "  & & & & \\nearrow \\\\\n",
        "& & \\text{Input 2: function rating}, X_2 & \\rightarrow & N_2(X_2) \\\\\n",
        "\\end{matrix}\n",
        "$$"
      ],
      "metadata": {
        "id": "erc5ANgS4S7f"
      }
    },
    {
      "cell_type": "markdown",
      "source": [
        "#Import required libraries"
      ],
      "metadata": {
        "id": "A0FsFKI3iTye"
      }
    },
    {
      "cell_type": "code",
      "source": [
        "from transformers import BertTokenizer, TFBertModel\n",
        "import tensorflow as tf\n",
        "from tensorflow.keras.layers import Input, Dense, Concatenate, Dropout, Lambda\n",
        "from tensorflow.keras.models import Model\n",
        "import numpy as np\n",
        "import pandas as pd\n",
        "import matplotlib.pyplot as plt\n",
        "from tensorflow.keras.optimizers import AdamW\n",
        "from tensorflow.keras.callbacks import EarlyStopping, ReduceLROnPlateau\n",
        "from tensorflow.keras.regularizers import l2\n",
        "from tensorflow import keras\n",
        "from huggingface_hub import HfApi"
      ],
      "metadata": {
        "id": "34RL9Ia4iT2k"
      },
      "execution_count": null,
      "outputs": []
    },
    {
      "cell_type": "markdown",
      "source": [
        "# Load tokenizer and model"
      ],
      "metadata": {
        "id": "dfTIn6jAiX5A"
      }
    },
    {
      "cell_type": "code",
      "source": [
        "# Setting Hugging face token\n",
        "import os\n",
        "os.environ[\"HF_TOKEN\"] = \"Use your hugging face API key here\"\n",
        "\n",
        "from huggingface_hub import login\n",
        "login(token=os.environ[\"HF_TOKEN\"])"
      ],
      "metadata": {
        "colab": {
          "base_uri": "https://localhost:8080/"
        },
        "id": "N0pZbehsluWB",
        "outputId": "9ef74b05-fdb0-4173-d83e-2474e5ec16d6"
      },
      "execution_count": null,
      "outputs": [
        {
          "output_type": "stream",
          "name": "stderr",
          "text": [
            "Note: Environment variable`HF_TOKEN` is set and is the current active token independently from the token you've just configured.\n",
            "WARNING:huggingface_hub._login:Note: Environment variable`HF_TOKEN` is set and is the current active token independently from the token you've just configured.\n"
          ]
        }
      ]
    },
    {
      "cell_type": "code",
      "source": [
        "# Load the tokenizer and model\n",
        "tokenizer = BertTokenizer.from_pretrained(\"bert-base-uncased\")\n",
        "bert_model = TFBertModel.from_pretrained(\"bert-base-uncased\")"
      ],
      "metadata": {
        "id": "aRFXJGBoiX_n",
        "colab": {
          "base_uri": "https://localhost:8080/"
        },
        "outputId": "c63cec7c-cce4-417b-e118-10ba402ff109"
      },
      "execution_count": null,
      "outputs": [
        {
          "output_type": "stream",
          "name": "stderr",
          "text": [
            "Some weights of the PyTorch model were not used when initializing the TF 2.0 model TFBertModel: ['cls.predictions.transform.dense.bias', 'cls.seq_relationship.weight', 'cls.predictions.transform.LayerNorm.weight', 'cls.predictions.transform.dense.weight', 'cls.seq_relationship.bias', 'cls.predictions.bias', 'cls.predictions.transform.LayerNorm.bias']\n",
            "- This IS expected if you are initializing TFBertModel from a PyTorch model trained on another task or with another architecture (e.g. initializing a TFBertForSequenceClassification model from a BertForPreTraining model).\n",
            "- This IS NOT expected if you are initializing TFBertModel from a PyTorch model that you expect to be exactly identical (e.g. initializing a TFBertForSequenceClassification model from a BertForSequenceClassification model).\n",
            "All the weights of TFBertModel were initialized from the PyTorch model.\n",
            "If your task is similar to the task the model of the checkpoint was trained on, you can already use TFBertModel for predictions without further training.\n"
          ]
        }
      ]
    },
    {
      "cell_type": "markdown",
      "source": [
        "# Model"
      ],
      "metadata": {
        "id": "wPaRGXn1ihXj"
      }
    },
    {
      "cell_type": "code",
      "source": [
        "# Unfreeze BERT layers except for the first 2\n",
        "for layer in bert_model.layers[:2]:\n",
        "    layer.trainable = False\n",
        "\n",
        "def encode_text(texts, tokenizer, max_length=128):\n",
        "    \"\"\"Tokenize and encode input texts.\"\"\"\n",
        "    encoded = tokenizer(texts.tolist(), padding='max_length', truncation=True, max_length=max_length, return_tensors=\"np\")\n",
        "    return encoded[\"input_ids\"], encoded[\"attention_mask\"]\n",
        "\n",
        "# Register bert_layer function before saving\n",
        "@tf.keras.utils.register_keras_serializable()\n",
        "def bert_layer(inputs):\n",
        "    \"\"\"Extracts the [CLS] token representation from BERT.\"\"\"\n",
        "    return bert_model(inputs[0], attention_mask=inputs[1])[0][:, 0, :]\n",
        "\n",
        "def create_bert_nn_model():\n",
        "    \"\"\"Creates a neural network using BERT embeddings and numerical inputs.\"\"\"\n",
        "\n",
        "    # Text input\n",
        "    text_input = Input(shape=(128,), dtype=tf.int32, name=\"text_input\")\n",
        "    attention_mask = Input(shape=(128,), dtype=tf.int32, name=\"attention_mask\")\n",
        "\n",
        "    # BERT embedding extraction\n",
        "    bert_output = Lambda(bert_layer, output_shape=(768,))([text_input, attention_mask])\n",
        "\n",
        "    # Fully connected layers\n",
        "    x = Dense(512, activation='relu', kernel_regularizer=l2(0.01))(bert_output)\n",
        "    x = Dropout(0.3)(x)\n",
        "    x = Dense(256, activation='relu', kernel_regularizer=l2(0.01))(x)\n",
        "    x = Dropout(0.3)(x)\n",
        "\n",
        "    # Numeric input\n",
        "    func_rating_input = Input(shape=(1,), dtype=tf.float32, name=\"func_rating_input\")\n",
        "    y = Dense(64, activation='relu', kernel_regularizer=l2(0.01))(func_rating_input)\n",
        "\n",
        "    # Concatenate both\n",
        "    concatenated = Concatenate()([x, y])\n",
        "    output = Dense(1, activation='linear', name=\"output\")(concatenated)\n",
        "\n",
        "    # Define model\n",
        "    model = Model(inputs=[text_input, attention_mask, func_rating_input], outputs=output)\n",
        "\n",
        "    # Compile with AdamW optimizer\n",
        "    model.compile(optimizer=AdamW(learning_rate=2e-5), loss='mean_squared_error', metrics=['mae', 'mse', 'accuracy'])\n",
        "\n",
        "    return model"
      ],
      "metadata": {
        "id": "qu3gR9-zihbR"
      },
      "execution_count": null,
      "outputs": []
    },
    {
      "cell_type": "markdown",
      "source": [
        "# Loading Dataset"
      ],
      "metadata": {
        "id": "lcISiZ8kirKN"
      }
    },
    {
      "cell_type": "code",
      "source": [
        "df = pd.read_csv(\"/content/Combined.csv\")"
      ],
      "metadata": {
        "id": "CQ-NI4nSirOM"
      },
      "execution_count": null,
      "outputs": []
    },
    {
      "cell_type": "code",
      "source": [
        "df.head()"
      ],
      "metadata": {
        "colab": {
          "base_uri": "https://localhost:8080/",
          "height": 206
        },
        "id": "oVFstFktmavU",
        "outputId": "8b948080-1827-4193-87ea-c3e73d116014"
      },
      "execution_count": null,
      "outputs": [
        {
          "output_type": "execute_result",
          "data": {
            "text/plain": [
              "                                         user_prompt  \\\n",
              "0  I have just been on an international flight, c...   \n",
              "1        What are the benefits of a vegetarian diet?   \n",
              "2        What are the benefits of a vegetarian diet?   \n",
              "3        What are the benefits of a vegetarian diet?   \n",
              "4  How to improve mental health during stressful ...   \n",
              "\n",
              "                                        url_to_check  func_rating  \\\n",
              "0  https://www.mayoclinic.org/healthy-lifestyle/i...            2   \n",
              "1  https://www.nhs.uk/live-well/eat-well/how-to-e...            2   \n",
              "2  https://www.nhs.uk/live-well/eat-well/how-to-e...            2   \n",
              "3  https://pubmed.ncbi.nlm.nih.gov/37226630/#:~:t...            2   \n",
              "4  https://www.who.int/news-room/questions-and-an...            3   \n",
              "\n",
              "   custom_rating  \n",
              "0              3  \n",
              "1              4  \n",
              "2              2  \n",
              "3              3  \n",
              "4              3  "
            ],
            "text/html": [
              "\n",
              "  <div id=\"df-e7aabdc7-e602-4bf9-aa3d-7a8f79a1c32e\" class=\"colab-df-container\">\n",
              "    <div>\n",
              "<style scoped>\n",
              "    .dataframe tbody tr th:only-of-type {\n",
              "        vertical-align: middle;\n",
              "    }\n",
              "\n",
              "    .dataframe tbody tr th {\n",
              "        vertical-align: top;\n",
              "    }\n",
              "\n",
              "    .dataframe thead th {\n",
              "        text-align: right;\n",
              "    }\n",
              "</style>\n",
              "<table border=\"1\" class=\"dataframe\">\n",
              "  <thead>\n",
              "    <tr style=\"text-align: right;\">\n",
              "      <th></th>\n",
              "      <th>user_prompt</th>\n",
              "      <th>url_to_check</th>\n",
              "      <th>func_rating</th>\n",
              "      <th>custom_rating</th>\n",
              "    </tr>\n",
              "  </thead>\n",
              "  <tbody>\n",
              "    <tr>\n",
              "      <th>0</th>\n",
              "      <td>I have just been on an international flight, c...</td>\n",
              "      <td>https://www.mayoclinic.org/healthy-lifestyle/i...</td>\n",
              "      <td>2</td>\n",
              "      <td>3</td>\n",
              "    </tr>\n",
              "    <tr>\n",
              "      <th>1</th>\n",
              "      <td>What are the benefits of a vegetarian diet?</td>\n",
              "      <td>https://www.nhs.uk/live-well/eat-well/how-to-e...</td>\n",
              "      <td>2</td>\n",
              "      <td>4</td>\n",
              "    </tr>\n",
              "    <tr>\n",
              "      <th>2</th>\n",
              "      <td>What are the benefits of a vegetarian diet?</td>\n",
              "      <td>https://www.nhs.uk/live-well/eat-well/how-to-e...</td>\n",
              "      <td>2</td>\n",
              "      <td>2</td>\n",
              "    </tr>\n",
              "    <tr>\n",
              "      <th>3</th>\n",
              "      <td>What are the benefits of a vegetarian diet?</td>\n",
              "      <td>https://pubmed.ncbi.nlm.nih.gov/37226630/#:~:t...</td>\n",
              "      <td>2</td>\n",
              "      <td>3</td>\n",
              "    </tr>\n",
              "    <tr>\n",
              "      <th>4</th>\n",
              "      <td>How to improve mental health during stressful ...</td>\n",
              "      <td>https://www.who.int/news-room/questions-and-an...</td>\n",
              "      <td>3</td>\n",
              "      <td>3</td>\n",
              "    </tr>\n",
              "  </tbody>\n",
              "</table>\n",
              "</div>\n",
              "    <div class=\"colab-df-buttons\">\n",
              "\n",
              "  <div class=\"colab-df-container\">\n",
              "    <button class=\"colab-df-convert\" onclick=\"convertToInteractive('df-e7aabdc7-e602-4bf9-aa3d-7a8f79a1c32e')\"\n",
              "            title=\"Convert this dataframe to an interactive table.\"\n",
              "            style=\"display:none;\">\n",
              "\n",
              "  <svg xmlns=\"http://www.w3.org/2000/svg\" height=\"24px\" viewBox=\"0 -960 960 960\">\n",
              "    <path d=\"M120-120v-720h720v720H120Zm60-500h600v-160H180v160Zm220 220h160v-160H400v160Zm0 220h160v-160H400v160ZM180-400h160v-160H180v160Zm440 0h160v-160H620v160ZM180-180h160v-160H180v160Zm440 0h160v-160H620v160Z\"/>\n",
              "  </svg>\n",
              "    </button>\n",
              "\n",
              "  <style>\n",
              "    .colab-df-container {\n",
              "      display:flex;\n",
              "      gap: 12px;\n",
              "    }\n",
              "\n",
              "    .colab-df-convert {\n",
              "      background-color: #E8F0FE;\n",
              "      border: none;\n",
              "      border-radius: 50%;\n",
              "      cursor: pointer;\n",
              "      display: none;\n",
              "      fill: #1967D2;\n",
              "      height: 32px;\n",
              "      padding: 0 0 0 0;\n",
              "      width: 32px;\n",
              "    }\n",
              "\n",
              "    .colab-df-convert:hover {\n",
              "      background-color: #E2EBFA;\n",
              "      box-shadow: 0px 1px 2px rgba(60, 64, 67, 0.3), 0px 1px 3px 1px rgba(60, 64, 67, 0.15);\n",
              "      fill: #174EA6;\n",
              "    }\n",
              "\n",
              "    .colab-df-buttons div {\n",
              "      margin-bottom: 4px;\n",
              "    }\n",
              "\n",
              "    [theme=dark] .colab-df-convert {\n",
              "      background-color: #3B4455;\n",
              "      fill: #D2E3FC;\n",
              "    }\n",
              "\n",
              "    [theme=dark] .colab-df-convert:hover {\n",
              "      background-color: #434B5C;\n",
              "      box-shadow: 0px 1px 3px 1px rgba(0, 0, 0, 0.15);\n",
              "      filter: drop-shadow(0px 1px 2px rgba(0, 0, 0, 0.3));\n",
              "      fill: #FFFFFF;\n",
              "    }\n",
              "  </style>\n",
              "\n",
              "    <script>\n",
              "      const buttonEl =\n",
              "        document.querySelector('#df-e7aabdc7-e602-4bf9-aa3d-7a8f79a1c32e button.colab-df-convert');\n",
              "      buttonEl.style.display =\n",
              "        google.colab.kernel.accessAllowed ? 'block' : 'none';\n",
              "\n",
              "      async function convertToInteractive(key) {\n",
              "        const element = document.querySelector('#df-e7aabdc7-e602-4bf9-aa3d-7a8f79a1c32e');\n",
              "        const dataTable =\n",
              "          await google.colab.kernel.invokeFunction('convertToInteractive',\n",
              "                                                    [key], {});\n",
              "        if (!dataTable) return;\n",
              "\n",
              "        const docLinkHtml = 'Like what you see? Visit the ' +\n",
              "          '<a target=\"_blank\" href=https://colab.research.google.com/notebooks/data_table.ipynb>data table notebook</a>'\n",
              "          + ' to learn more about interactive tables.';\n",
              "        element.innerHTML = '';\n",
              "        dataTable['output_type'] = 'display_data';\n",
              "        await google.colab.output.renderOutput(dataTable, element);\n",
              "        const docLink = document.createElement('div');\n",
              "        docLink.innerHTML = docLinkHtml;\n",
              "        element.appendChild(docLink);\n",
              "      }\n",
              "    </script>\n",
              "  </div>\n",
              "\n",
              "\n",
              "<div id=\"df-100a9dea-3f96-4d52-ac8f-60a9f1742157\">\n",
              "  <button class=\"colab-df-quickchart\" onclick=\"quickchart('df-100a9dea-3f96-4d52-ac8f-60a9f1742157')\"\n",
              "            title=\"Suggest charts\"\n",
              "            style=\"display:none;\">\n",
              "\n",
              "<svg xmlns=\"http://www.w3.org/2000/svg\" height=\"24px\"viewBox=\"0 0 24 24\"\n",
              "     width=\"24px\">\n",
              "    <g>\n",
              "        <path d=\"M19 3H5c-1.1 0-2 .9-2 2v14c0 1.1.9 2 2 2h14c1.1 0 2-.9 2-2V5c0-1.1-.9-2-2-2zM9 17H7v-7h2v7zm4 0h-2V7h2v10zm4 0h-2v-4h2v4z\"/>\n",
              "    </g>\n",
              "</svg>\n",
              "  </button>\n",
              "\n",
              "<style>\n",
              "  .colab-df-quickchart {\n",
              "      --bg-color: #E8F0FE;\n",
              "      --fill-color: #1967D2;\n",
              "      --hover-bg-color: #E2EBFA;\n",
              "      --hover-fill-color: #174EA6;\n",
              "      --disabled-fill-color: #AAA;\n",
              "      --disabled-bg-color: #DDD;\n",
              "  }\n",
              "\n",
              "  [theme=dark] .colab-df-quickchart {\n",
              "      --bg-color: #3B4455;\n",
              "      --fill-color: #D2E3FC;\n",
              "      --hover-bg-color: #434B5C;\n",
              "      --hover-fill-color: #FFFFFF;\n",
              "      --disabled-bg-color: #3B4455;\n",
              "      --disabled-fill-color: #666;\n",
              "  }\n",
              "\n",
              "  .colab-df-quickchart {\n",
              "    background-color: var(--bg-color);\n",
              "    border: none;\n",
              "    border-radius: 50%;\n",
              "    cursor: pointer;\n",
              "    display: none;\n",
              "    fill: var(--fill-color);\n",
              "    height: 32px;\n",
              "    padding: 0;\n",
              "    width: 32px;\n",
              "  }\n",
              "\n",
              "  .colab-df-quickchart:hover {\n",
              "    background-color: var(--hover-bg-color);\n",
              "    box-shadow: 0 1px 2px rgba(60, 64, 67, 0.3), 0 1px 3px 1px rgba(60, 64, 67, 0.15);\n",
              "    fill: var(--button-hover-fill-color);\n",
              "  }\n",
              "\n",
              "  .colab-df-quickchart-complete:disabled,\n",
              "  .colab-df-quickchart-complete:disabled:hover {\n",
              "    background-color: var(--disabled-bg-color);\n",
              "    fill: var(--disabled-fill-color);\n",
              "    box-shadow: none;\n",
              "  }\n",
              "\n",
              "  .colab-df-spinner {\n",
              "    border: 2px solid var(--fill-color);\n",
              "    border-color: transparent;\n",
              "    border-bottom-color: var(--fill-color);\n",
              "    animation:\n",
              "      spin 1s steps(1) infinite;\n",
              "  }\n",
              "\n",
              "  @keyframes spin {\n",
              "    0% {\n",
              "      border-color: transparent;\n",
              "      border-bottom-color: var(--fill-color);\n",
              "      border-left-color: var(--fill-color);\n",
              "    }\n",
              "    20% {\n",
              "      border-color: transparent;\n",
              "      border-left-color: var(--fill-color);\n",
              "      border-top-color: var(--fill-color);\n",
              "    }\n",
              "    30% {\n",
              "      border-color: transparent;\n",
              "      border-left-color: var(--fill-color);\n",
              "      border-top-color: var(--fill-color);\n",
              "      border-right-color: var(--fill-color);\n",
              "    }\n",
              "    40% {\n",
              "      border-color: transparent;\n",
              "      border-right-color: var(--fill-color);\n",
              "      border-top-color: var(--fill-color);\n",
              "    }\n",
              "    60% {\n",
              "      border-color: transparent;\n",
              "      border-right-color: var(--fill-color);\n",
              "    }\n",
              "    80% {\n",
              "      border-color: transparent;\n",
              "      border-right-color: var(--fill-color);\n",
              "      border-bottom-color: var(--fill-color);\n",
              "    }\n",
              "    90% {\n",
              "      border-color: transparent;\n",
              "      border-bottom-color: var(--fill-color);\n",
              "    }\n",
              "  }\n",
              "</style>\n",
              "\n",
              "  <script>\n",
              "    async function quickchart(key) {\n",
              "      const quickchartButtonEl =\n",
              "        document.querySelector('#' + key + ' button');\n",
              "      quickchartButtonEl.disabled = true;  // To prevent multiple clicks.\n",
              "      quickchartButtonEl.classList.add('colab-df-spinner');\n",
              "      try {\n",
              "        const charts = await google.colab.kernel.invokeFunction(\n",
              "            'suggestCharts', [key], {});\n",
              "      } catch (error) {\n",
              "        console.error('Error during call to suggestCharts:', error);\n",
              "      }\n",
              "      quickchartButtonEl.classList.remove('colab-df-spinner');\n",
              "      quickchartButtonEl.classList.add('colab-df-quickchart-complete');\n",
              "    }\n",
              "    (() => {\n",
              "      let quickchartButtonEl =\n",
              "        document.querySelector('#df-100a9dea-3f96-4d52-ac8f-60a9f1742157 button');\n",
              "      quickchartButtonEl.style.display =\n",
              "        google.colab.kernel.accessAllowed ? 'block' : 'none';\n",
              "    })();\n",
              "  </script>\n",
              "</div>\n",
              "\n",
              "    </div>\n",
              "  </div>\n"
            ],
            "application/vnd.google.colaboratory.intrinsic+json": {
              "type": "dataframe",
              "variable_name": "df",
              "summary": "{\n  \"name\": \"df\",\n  \"rows\": 282,\n  \"fields\": [\n    {\n      \"column\": \"user_prompt\",\n      \"properties\": {\n        \"dtype\": \"string\",\n        \"num_unique_values\": 240,\n        \"samples\": [\n          \"deep learning sleep algorithm details and its working\",\n          \"How does climate change impact global weather?\",\n          \"\\\"Is it safe to do strength training exercises during pregnancy?\\\"\"\n        ],\n        \"semantic_type\": \"\",\n        \"description\": \"\"\n      }\n    },\n    {\n      \"column\": \"url_to_check\",\n      \"properties\": {\n        \"dtype\": \"string\",\n        \"num_unique_values\": 262,\n        \"samples\": [\n          \"https://www.psychologytoday.com/us/articles/201803/how-stop-self-sabotage\",\n          \"https://www.psychologytoday.com/us/articles/201608/how-to-stop-procrastinating\",\n          \"https://www.cdc.gov/nchs/fastats/heart-disease.htm\"\n        ],\n        \"semantic_type\": \"\",\n        \"description\": \"\"\n      }\n    },\n    {\n      \"column\": \"func_rating\",\n      \"properties\": {\n        \"dtype\": \"number\",\n        \"std\": 0,\n        \"min\": 0,\n        \"max\": 5,\n        \"num_unique_values\": 6,\n        \"samples\": [\n          2,\n          3,\n          0\n        ],\n        \"semantic_type\": \"\",\n        \"description\": \"\"\n      }\n    },\n    {\n      \"column\": \"custom_rating\",\n      \"properties\": {\n        \"dtype\": \"number\",\n        \"std\": 1,\n        \"min\": 0,\n        \"max\": 5,\n        \"num_unique_values\": 6,\n        \"samples\": [\n          3,\n          4,\n          0\n        ],\n        \"semantic_type\": \"\",\n        \"description\": \"\"\n      }\n    }\n  ]\n}"
            }
          },
          "metadata": {},
          "execution_count": 12
        }
      ]
    },
    {
      "cell_type": "markdown",
      "source": [
        "# Encoding the given data and verfying the dimensionality/Shape"
      ],
      "metadata": {
        "id": "ZT50BsVvivtE"
      }
    },
    {
      "cell_type": "code",
      "source": [
        "# Encode user prompts\n",
        "X_text, X_mask = encode_text(df['user_prompt'], tokenizer, max_length=128)\n",
        "\n",
        "# Ensure the shape is correct\n",
        "X_text = np.array(X_text)\n",
        "X_mask = np.array(X_mask)\n",
        "X_numeric = df['func_rating'].values.reshape(-1, 1).astype(np.float32)\n",
        "Y = df['custom_rating'].values.reshape(-1, 1).astype(np.float32)\n",
        "\n",
        "# Verify input shapes\n",
        "assert X_text.shape[1] == 128, f\"Expected X_text shape (None, 128), but got {X_text.shape}\"\n",
        "assert X_mask.shape[1] == 128, f\"Expected X_mask shape (None, 128), but got {X_mask.shape}\""
      ],
      "metadata": {
        "id": "-HgR-bdLivvz"
      },
      "execution_count": null,
      "outputs": []
    },
    {
      "cell_type": "markdown",
      "source": [
        "#Creating and training the model"
      ],
      "metadata": {
        "id": "JYj2i9o7jLSa"
      }
    },
    {
      "cell_type": "code",
      "source": [
        "# Create and train the model\n",
        "model = create_bert_nn_model()\n",
        "early_stopping = EarlyStopping(monitor='val_loss', patience=5, restore_best_weights=True)\n",
        "lr_scheduler = ReduceLROnPlateau(monitor='val_loss', factor=0.5, patience=3, min_lr=1e-6, verbose=1)\n",
        "\n",
        "history = model.fit(\n",
        "    [X_text, X_mask, X_numeric], Y,\n",
        "    epochs=80, batch_size=16, validation_split=0.1,\n",
        "    callbacks=[early_stopping, lr_scheduler]\n",
        ")"
      ],
      "metadata": {
        "id": "d8jcoMnyjLZh",
        "colab": {
          "base_uri": "https://localhost:8080/"
        },
        "outputId": "4c872dd9-c7de-4102-a2c1-dc4015847d2d"
      },
      "execution_count": null,
      "outputs": [
        {
          "output_type": "stream",
          "name": "stdout",
          "text": [
            "Epoch 1/80\n",
            "\u001b[1m16/16\u001b[0m \u001b[32m━━━━━━━━━━━━━━━━━━━━\u001b[0m\u001b[37m\u001b[0m \u001b[1m42s\u001b[0m 1s/step - accuracy: 0.0703 - loss: 19.0018 - mae: 2.8435 - mse: 9.4307 - val_accuracy: 0.1034 - val_loss: 15.1309 - val_mae: 2.2207 - val_mse: 5.5816 - learning_rate: 2.0000e-05\n",
            "Epoch 2/80\n",
            "\u001b[1m16/16\u001b[0m \u001b[32m━━━━━━━━━━━━━━━━━━━━\u001b[0m\u001b[37m\u001b[0m \u001b[1m17s\u001b[0m 120ms/step - accuracy: 0.0447 - loss: 14.9921 - mae: 2.1379 - mse: 5.4494 - val_accuracy: 0.1034 - val_loss: 12.4475 - val_mae: 1.5575 - val_mse: 2.9246 - learning_rate: 2.0000e-05\n",
            "Epoch 3/80\n",
            "\u001b[1m16/16\u001b[0m \u001b[32m━━━━━━━━━━━━━━━━━━━━\u001b[0m\u001b[37m\u001b[0m \u001b[1m3s\u001b[0m 127ms/step - accuracy: 0.0265 - loss: 12.4585 - mae: 1.5381 - mse: 2.9422 - val_accuracy: 0.1034 - val_loss: 11.0215 - val_mae: 1.0867 - val_mse: 1.5253 - learning_rate: 2.0000e-05\n",
            "Epoch 4/80\n",
            "\u001b[1m16/16\u001b[0m \u001b[32m━━━━━━━━━━━━━━━━━━━━\u001b[0m\u001b[37m\u001b[0m \u001b[1m3s\u001b[0m 127ms/step - accuracy: 0.0604 - loss: 11.5101 - mae: 1.1790 - mse: 2.0206 - val_accuracy: 0.1034 - val_loss: 10.3850 - val_mae: 0.7429 - val_mse: 0.9161 - learning_rate: 2.0000e-05\n",
            "Epoch 5/80\n",
            "\u001b[1m16/16\u001b[0m \u001b[32m━━━━━━━━━━━━━━━━━━━━\u001b[0m\u001b[37m\u001b[0m \u001b[1m2s\u001b[0m 126ms/step - accuracy: 0.0587 - loss: 11.2079 - mae: 1.0288 - mse: 1.7460 - val_accuracy: 0.1034 - val_loss: 10.1754 - val_mae: 0.5672 - val_mse: 0.7349 - learning_rate: 2.0000e-05\n",
            "Epoch 6/80\n",
            "\u001b[1m16/16\u001b[0m \u001b[32m━━━━━━━━━━━━━━━━━━━━\u001b[0m\u001b[37m\u001b[0m \u001b[1m2s\u001b[0m 128ms/step - accuracy: 0.0737 - loss: 10.7065 - mae: 0.8736 - mse: 1.2732 - val_accuracy: 0.1034 - val_loss: 10.1052 - val_mae: 0.4987 - val_mse: 0.6940 - learning_rate: 2.0000e-05\n",
            "Epoch 7/80\n",
            "\u001b[1m16/16\u001b[0m \u001b[32m━━━━━━━━━━━━━━━━━━━━\u001b[0m\u001b[37m\u001b[0m \u001b[1m2s\u001b[0m 127ms/step - accuracy: 0.0686 - loss: 10.8632 - mae: 0.9356 - mse: 1.4592 - val_accuracy: 0.1034 - val_loss: 10.0654 - val_mae: 0.4882 - val_mse: 0.6838 - learning_rate: 2.0000e-05\n",
            "Epoch 8/80\n",
            "\u001b[1m16/16\u001b[0m \u001b[32m━━━━━━━━━━━━━━━━━━━━\u001b[0m\u001b[37m\u001b[0m \u001b[1m2s\u001b[0m 127ms/step - accuracy: 0.0670 - loss: 10.5978 - mae: 0.8310 - mse: 1.2235 - val_accuracy: 0.1034 - val_loss: 10.0275 - val_mae: 0.4833 - val_mse: 0.6757 - learning_rate: 2.0000e-05\n",
            "Epoch 9/80\n",
            "\u001b[1m16/16\u001b[0m \u001b[32m━━━━━━━━━━━━━━━━━━━━\u001b[0m\u001b[37m\u001b[0m \u001b[1m2s\u001b[0m 120ms/step - accuracy: 0.0526 - loss: 10.4854 - mae: 0.7929 - mse: 1.1410 - val_accuracy: 0.1034 - val_loss: 9.9947 - val_mae: 0.4831 - val_mse: 0.6730 - learning_rate: 2.0000e-05\n",
            "Epoch 10/80\n",
            "\u001b[1m16/16\u001b[0m \u001b[32m━━━━━━━━━━━━━━━━━━━━\u001b[0m\u001b[37m\u001b[0m \u001b[1m3s\u001b[0m 127ms/step - accuracy: 0.0617 - loss: 10.8078 - mae: 0.8900 - mse: 1.4935 - val_accuracy: 0.1034 - val_loss: 9.9615 - val_mae: 0.4858 - val_mse: 0.6699 - learning_rate: 2.0000e-05\n",
            "Epoch 11/80\n",
            "\u001b[1m16/16\u001b[0m \u001b[32m━━━━━━━━━━━━━━━━━━━━\u001b[0m\u001b[37m\u001b[0m \u001b[1m3s\u001b[0m 130ms/step - accuracy: 0.0657 - loss: 10.5064 - mae: 0.8438 - mse: 1.2223 - val_accuracy: 0.1034 - val_loss: 9.9254 - val_mae: 0.4821 - val_mse: 0.6639 - learning_rate: 2.0000e-05\n",
            "Epoch 12/80\n",
            "\u001b[1m16/16\u001b[0m \u001b[32m━━━━━━━━━━━━━━━━━━━━\u001b[0m\u001b[37m\u001b[0m \u001b[1m2s\u001b[0m 123ms/step - accuracy: 0.0550 - loss: 10.5540 - mae: 0.8925 - mse: 1.3000 - val_accuracy: 0.1034 - val_loss: 9.8947 - val_mae: 0.4907 - val_mse: 0.6635 - learning_rate: 2.0000e-05\n",
            "Epoch 13/80\n",
            "\u001b[1m16/16\u001b[0m \u001b[32m━━━━━━━━━━━━━━━━━━━━\u001b[0m\u001b[37m\u001b[0m \u001b[1m3s\u001b[0m 121ms/step - accuracy: 0.0600 - loss: 10.6605 - mae: 0.9283 - mse: 1.4367 - val_accuracy: 0.1034 - val_loss: 9.8606 - val_mae: 0.4825 - val_mse: 0.6595 - learning_rate: 2.0000e-05\n",
            "Epoch 14/80\n",
            "\u001b[1m16/16\u001b[0m \u001b[32m━━━━━━━━━━━━━━━━━━━━\u001b[0m\u001b[37m\u001b[0m \u001b[1m2s\u001b[0m 122ms/step - accuracy: 0.0567 - loss: 10.3239 - mae: 0.7964 - mse: 1.1304 - val_accuracy: 0.1034 - val_loss: 9.8276 - val_mae: 0.4790 - val_mse: 0.6569 - learning_rate: 2.0000e-05\n",
            "Epoch 15/80\n",
            "\u001b[1m16/16\u001b[0m \u001b[32m━━━━━━━━━━━━━━━━━━━━\u001b[0m\u001b[37m\u001b[0m \u001b[1m3s\u001b[0m 122ms/step - accuracy: 0.0639 - loss: 10.4418 - mae: 0.8454 - mse: 1.2785 - val_accuracy: 0.1034 - val_loss: 9.7911 - val_mae: 0.4713 - val_mse: 0.6504 - learning_rate: 2.0000e-05\n",
            "Epoch 16/80\n",
            "\u001b[1m16/16\u001b[0m \u001b[32m━━━━━━━━━━━━━━━━━━━━\u001b[0m\u001b[37m\u001b[0m \u001b[1m2s\u001b[0m 122ms/step - accuracy: 0.0522 - loss: 10.2559 - mae: 0.7948 - mse: 1.1227 - val_accuracy: 0.1034 - val_loss: 9.7584 - val_mae: 0.4694 - val_mse: 0.6480 - learning_rate: 2.0000e-05\n",
            "Epoch 17/80\n",
            "\u001b[1m16/16\u001b[0m \u001b[32m━━━━━━━━━━━━━━━━━━━━\u001b[0m\u001b[37m\u001b[0m \u001b[1m3s\u001b[0m 145ms/step - accuracy: 0.0389 - loss: 10.2181 - mae: 0.7805 - mse: 1.1151 - val_accuracy: 0.1034 - val_loss: 9.7274 - val_mae: 0.4680 - val_mse: 0.6471 - learning_rate: 2.0000e-05\n",
            "Epoch 18/80\n",
            "\u001b[1m16/16\u001b[0m \u001b[32m━━━━━━━━━━━━━━━━━━━━\u001b[0m\u001b[37m\u001b[0m \u001b[1m2s\u001b[0m 138ms/step - accuracy: 0.0564 - loss: 10.4430 - mae: 0.9208 - mse: 1.3702 - val_accuracy: 0.1034 - val_loss: 9.6949 - val_mae: 0.4673 - val_mse: 0.6448 - learning_rate: 2.0000e-05\n",
            "Epoch 19/80\n",
            "\u001b[1m16/16\u001b[0m \u001b[32m━━━━━━━━━━━━━━━━━━━━\u001b[0m\u001b[37m\u001b[0m \u001b[1m2s\u001b[0m 124ms/step - accuracy: 0.0577 - loss: 10.1406 - mae: 0.8133 - mse: 1.0980 - val_accuracy: 0.1034 - val_loss: 9.6644 - val_mae: 0.4666 - val_mse: 0.6445 - learning_rate: 2.0000e-05\n",
            "Epoch 20/80\n",
            "\u001b[1m16/16\u001b[0m \u001b[32m━━━━━━━━━━━━━━━━━━━━\u001b[0m\u001b[37m\u001b[0m \u001b[1m3s\u001b[0m 125ms/step - accuracy: 0.0571 - loss: 10.1345 - mae: 0.8049 - mse: 1.1221 - val_accuracy: 0.1034 - val_loss: 9.6321 - val_mae: 0.4654 - val_mse: 0.6423 - learning_rate: 2.0000e-05\n",
            "Epoch 21/80\n",
            "\u001b[1m16/16\u001b[0m \u001b[32m━━━━━━━━━━━━━━━━━━━━\u001b[0m\u001b[37m\u001b[0m \u001b[1m3s\u001b[0m 131ms/step - accuracy: 0.0630 - loss: 10.0185 - mae: 0.7710 - mse: 1.0361 - val_accuracy: 0.1034 - val_loss: 9.6005 - val_mae: 0.4659 - val_mse: 0.6407 - learning_rate: 2.0000e-05\n",
            "Epoch 22/80\n",
            "\u001b[1m16/16\u001b[0m \u001b[32m━━━━━━━━━━━━━━━━━━━━\u001b[0m\u001b[37m\u001b[0m \u001b[1m2s\u001b[0m 125ms/step - accuracy: 0.0480 - loss: 10.0735 - mae: 0.7935 - mse: 1.1211 - val_accuracy: 0.1034 - val_loss: 9.5705 - val_mae: 0.4700 - val_mse: 0.6407 - learning_rate: 2.0000e-05\n",
            "Epoch 23/80\n",
            "\u001b[1m16/16\u001b[0m \u001b[32m━━━━━━━━━━━━━━━━━━━━\u001b[0m\u001b[37m\u001b[0m \u001b[1m3s\u001b[0m 124ms/step - accuracy: 0.0659 - loss: 9.8681 - mae: 0.7101 - mse: 0.9457 - val_accuracy: 0.1034 - val_loss: 9.5397 - val_mae: 0.4737 - val_mse: 0.6397 - learning_rate: 2.0000e-05\n",
            "Epoch 24/80\n",
            "\u001b[1m16/16\u001b[0m \u001b[32m━━━━━━━━━━━━━━━━━━━━\u001b[0m\u001b[37m\u001b[0m \u001b[1m2s\u001b[0m 125ms/step - accuracy: 0.0615 - loss: 10.1370 - mae: 0.8101 - mse: 1.2445 - val_accuracy: 0.1034 - val_loss: 9.5091 - val_mae: 0.4861 - val_mse: 0.6391 - learning_rate: 2.0000e-05\n",
            "Epoch 25/80\n",
            "\u001b[1m16/16\u001b[0m \u001b[32m━━━━━━━━━━━━━━━━━━━━\u001b[0m\u001b[37m\u001b[0m \u001b[1m2s\u001b[0m 132ms/step - accuracy: 0.0532 - loss: 9.9960 - mae: 0.8200 - mse: 1.1333 - val_accuracy: 0.1034 - val_loss: 9.4741 - val_mae: 0.4650 - val_mse: 0.6335 - learning_rate: 2.0000e-05\n",
            "Epoch 26/80\n",
            "\u001b[1m16/16\u001b[0m \u001b[32m━━━━━━━━━━━━━━━━━━━━\u001b[0m\u001b[37m\u001b[0m \u001b[1m2s\u001b[0m 125ms/step - accuracy: 0.0448 - loss: 10.0627 - mae: 0.8286 - mse: 1.2295 - val_accuracy: 0.1034 - val_loss: 9.4412 - val_mae: 0.4680 - val_mse: 0.6303 - learning_rate: 2.0000e-05\n",
            "Epoch 27/80\n",
            "\u001b[1m16/16\u001b[0m \u001b[32m━━━━━━━━━━━━━━━━━━━━\u001b[0m\u001b[37m\u001b[0m \u001b[1m3s\u001b[0m 128ms/step - accuracy: 0.0492 - loss: 10.0845 - mae: 0.8702 - mse: 1.2808 - val_accuracy: 0.1034 - val_loss: 9.4084 - val_mae: 0.4689 - val_mse: 0.6270 - learning_rate: 2.0000e-05\n",
            "Epoch 28/80\n",
            "\u001b[1m16/16\u001b[0m \u001b[32m━━━━━━━━━━━━━━━━━━━━\u001b[0m\u001b[37m\u001b[0m \u001b[1m2s\u001b[0m 133ms/step - accuracy: 0.0791 - loss: 10.2435 - mae: 0.8783 - mse: 1.4693 - val_accuracy: 0.1034 - val_loss: 9.3771 - val_mae: 0.4652 - val_mse: 0.6250 - learning_rate: 2.0000e-05\n",
            "Epoch 29/80\n",
            "\u001b[1m16/16\u001b[0m \u001b[32m━━━━━━━━━━━━━━━━━━━━\u001b[0m\u001b[37m\u001b[0m \u001b[1m2s\u001b[0m 125ms/step - accuracy: 0.0761 - loss: 10.1467 - mae: 0.8850 - mse: 1.4018 - val_accuracy: 0.1034 - val_loss: 9.3506 - val_mae: 0.4637 - val_mse: 0.6277 - learning_rate: 2.0000e-05\n",
            "Epoch 30/80\n",
            "\u001b[1m16/16\u001b[0m \u001b[32m━━━━━━━━━━━━━━━━━━━━\u001b[0m\u001b[37m\u001b[0m \u001b[1m3s\u001b[0m 134ms/step - accuracy: 0.0567 - loss: 9.8260 - mae: 0.7883 - mse: 1.1103 - val_accuracy: 0.1034 - val_loss: 9.3315 - val_mae: 0.4751 - val_mse: 0.6376 - learning_rate: 2.0000e-05\n",
            "Epoch 31/80\n",
            "\u001b[1m16/16\u001b[0m \u001b[32m━━━━━━━━━━━━━━━━━━━━\u001b[0m\u001b[37m\u001b[0m \u001b[1m2s\u001b[0m 128ms/step - accuracy: 0.0528 - loss: 9.9551 - mae: 0.8532 - mse: 1.2685 - val_accuracy: 0.1034 - val_loss: 9.2853 - val_mae: 0.4627 - val_mse: 0.6206 - learning_rate: 2.0000e-05\n",
            "Epoch 32/80\n",
            "\u001b[1m16/16\u001b[0m \u001b[32m━━━━━━━━━━━━━━━━━━━━\u001b[0m\u001b[37m\u001b[0m \u001b[1m2s\u001b[0m 139ms/step - accuracy: 0.0518 - loss: 9.6420 - mae: 0.7583 - mse: 0.9845 - val_accuracy: 0.1034 - val_loss: 9.2548 - val_mae: 0.4657 - val_mse: 0.6192 - learning_rate: 2.0000e-05\n",
            "Epoch 33/80\n",
            "\u001b[1m16/16\u001b[0m \u001b[32m━━━━━━━━━━━━━━━━━━━━\u001b[0m\u001b[37m\u001b[0m \u001b[1m2s\u001b[0m 127ms/step - accuracy: 0.0564 - loss: 9.7970 - mae: 0.8003 - mse: 1.1685 - val_accuracy: 0.1034 - val_loss: 9.2267 - val_mae: 0.4640 - val_mse: 0.6199 - learning_rate: 2.0000e-05\n",
            "Epoch 34/80\n",
            "\u001b[1m16/16\u001b[0m \u001b[32m━━━━━━━━━━━━━━━━━━━━\u001b[0m\u001b[37m\u001b[0m \u001b[1m2s\u001b[0m 130ms/step - accuracy: 0.0576 - loss: 9.7252 - mae: 0.8184 - mse: 1.1256 - val_accuracy: 0.1034 - val_loss: 9.1957 - val_mae: 0.4645 - val_mse: 0.6177 - learning_rate: 2.0000e-05\n",
            "Epoch 35/80\n",
            "\u001b[1m16/16\u001b[0m \u001b[32m━━━━━━━━━━━━━━━━━━━━\u001b[0m\u001b[37m\u001b[0m \u001b[1m2s\u001b[0m 131ms/step - accuracy: 0.0622 - loss: 9.5613 - mae: 0.7547 - mse: 0.9904 - val_accuracy: 0.1034 - val_loss: 9.1660 - val_mae: 0.4674 - val_mse: 0.6166 - learning_rate: 2.0000e-05\n",
            "Epoch 36/80\n",
            "\u001b[1m16/16\u001b[0m \u001b[32m━━━━━━━━━━━━━━━━━━━━\u001b[0m\u001b[37m\u001b[0m \u001b[1m3s\u001b[0m 130ms/step - accuracy: 0.0656 - loss: 9.4520 - mae: 0.7393 - mse: 0.9098 - val_accuracy: 0.1034 - val_loss: 9.1375 - val_mae: 0.4710 - val_mse: 0.6167 - learning_rate: 2.0000e-05\n",
            "Epoch 37/80\n",
            "\u001b[1m16/16\u001b[0m \u001b[32m━━━━━━━━━━━━━━━━━━━━\u001b[0m\u001b[37m\u001b[0m \u001b[1m3s\u001b[0m 140ms/step - accuracy: 0.0436 - loss: 9.7203 - mae: 0.8166 - mse: 1.2066 - val_accuracy: 0.1034 - val_loss: 9.1064 - val_mae: 0.4723 - val_mse: 0.6141 - learning_rate: 2.0000e-05\n",
            "Epoch 38/80\n",
            "\u001b[1m16/16\u001b[0m \u001b[32m━━━━━━━━━━━━━━━━━━━━\u001b[0m\u001b[37m\u001b[0m \u001b[1m2s\u001b[0m 134ms/step - accuracy: 0.0715 - loss: 9.5504 - mae: 0.7872 - mse: 1.0651 - val_accuracy: 0.1034 - val_loss: 9.0747 - val_mae: 0.4734 - val_mse: 0.6107 - learning_rate: 2.0000e-05\n",
            "Epoch 39/80\n",
            "\u001b[1m16/16\u001b[0m \u001b[32m━━━━━━━━━━━━━━━━━━━━\u001b[0m\u001b[37m\u001b[0m \u001b[1m3s\u001b[0m 132ms/step - accuracy: 0.0454 - loss: 9.4604 - mae: 0.7684 - mse: 1.0034 - val_accuracy: 0.1034 - val_loss: 9.0474 - val_mae: 0.4683 - val_mse: 0.6116 - learning_rate: 2.0000e-05\n",
            "Epoch 40/80\n",
            "\u001b[1m16/16\u001b[0m \u001b[32m━━━━━━━━━━━━━━━━━━━━\u001b[0m\u001b[37m\u001b[0m \u001b[1m3s\u001b[0m 132ms/step - accuracy: 0.0427 - loss: 9.3930 - mae: 0.7090 - mse: 0.9641 - val_accuracy: 0.1034 - val_loss: 9.0290 - val_mae: 0.4706 - val_mse: 0.6212 - learning_rate: 2.0000e-05\n",
            "Epoch 41/80\n",
            "\u001b[1m16/16\u001b[0m \u001b[32m━━━━━━━━━━━━━━━━━━━━\u001b[0m\u001b[37m\u001b[0m \u001b[1m2s\u001b[0m 138ms/step - accuracy: 0.0507 - loss: 9.3271 - mae: 0.7439 - mse: 0.9263 - val_accuracy: 0.1034 - val_loss: 8.9851 - val_mae: 0.4689 - val_mse: 0.6055 - learning_rate: 2.0000e-05\n",
            "Epoch 42/80\n",
            "\u001b[1m16/16\u001b[0m \u001b[32m━━━━━━━━━━━━━━━━━━━━\u001b[0m\u001b[37m\u001b[0m \u001b[1m2s\u001b[0m 137ms/step - accuracy: 0.0480 - loss: 9.3896 - mae: 0.7590 - mse: 1.0169 - val_accuracy: 0.1034 - val_loss: 8.9550 - val_mae: 0.4709 - val_mse: 0.6032 - learning_rate: 2.0000e-05\n",
            "Epoch 43/80\n",
            "\u001b[1m16/16\u001b[0m \u001b[32m━━━━━━━━━━━━━━━━━━━━\u001b[0m\u001b[37m\u001b[0m \u001b[1m2s\u001b[0m 139ms/step - accuracy: 0.0622 - loss: 9.4087 - mae: 0.7692 - mse: 1.0639 - val_accuracy: 0.1034 - val_loss: 8.9251 - val_mae: 0.4721 - val_mse: 0.6011 - learning_rate: 2.0000e-05\n",
            "Epoch 44/80\n",
            "\u001b[1m16/16\u001b[0m \u001b[32m━━━━━━━━━━━━━━━━━━━━\u001b[0m\u001b[37m\u001b[0m \u001b[1m3s\u001b[0m 140ms/step - accuracy: 0.0378 - loss: 9.2565 - mae: 0.7380 - mse: 0.9394 - val_accuracy: 0.1034 - val_loss: 8.9020 - val_mae: 0.4705 - val_mse: 0.6057 - learning_rate: 2.0000e-05\n",
            "Epoch 45/80\n",
            "\u001b[1m16/16\u001b[0m \u001b[32m━━━━━━━━━━━━━━━━━━━━\u001b[0m\u001b[37m\u001b[0m \u001b[1m2s\u001b[0m 139ms/step - accuracy: 0.0589 - loss: 9.2283 - mae: 0.7310 - mse: 0.9388 - val_accuracy: 0.1034 - val_loss: 8.8904 - val_mae: 0.4730 - val_mse: 0.6215 - learning_rate: 2.0000e-05\n",
            "Epoch 46/80\n",
            "\u001b[1m16/16\u001b[0m \u001b[32m━━━━━━━━━━━━━━━━━━━━\u001b[0m\u001b[37m\u001b[0m \u001b[1m2s\u001b[0m 139ms/step - accuracy: 0.0491 - loss: 9.1486 - mae: 0.7258 - mse: 0.8865 - val_accuracy: 0.1034 - val_loss: 8.8616 - val_mae: 0.4748 - val_mse: 0.6202 - learning_rate: 2.0000e-05\n",
            "Epoch 47/80\n",
            "\u001b[1m16/16\u001b[0m \u001b[32m━━━━━━━━━━━━━━━━━━━━\u001b[0m\u001b[37m\u001b[0m \u001b[1m3s\u001b[0m 140ms/step - accuracy: 0.0363 - loss: 9.0559 - mae: 0.6678 - mse: 0.8212 - val_accuracy: 0.1034 - val_loss: 8.8421 - val_mae: 0.4802 - val_mse: 0.6280 - learning_rate: 2.0000e-05\n",
            "Epoch 48/80\n",
            "\u001b[1m16/16\u001b[0m \u001b[32m━━━━━━━━━━━━━━━━━━━━\u001b[0m\u001b[37m\u001b[0m \u001b[1m3s\u001b[0m 139ms/step - accuracy: 0.0729 - loss: 9.2322 - mae: 0.7829 - mse: 1.0249 - val_accuracy: 0.1034 - val_loss: 8.7912 - val_mae: 0.4781 - val_mse: 0.6045 - learning_rate: 2.0000e-05\n",
            "Epoch 49/80\n",
            "\u001b[1m16/16\u001b[0m \u001b[32m━━━━━━━━━━━━━━━━━━━━\u001b[0m\u001b[37m\u001b[0m \u001b[1m3s\u001b[0m 139ms/step - accuracy: 0.0529 - loss: 9.0339 - mae: 0.7101 - mse: 0.8539 - val_accuracy: 0.1034 - val_loss: 8.7608 - val_mae: 0.4794 - val_mse: 0.6012 - learning_rate: 2.0000e-05\n",
            "Epoch 50/80\n",
            "\u001b[1m16/16\u001b[0m \u001b[32m━━━━━━━━━━━━━━━━━━━━\u001b[0m\u001b[37m\u001b[0m \u001b[1m2s\u001b[0m 132ms/step - accuracy: 0.0723 - loss: 9.1774 - mae: 0.7935 - mse: 1.0245 - val_accuracy: 0.1034 - val_loss: 8.7376 - val_mae: 0.4734 - val_mse: 0.6049 - learning_rate: 2.0000e-05\n",
            "Epoch 51/80\n",
            "\u001b[1m16/16\u001b[0m \u001b[32m━━━━━━━━━━━━━━━━━━━━\u001b[0m\u001b[37m\u001b[0m \u001b[1m3s\u001b[0m 138ms/step - accuracy: 0.0848 - loss: 9.0868 - mae: 0.7423 - mse: 0.9607 - val_accuracy: 0.1034 - val_loss: 8.7124 - val_mae: 0.4755 - val_mse: 0.6064 - learning_rate: 2.0000e-05\n",
            "Epoch 52/80\n",
            "\u001b[1m16/16\u001b[0m \u001b[32m━━━━━━━━━━━━━━━━━━━━\u001b[0m\u001b[37m\u001b[0m \u001b[1m2s\u001b[0m 135ms/step - accuracy: 0.0635 - loss: 9.1028 - mae: 0.7644 - mse: 1.0034 - val_accuracy: 0.1034 - val_loss: 8.6883 - val_mae: 0.4737 - val_mse: 0.6091 - learning_rate: 2.0000e-05\n",
            "Epoch 53/80\n",
            "\u001b[1m16/16\u001b[0m \u001b[32m━━━━━━━━━━━━━━━━━━━━\u001b[0m\u001b[37m\u001b[0m \u001b[1m3s\u001b[0m 137ms/step - accuracy: 0.0465 - loss: 8.9923 - mae: 0.7065 - mse: 0.9198 - val_accuracy: 0.1034 - val_loss: 8.6550 - val_mae: 0.4767 - val_mse: 0.6025 - learning_rate: 2.0000e-05\n",
            "Epoch 54/80\n",
            "\u001b[1m16/16\u001b[0m \u001b[32m━━━━━━━━━━━━━━━━━━━━\u001b[0m\u001b[37m\u001b[0m \u001b[1m2s\u001b[0m 129ms/step - accuracy: 0.0550 - loss: 9.0152 - mae: 0.7477 - mse: 0.9693 - val_accuracy: 0.1034 - val_loss: 8.6249 - val_mae: 0.4801 - val_mse: 0.5989 - learning_rate: 2.0000e-05\n",
            "Epoch 55/80\n",
            "\u001b[1m16/16\u001b[0m \u001b[32m━━━━━━━━━━━━━━━━━━━━\u001b[0m\u001b[37m\u001b[0m \u001b[1m3s\u001b[0m 136ms/step - accuracy: 0.0852 - loss: 8.9208 - mae: 0.7057 - mse: 0.9013 - val_accuracy: 0.1034 - val_loss: 8.5971 - val_mae: 0.4754 - val_mse: 0.5974 - learning_rate: 2.0000e-05\n",
            "Epoch 56/80\n",
            "\u001b[1m16/16\u001b[0m \u001b[32m━━━━━━━━━━━━━━━━━━━━\u001b[0m\u001b[37m\u001b[0m \u001b[1m2s\u001b[0m 130ms/step - accuracy: 0.0521 - loss: 9.0514 - mae: 0.7747 - mse: 1.0582 - val_accuracy: 0.1034 - val_loss: 8.5698 - val_mae: 0.4763 - val_mse: 0.5963 - learning_rate: 2.0000e-05\n",
            "Epoch 57/80\n",
            "\u001b[1m16/16\u001b[0m \u001b[32m━━━━━━━━━━━━━━━━━━━━\u001b[0m\u001b[37m\u001b[0m \u001b[1m2s\u001b[0m 139ms/step - accuracy: 0.0505 - loss: 8.7753 - mae: 0.6962 - mse: 0.8083 - val_accuracy: 0.1034 - val_loss: 8.5433 - val_mae: 0.4763 - val_mse: 0.5959 - learning_rate: 2.0000e-05\n",
            "Epoch 58/80\n",
            "\u001b[1m16/16\u001b[0m \u001b[32m━━━━━━━━━━━━━━━━━━━━\u001b[0m\u001b[37m\u001b[0m \u001b[1m2s\u001b[0m 135ms/step - accuracy: 0.0641 - loss: 8.9086 - mae: 0.7354 - mse: 0.9676 - val_accuracy: 0.1034 - val_loss: 8.5105 - val_mae: 0.4750 - val_mse: 0.5890 - learning_rate: 2.0000e-05\n",
            "Epoch 59/80\n",
            "\u001b[1m16/16\u001b[0m \u001b[32m━━━━━━━━━━━━━━━━━━━━\u001b[0m\u001b[37m\u001b[0m \u001b[1m2s\u001b[0m 127ms/step - accuracy: 0.0677 - loss: 8.8409 - mae: 0.7460 - mse: 0.9259 - val_accuracy: 0.1034 - val_loss: 8.4772 - val_mae: 0.4762 - val_mse: 0.5816 - learning_rate: 2.0000e-05\n",
            "Epoch 60/80\n",
            "\u001b[1m16/16\u001b[0m \u001b[32m━━━━━━━━━━━━━━━━━━━━\u001b[0m\u001b[37m\u001b[0m \u001b[1m3s\u001b[0m 129ms/step - accuracy: 0.0325 - loss: 8.7752 - mae: 0.7248 - mse: 0.8860 - val_accuracy: 0.1034 - val_loss: 8.4513 - val_mae: 0.4772 - val_mse: 0.5813 - learning_rate: 2.0000e-05\n",
            "Epoch 61/80\n",
            "\u001b[1m16/16\u001b[0m \u001b[32m━━━━━━━━━━━━━━━━━━━━\u001b[0m\u001b[37m\u001b[0m \u001b[1m2s\u001b[0m 129ms/step - accuracy: 0.0535 - loss: 8.7177 - mae: 0.7086 - mse: 0.8541 - val_accuracy: 0.1034 - val_loss: 8.4221 - val_mae: 0.4839 - val_mse: 0.5778 - learning_rate: 2.0000e-05\n",
            "Epoch 62/80\n",
            "\u001b[1m16/16\u001b[0m \u001b[32m━━━━━━━━━━━━━━━━━━━━\u001b[0m\u001b[37m\u001b[0m \u001b[1m2s\u001b[0m 131ms/step - accuracy: 0.0526 - loss: 8.6093 - mae: 0.6623 - mse: 0.7714 - val_accuracy: 0.1034 - val_loss: 8.3938 - val_mae: 0.4829 - val_mse: 0.5749 - learning_rate: 2.0000e-05\n",
            "Epoch 63/80\n",
            "\u001b[1m16/16\u001b[0m \u001b[32m━━━━━━━━━━━━━━━━━━━━\u001b[0m\u001b[37m\u001b[0m \u001b[1m3s\u001b[0m 136ms/step - accuracy: 0.0593 - loss: 8.7946 - mae: 0.7536 - mse: 0.9820 - val_accuracy: 0.1034 - val_loss: 8.3745 - val_mae: 0.4804 - val_mse: 0.5808 - learning_rate: 2.0000e-05\n",
            "Epoch 64/80\n",
            "\u001b[1m16/16\u001b[0m \u001b[32m━━━━━━━━━━━━━━━━━━━━\u001b[0m\u001b[37m\u001b[0m \u001b[1m2s\u001b[0m 135ms/step - accuracy: 0.0568 - loss: 8.8725 - mae: 0.8101 - mse: 1.0851 - val_accuracy: 0.1034 - val_loss: 8.3444 - val_mae: 0.4819 - val_mse: 0.5759 - learning_rate: 2.0000e-05\n",
            "Epoch 65/80\n",
            "\u001b[1m16/16\u001b[0m \u001b[32m━━━━━━━━━━━━━━━━━━━━\u001b[0m\u001b[37m\u001b[0m \u001b[1m2s\u001b[0m 129ms/step - accuracy: 0.0653 - loss: 8.7523 - mae: 0.7479 - mse: 0.9900 - val_accuracy: 0.1034 - val_loss: 8.3216 - val_mae: 0.4830 - val_mse: 0.5781 - learning_rate: 2.0000e-05\n",
            "Epoch 66/80\n",
            "\u001b[1m16/16\u001b[0m \u001b[32m━━━━━━━━━━━━━━━━━━━━\u001b[0m\u001b[37m\u001b[0m \u001b[1m3s\u001b[0m 130ms/step - accuracy: 0.0402 - loss: 8.5223 - mae: 0.6557 - mse: 0.7850 - val_accuracy: 0.1034 - val_loss: 8.3013 - val_mae: 0.4838 - val_mse: 0.5827 - learning_rate: 2.0000e-05\n",
            "Epoch 67/80\n",
            "\u001b[1m16/16\u001b[0m \u001b[32m━━━━━━━━━━━━━━━━━━━━\u001b[0m\u001b[37m\u001b[0m \u001b[1m2s\u001b[0m 131ms/step - accuracy: 0.0535 - loss: 8.6069 - mae: 0.6840 - mse: 0.8945 - val_accuracy: 0.1034 - val_loss: 8.2649 - val_mae: 0.4916 - val_mse: 0.5712 - learning_rate: 2.0000e-05\n",
            "Epoch 68/80\n",
            "\u001b[1m16/16\u001b[0m \u001b[32m━━━━━━━━━━━━━━━━━━━━\u001b[0m\u001b[37m\u001b[0m \u001b[1m3s\u001b[0m 130ms/step - accuracy: 0.0462 - loss: 8.5279 - mae: 0.6902 - mse: 0.8403 - val_accuracy: 0.1034 - val_loss: 8.2511 - val_mae: 0.4836 - val_mse: 0.5819 - learning_rate: 2.0000e-05\n",
            "Epoch 69/80\n",
            "\u001b[1m16/16\u001b[0m \u001b[32m━━━━━━━━━━━━━━━━━━━━\u001b[0m\u001b[37m\u001b[0m \u001b[1m2s\u001b[0m 135ms/step - accuracy: 0.0702 - loss: 8.5032 - mae: 0.6939 - mse: 0.8402 - val_accuracy: 0.1034 - val_loss: 8.2182 - val_mae: 0.4819 - val_mse: 0.5736 - learning_rate: 2.0000e-05\n",
            "Epoch 70/80\n",
            "\u001b[1m16/16\u001b[0m \u001b[32m━━━━━━━━━━━━━━━━━━━━\u001b[0m\u001b[37m\u001b[0m \u001b[1m2s\u001b[0m 130ms/step - accuracy: 0.0528 - loss: 8.4041 - mae: 0.6600 - mse: 0.7656 - val_accuracy: 0.1034 - val_loss: 8.1962 - val_mae: 0.4831 - val_mse: 0.5761 - learning_rate: 2.0000e-05\n",
            "Epoch 71/80\n",
            "\u001b[1m16/16\u001b[0m \u001b[32m━━━━━━━━━━━━━━━━━━━━\u001b[0m\u001b[37m\u001b[0m \u001b[1m2s\u001b[0m 136ms/step - accuracy: 0.0737 - loss: 8.3488 - mae: 0.6474 - mse: 0.7347 - val_accuracy: 0.1034 - val_loss: 8.1675 - val_mae: 0.4825 - val_mse: 0.5718 - learning_rate: 2.0000e-05\n",
            "Epoch 72/80\n",
            "\u001b[1m16/16\u001b[0m \u001b[32m━━━━━━━━━━━━━━━━━━━━\u001b[0m\u001b[37m\u001b[0m \u001b[1m2s\u001b[0m 132ms/step - accuracy: 0.0771 - loss: 8.5021 - mae: 0.7172 - mse: 0.9124 - val_accuracy: 0.1034 - val_loss: 8.1358 - val_mae: 0.4849 - val_mse: 0.5643 - learning_rate: 2.0000e-05\n",
            "Epoch 73/80\n",
            "\u001b[1m16/16\u001b[0m \u001b[32m━━━━━━━━━━━━━━━━━━━━\u001b[0m\u001b[37m\u001b[0m \u001b[1m2s\u001b[0m 138ms/step - accuracy: 0.0501 - loss: 8.3844 - mae: 0.6767 - mse: 0.8189 - val_accuracy: 0.1034 - val_loss: 8.1125 - val_mae: 0.4854 - val_mse: 0.5651 - learning_rate: 2.0000e-05\n",
            "Epoch 74/80\n",
            "\u001b[1m16/16\u001b[0m \u001b[32m━━━━━━━━━━━━━━━━━━━━\u001b[0m\u001b[37m\u001b[0m \u001b[1m2s\u001b[0m 137ms/step - accuracy: 0.0706 - loss: 8.3908 - mae: 0.6872 - mse: 0.8494 - val_accuracy: 0.1034 - val_loss: 8.0919 - val_mae: 0.4830 - val_mse: 0.5685 - learning_rate: 2.0000e-05\n",
            "Epoch 75/80\n",
            "\u001b[1m16/16\u001b[0m \u001b[32m━━━━━━━━━━━━━━━━━━━━\u001b[0m\u001b[37m\u001b[0m \u001b[1m2s\u001b[0m 136ms/step - accuracy: 0.0707 - loss: 8.3535 - mae: 0.7034 - mse: 0.8360 - val_accuracy: 0.1034 - val_loss: 8.0711 - val_mae: 0.4862 - val_mse: 0.5716 - learning_rate: 2.0000e-05\n",
            "Epoch 76/80\n",
            "\u001b[1m16/16\u001b[0m \u001b[32m━━━━━━━━━━━━━━━━━━━━\u001b[0m\u001b[37m\u001b[0m \u001b[1m2s\u001b[0m 138ms/step - accuracy: 0.0538 - loss: 8.2417 - mae: 0.6294 - mse: 0.7481 - val_accuracy: 0.1034 - val_loss: 8.0396 - val_mae: 0.4830 - val_mse: 0.5639 - learning_rate: 2.0000e-05\n",
            "Epoch 77/80\n",
            "\u001b[1m16/16\u001b[0m \u001b[32m━━━━━━━━━━━━━━━━━━━━\u001b[0m\u001b[37m\u001b[0m \u001b[1m3s\u001b[0m 137ms/step - accuracy: 0.0418 - loss: 8.3122 - mae: 0.7170 - mse: 0.8423 - val_accuracy: 0.1034 - val_loss: 8.0170 - val_mae: 0.4835 - val_mse: 0.5650 - learning_rate: 2.0000e-05\n",
            "Epoch 78/80\n",
            "\u001b[1m16/16\u001b[0m \u001b[32m━━━━━━━━━━━━━━━━━━━━\u001b[0m\u001b[37m\u001b[0m \u001b[1m2s\u001b[0m 132ms/step - accuracy: 0.0432 - loss: 8.2243 - mae: 0.6517 - mse: 0.7782 - val_accuracy: 0.1034 - val_loss: 7.9863 - val_mae: 0.4906 - val_mse: 0.5579 - learning_rate: 2.0000e-05\n",
            "Epoch 79/80\n",
            "\u001b[1m16/16\u001b[0m \u001b[32m━━━━━━━━━━━━━━━━━━━━\u001b[0m\u001b[37m\u001b[0m \u001b[1m2s\u001b[0m 132ms/step - accuracy: 0.0569 - loss: 8.1912 - mae: 0.6844 - mse: 0.7685 - val_accuracy: 0.1034 - val_loss: 7.9778 - val_mae: 0.4880 - val_mse: 0.5726 - learning_rate: 2.0000e-05\n",
            "Epoch 80/80\n",
            "\u001b[1m16/16\u001b[0m \u001b[32m━━━━━━━━━━━━━━━━━━━━\u001b[0m\u001b[37m\u001b[0m \u001b[1m3s\u001b[0m 132ms/step - accuracy: 0.0715 - loss: 8.2840 - mae: 0.7224 - mse: 0.8847 - val_accuracy: 0.1034 - val_loss: 7.9446 - val_mae: 0.4813 - val_mse: 0.5629 - learning_rate: 2.0000e-05\n"
          ]
        }
      ]
    },
    {
      "cell_type": "markdown",
      "source": [
        "# Plotting training and validation loss"
      ],
      "metadata": {
        "id": "T0Ah6BTljXI2"
      }
    },
    {
      "cell_type": "code",
      "source": [
        "# Plot training and validation loss\n",
        "plt.plot(history.history['loss'], label='Training Loss')\n",
        "plt.plot(history.history['val_loss'], label='Validation Loss')\n",
        "plt.xlabel('Epochs')\n",
        "plt.ylabel('Loss')\n",
        "plt.title('Training and Validation Loss')\n",
        "plt.legend()\n",
        "plt.show()"
      ],
      "metadata": {
        "id": "NJqLENfBjXL6",
        "colab": {
          "base_uri": "https://localhost:8080/",
          "height": 472
        },
        "outputId": "dbb93dd3-bd59-47e8-976c-91cfcaeda9d7"
      },
      "execution_count": null,
      "outputs": [
        {
          "output_type": "display_data",
          "data": {
            "text/plain": [
              "<Figure size 640x480 with 1 Axes>"
            ],
            "image/png": "[encoded data removed]"
          },
          "metadata": {}
        }
      ]
    },
    {
      "cell_type": "code",
      "source": [
        "model.summary()"
      ],
      "metadata": {
        "colab": {
          "base_uri": "https://localhost:8080/",
          "height": 561
        },
        "id": "gYXHAb6QWhNp",
        "outputId": "a392b171-6da4-4a43-dd21-93ccd6480290"
      },
      "execution_count": null,
      "outputs": [
        {
          "output_type": "display_data",
          "data": {
            "text/plain": [
              "\u001b[1mModel: \"functional\"\u001b[0m\n"
            ],
            "text/html": [
              "<pre style=\"white-space:pre;overflow-x:auto;line-height:normal;font-family:Menlo,'DejaVu Sans Mono',consolas,'Courier New',monospace\"><span style=\"font-weight: bold\">Model: \"functional\"</span>\n",
              "</pre>\n"
            ]
          },
          "metadata": {}
        },
        {
          "output_type": "display_data",
          "data": {
            "text/plain": [
              "┏━━━━━━━━━━━━━━━━━━━━━━━━━━━┳━━━━━━━━━━━━━━━━━━━━━━━━┳━━━━━━━━━━━━━━━━┳━━━━━━━━━━━━━━━━━━━━━━━━┓\n",
              "┃\u001b[1m \u001b[0m\u001b[1mLayer (type)             \u001b[0m\u001b[1m \u001b[0m┃\u001b[1m \u001b[0m\u001b[1mOutput Shape          \u001b[0m\u001b[1m \u001b[0m┃\u001b[1m \u001b[0m\u001b[1m       Param #\u001b[0m\u001b[1m \u001b[0m┃\u001b[1m \u001b[0m\u001b[1mConnected to          \u001b[0m\u001b[1m \u001b[0m┃\n",
              "┡━━━━━━━━━━━━━━━━━━━━━━━━━━━╇━━━━━━━━━━━━━━━━━━━━━━━━╇━━━━━━━━━━━━━━━━╇━━━━━━━━━━━━━━━━━━━━━━━━┩\n",
              "│ text_input (\u001b[38;5;33mInputLayer\u001b[0m)   │ (\u001b[38;5;45mNone\u001b[0m, \u001b[38;5;34m128\u001b[0m)            │              \u001b[38;5;34m0\u001b[0m │ -                      │\n",
              "├───────────────────────────┼────────────────────────┼────────────────┼────────────────────────┤\n",
              "│ attention_mask            │ (\u001b[38;5;45mNone\u001b[0m, \u001b[38;5;34m128\u001b[0m)            │              \u001b[38;5;34m0\u001b[0m │ -                      │\n",
              "│ (\u001b[38;5;33mInputLayer\u001b[0m)              │                        │                │                        │\n",
              "├───────────────────────────┼────────────────────────┼────────────────┼────────────────────────┤\n",
              "│ lambda (\u001b[38;5;33mLambda\u001b[0m)           │ (\u001b[38;5;45mNone\u001b[0m, \u001b[38;5;34m768\u001b[0m)            │              \u001b[38;5;34m0\u001b[0m │ text_input[\u001b[38;5;34m0\u001b[0m][\u001b[38;5;34m0\u001b[0m],      │\n",
              "│                           │                        │                │ attention_mask[\u001b[38;5;34m0\u001b[0m][\u001b[38;5;34m0\u001b[0m]   │\n",
              "├───────────────────────────┼────────────────────────┼────────────────┼────────────────────────┤\n",
              "│ dense (\u001b[38;5;33mDense\u001b[0m)             │ (\u001b[38;5;45mNone\u001b[0m, \u001b[38;5;34m512\u001b[0m)            │        \u001b[38;5;34m393,728\u001b[0m │ lambda[\u001b[38;5;34m0\u001b[0m][\u001b[38;5;34m0\u001b[0m]           │\n",
              "├───────────────────────────┼────────────────────────┼────────────────┼────────────────────────┤\n",
              "│ dropout (\u001b[38;5;33mDropout\u001b[0m)         │ (\u001b[38;5;45mNone\u001b[0m, \u001b[38;5;34m512\u001b[0m)            │              \u001b[38;5;34m0\u001b[0m │ dense[\u001b[38;5;34m0\u001b[0m][\u001b[38;5;34m0\u001b[0m]            │\n",
              "├───────────────────────────┼────────────────────────┼────────────────┼────────────────────────┤\n",
              "│ dense_1 (\u001b[38;5;33mDense\u001b[0m)           │ (\u001b[38;5;45mNone\u001b[0m, \u001b[38;5;34m256\u001b[0m)            │        \u001b[38;5;34m131,328\u001b[0m │ dropout[\u001b[38;5;34m0\u001b[0m][\u001b[38;5;34m0\u001b[0m]          │\n",
              "├───────────────────────────┼────────────────────────┼────────────────┼────────────────────────┤\n",
              "│ func_rating_input         │ (\u001b[38;5;45mNone\u001b[0m, \u001b[38;5;34m1\u001b[0m)              │              \u001b[38;5;34m0\u001b[0m │ -                      │\n",
              "│ (\u001b[38;5;33mInputLayer\u001b[0m)              │                        │                │                        │\n",
              "├───────────────────────────┼────────────────────────┼────────────────┼────────────────────────┤\n",
              "│ dropout_1 (\u001b[38;5;33mDropout\u001b[0m)       │ (\u001b[38;5;45mNone\u001b[0m, \u001b[38;5;34m256\u001b[0m)            │              \u001b[38;5;34m0\u001b[0m │ dense_1[\u001b[38;5;34m0\u001b[0m][\u001b[38;5;34m0\u001b[0m]          │\n",
              "├───────────────────────────┼────────────────────────┼────────────────┼────────────────────────┤\n",
              "│ dense_2 (\u001b[38;5;33mDense\u001b[0m)           │ (\u001b[38;5;45mNone\u001b[0m, \u001b[38;5;34m64\u001b[0m)             │            \u001b[38;5;34m128\u001b[0m │ func_rating_input[\u001b[38;5;34m0\u001b[0m][\u001b[38;5;34m…\u001b[0m │\n",
              "├───────────────────────────┼────────────────────────┼────────────────┼────────────────────────┤\n",
              "│ concatenate (\u001b[38;5;33mConcatenate\u001b[0m) │ (\u001b[38;5;45mNone\u001b[0m, \u001b[38;5;34m320\u001b[0m)            │              \u001b[38;5;34m0\u001b[0m │ dropout_1[\u001b[38;5;34m0\u001b[0m][\u001b[38;5;34m0\u001b[0m],       │\n",
              "│                           │                        │                │ dense_2[\u001b[38;5;34m0\u001b[0m][\u001b[38;5;34m0\u001b[0m]          │\n",
              "├───────────────────────────┼────────────────────────┼────────────────┼────────────────────────┤\n",
              "│ output (\u001b[38;5;33mDense\u001b[0m)            │ (\u001b[38;5;45mNone\u001b[0m, \u001b[38;5;34m1\u001b[0m)              │            \u001b[38;5;34m321\u001b[0m │ concatenate[\u001b[38;5;34m0\u001b[0m][\u001b[38;5;34m0\u001b[0m]      │\n",
              "└───────────────────────────┴────────────────────────┴────────────────┴────────────────────────┘\n"
            ],
            "text/html": [
              "<pre style=\"white-space:pre;overflow-x:auto;line-height:normal;font-family:Menlo,'DejaVu Sans Mono',consolas,'Courier New',monospace\">┏━━━━━━━━━━━━━━━━━━━━━━━━━━━┳━━━━━━━━━━━━━━━━━━━━━━━━┳━━━━━━━━━━━━━━━━┳━━━━━━━━━━━━━━━━━━━━━━━━┓\n",
              "┃<span style=\"font-weight: bold\"> Layer (type)              </span>┃<span style=\"font-weight: bold\"> Output Shape           </span>┃<span style=\"font-weight: bold\">        Param # </span>┃<span style=\"font-weight: bold\"> Connected to           </span>┃\n",
              "┡━━━━━━━━━━━━━━━━━━━━━━━━━━━╇━━━━━━━━━━━━━━━━━━━━━━━━╇━━━━━━━━━━━━━━━━╇━━━━━━━━━━━━━━━━━━━━━━━━┩\n",
              "│ text_input (<span style=\"color: #0087ff; text-decoration-color: #0087ff\">InputLayer</span>)   │ (<span style=\"color: #00d7ff; text-decoration-color: #00d7ff\">None</span>, <span style=\"color: #00af00; text-decoration-color: #00af00\">128</span>)            │              <span style=\"color: #00af00; text-decoration-color: #00af00\">0</span> │ -                      │\n",
              "├───────────────────────────┼────────────────────────┼────────────────┼────────────────────────┤\n",
              "│ attention_mask            │ (<span style=\"color: #00d7ff; text-decoration-color: #00d7ff\">None</span>, <span style=\"color: #00af00; text-decoration-color: #00af00\">128</span>)            │              <span style=\"color: #00af00; text-decoration-color: #00af00\">0</span> │ -                      │\n",
              "│ (<span style=\"color: #0087ff; text-decoration-color: #0087ff\">InputLayer</span>)              │                        │                │                        │\n",
              "├───────────────────────────┼────────────────────────┼────────────────┼────────────────────────┤\n",
              "│ lambda (<span style=\"color: #0087ff; text-decoration-color: #0087ff\">Lambda</span>)           │ (<span style=\"color: #00d7ff; text-decoration-color: #00d7ff\">None</span>, <span style=\"color: #00af00; text-decoration-color: #00af00\">768</span>)            │              <span style=\"color: #00af00; text-decoration-color: #00af00\">0</span> │ text_input[<span style=\"color: #00af00; text-decoration-color: #00af00\">0</span>][<span style=\"color: #00af00; text-decoration-color: #00af00\">0</span>],      │\n",
              "│                           │                        │                │ attention_mask[<span style=\"color: #00af00; text-decoration-color: #00af00\">0</span>][<span style=\"color: #00af00; text-decoration-color: #00af00\">0</span>]   │\n",
              "├───────────────────────────┼────────────────────────┼────────────────┼────────────────────────┤\n",
              "│ dense (<span style=\"color: #0087ff; text-decoration-color: #0087ff\">Dense</span>)             │ (<span style=\"color: #00d7ff; text-decoration-color: #00d7ff\">None</span>, <span style=\"color: #00af00; text-decoration-color: #00af00\">512</span>)            │        <span style=\"color: #00af00; text-decoration-color: #00af00\">393,728</span> │ lambda[<span style=\"color: #00af00; text-decoration-color: #00af00\">0</span>][<span style=\"color: #00af00; text-decoration-color: #00af00\">0</span>]           │\n",
              "├───────────────────────────┼────────────────────────┼────────────────┼────────────────────────┤\n",
              "│ dropout (<span style=\"color: #0087ff; text-decoration-color: #0087ff\">Dropout</span>)         │ (<span style=\"color: #00d7ff; text-decoration-color: #00d7ff\">None</span>, <span style=\"color: #00af00; text-decoration-color: #00af00\">512</span>)            │              <span style=\"color: #00af00; text-decoration-color: #00af00\">0</span> │ dense[<span style=\"color: #00af00; text-decoration-color: #00af00\">0</span>][<span style=\"color: #00af00; text-decoration-color: #00af00\">0</span>]            │\n",
              "├───────────────────────────┼────────────────────────┼────────────────┼────────────────────────┤\n",
              "│ dense_1 (<span style=\"color: #0087ff; text-decoration-color: #0087ff\">Dense</span>)           │ (<span style=\"color: #00d7ff; text-decoration-color: #00d7ff\">None</span>, <span style=\"color: #00af00; text-decoration-color: #00af00\">256</span>)            │        <span style=\"color: #00af00; text-decoration-color: #00af00\">131,328</span> │ dropout[<span style=\"color: #00af00; text-decoration-color: #00af00\">0</span>][<span style=\"color: #00af00; text-decoration-color: #00af00\">0</span>]          │\n",
              "├───────────────────────────┼────────────────────────┼────────────────┼────────────────────────┤\n",
              "│ func_rating_input         │ (<span style=\"color: #00d7ff; text-decoration-color: #00d7ff\">None</span>, <span style=\"color: #00af00; text-decoration-color: #00af00\">1</span>)              │              <span style=\"color: #00af00; text-decoration-color: #00af00\">0</span> │ -                      │\n",
              "│ (<span style=\"color: #0087ff; text-decoration-color: #0087ff\">InputLayer</span>)              │                        │                │                        │\n",
              "├───────────────────────────┼────────────────────────┼────────────────┼────────────────────────┤\n",
              "│ dropout_1 (<span style=\"color: #0087ff; text-decoration-color: #0087ff\">Dropout</span>)       │ (<span style=\"color: #00d7ff; text-decoration-color: #00d7ff\">None</span>, <span style=\"color: #00af00; text-decoration-color: #00af00\">256</span>)            │              <span style=\"color: #00af00; text-decoration-color: #00af00\">0</span> │ dense_1[<span style=\"color: #00af00; text-decoration-color: #00af00\">0</span>][<span style=\"color: #00af00; text-decoration-color: #00af00\">0</span>]          │\n",
              "├───────────────────────────┼────────────────────────┼────────────────┼────────────────────────┤\n",
              "│ dense_2 (<span style=\"color: #0087ff; text-decoration-color: #0087ff\">Dense</span>)           │ (<span style=\"color: #00d7ff; text-decoration-color: #00d7ff\">None</span>, <span style=\"color: #00af00; text-decoration-color: #00af00\">64</span>)             │            <span style=\"color: #00af00; text-decoration-color: #00af00\">128</span> │ func_rating_input[<span style=\"color: #00af00; text-decoration-color: #00af00\">0</span>][<span style=\"color: #00af00; text-decoration-color: #00af00\">…</span> │\n",
              "├───────────────────────────┼────────────────────────┼────────────────┼────────────────────────┤\n",
              "│ concatenate (<span style=\"color: #0087ff; text-decoration-color: #0087ff\">Concatenate</span>) │ (<span style=\"color: #00d7ff; text-decoration-color: #00d7ff\">None</span>, <span style=\"color: #00af00; text-decoration-color: #00af00\">320</span>)            │              <span style=\"color: #00af00; text-decoration-color: #00af00\">0</span> │ dropout_1[<span style=\"color: #00af00; text-decoration-color: #00af00\">0</span>][<span style=\"color: #00af00; text-decoration-color: #00af00\">0</span>],       │\n",
              "│                           │                        │                │ dense_2[<span style=\"color: #00af00; text-decoration-color: #00af00\">0</span>][<span style=\"color: #00af00; text-decoration-color: #00af00\">0</span>]          │\n",
              "├───────────────────────────┼────────────────────────┼────────────────┼────────────────────────┤\n",
              "│ output (<span style=\"color: #0087ff; text-decoration-color: #0087ff\">Dense</span>)            │ (<span style=\"color: #00d7ff; text-decoration-color: #00d7ff\">None</span>, <span style=\"color: #00af00; text-decoration-color: #00af00\">1</span>)              │            <span style=\"color: #00af00; text-decoration-color: #00af00\">321</span> │ concatenate[<span style=\"color: #00af00; text-decoration-color: #00af00\">0</span>][<span style=\"color: #00af00; text-decoration-color: #00af00\">0</span>]      │\n",
              "└───────────────────────────┴────────────────────────┴────────────────┴────────────────────────┘\n",
              "</pre>\n"
            ]
          },
          "metadata": {}
        },
        {
          "output_type": "display_data",
          "data": {
            "text/plain": [
              "\u001b[1m Total params: \u001b[0m\u001b[38;5;34m1,576,517\u001b[0m (6.01 MB)\n"
            ],
            "text/html": [
              "<pre style=\"white-space:pre;overflow-x:auto;line-height:normal;font-family:Menlo,'DejaVu Sans Mono',consolas,'Courier New',monospace\"><span style=\"font-weight: bold\"> Total params: </span><span style=\"color: #00af00; text-decoration-color: #00af00\">1,576,517</span> (6.01 MB)\n",
              "</pre>\n"
            ]
          },
          "metadata": {}
        },
        {
          "output_type": "display_data",
          "data": {
            "text/plain": [
              "\u001b[1m Trainable params: \u001b[0m\u001b[38;5;34m525,505\u001b[0m (2.00 MB)\n"
            ],
            "text/html": [
              "<pre style=\"white-space:pre;overflow-x:auto;line-height:normal;font-family:Menlo,'DejaVu Sans Mono',consolas,'Courier New',monospace\"><span style=\"font-weight: bold\"> Trainable params: </span><span style=\"color: #00af00; text-decoration-color: #00af00\">525,505</span> (2.00 MB)\n",
              "</pre>\n"
            ]
          },
          "metadata": {}
        },
        {
          "output_type": "display_data",
          "data": {
            "text/plain": [
              "\u001b[1m Non-trainable params: \u001b[0m\u001b[38;5;34m0\u001b[0m (0.00 B)\n"
            ],
            "text/html": [
              "<pre style=\"white-space:pre;overflow-x:auto;line-height:normal;font-family:Menlo,'DejaVu Sans Mono',consolas,'Courier New',monospace\"><span style=\"font-weight: bold\"> Non-trainable params: </span><span style=\"color: #00af00; text-decoration-color: #00af00\">0</span> (0.00 B)\n",
              "</pre>\n"
            ]
          },
          "metadata": {}
        },
        {
          "output_type": "display_data",
          "data": {
            "text/plain": [
              "\u001b[1m Optimizer params: \u001b[0m\u001b[38;5;34m1,051,012\u001b[0m (4.01 MB)\n"
            ],
            "text/html": [
              "<pre style=\"white-space:pre;overflow-x:auto;line-height:normal;font-family:Menlo,'DejaVu Sans Mono',consolas,'Courier New',monospace\"><span style=\"font-weight: bold\"> Optimizer params: </span><span style=\"color: #00af00; text-decoration-color: #00af00\">1,051,012</span> (4.01 MB)\n",
              "</pre>\n"
            ]
          },
          "metadata": {}
        }
      ]
    },
    {
      "cell_type": "markdown",
      "source": [
        "# Testing our model"
      ],
      "metadata": {
        "id": "d6AhgngnpVwy"
      }
    },
    {
      "cell_type": "code",
      "source": [
        "test_texts = [ \"How to improve focus and concentration?\",\n",
        "    \"What are the side effects of lack of sleep?\",\n",
        "    \"Best techniques to manage stress effectively?\",\n",
        "    \"How does regular exercise impact mental health?\",\n",
        "    \"What are the benefits of meditation and mindfulness?\"]\n",
        "X_text_test, X_mask_test = encode_text(pd.Series(test_texts), tokenizer, max_length=128)\n",
        "X_func_test = np.array([5,4,3,4,2]).reshape(-1, 1)\n",
        "\n",
        "predictions = model.predict([X_text_test, X_mask_test, X_func_test])\n",
        "\n",
        "for i, text in enumerate(test_texts):\n",
        "    print(f\"Prompt: {text}\")\n",
        "    print(f\"Predicted Score: {predictions[i][0]:.2f}\")\n",
        "    print(\"-\" * 50)"
      ],
      "metadata": {
        "colab": {
          "base_uri": "https://localhost:8080/"
        },
        "id": "gbA0RkQmpV1G",
        "outputId": "366f2e07-1150-47ed-9436-3b9fb9e74752"
      },
      "execution_count": null,
      "outputs": [
        {
          "output_type": "stream",
          "name": "stdout",
          "text": [
            "\u001b[1m1/1\u001b[0m \u001b[32m━━━━━━━━━━━━━━━━━━━━\u001b[0m\u001b[37m\u001b[0m \u001b[1m6s\u001b[0m 6s/step\n",
            "Prompt: How to improve focus and concentration?\n",
            "Predicted Score: 3.69\n",
            "--------------------------------------------------\n",
            "Prompt: What are the side effects of lack of sleep?\n",
            "Predicted Score: 3.25\n",
            "--------------------------------------------------\n",
            "Prompt: Best techniques to manage stress effectively?\n",
            "Predicted Score: 3.17\n",
            "--------------------------------------------------\n",
            "Prompt: How does regular exercise impact mental health?\n",
            "Predicted Score: 3.39\n",
            "--------------------------------------------------\n",
            "Prompt: What are the benefits of meditation and mindfulness?\n",
            "Predicted Score: 3.11\n",
            "--------------------------------------------------\n"
          ]
        }
      ]
    },
    {
      "cell_type": "markdown",
      "source": [
        "## Create Repo on HF"
      ],
      "metadata": {
        "id": "FVAx30lWTtQd"
      }
    },
    {
      "cell_type": "code",
      "source": [
        "! pip install --upgrade huggingface_hub"
      ],
      "metadata": {
        "colab": {
          "base_uri": "https://localhost:8080/",
          "height": 516
        },
        "id": "z965EE9wRMuN",
        "outputId": "d3ff7655-7ea5-46e0-fdc3-50828af02c1d"
      },
      "execution_count": null,
      "outputs": [
        {
          "output_type": "stream",
          "name": "stdout",
          "text": [
            "Requirement already satisfied: huggingface_hub in /usr/local/lib/python3.11/dist-packages (0.28.1)\n",
            "Collecting huggingface_hub\n",
            "  Downloading huggingface_hub-0.29.1-py3-none-any.whl.metadata (13 kB)\n",
            "Requirement already satisfied: filelock in /usr/local/lib/python3.11/dist-packages (from huggingface_hub) (3.17.0)\n",
            "Requirement already satisfied: fsspec>=2023.5.0 in /usr/local/lib/python3.11/dist-packages (from huggingface_hub) (2024.10.0)\n",
            "Requirement already satisfied: packaging>=20.9 in /usr/local/lib/python3.11/dist-packages (from huggingface_hub) (24.2)\n",
            "Requirement already satisfied: pyyaml>=5.1 in /usr/local/lib/python3.11/dist-packages (from huggingface_hub) (6.0.2)\n",
            "Requirement already satisfied: requests in /usr/local/lib/python3.11/dist-packages (from huggingface_hub) (2.32.3)\n",
            "Requirement already satisfied: tqdm>=4.42.1 in /usr/local/lib/python3.11/dist-packages (from huggingface_hub) (4.67.1)\n",
            "Requirement already satisfied: typing-extensions>=3.7.4.3 in /usr/local/lib/python3.11/dist-packages (from huggingface_hub) (4.12.2)\n",
            "Requirement already satisfied: charset-normalizer<4,>=2 in /usr/local/lib/python3.11/dist-packages (from requests->huggingface_hub) (3.4.1)\n",
            "Requirement already satisfied: idna<4,>=2.5 in /usr/local/lib/python3.11/dist-packages (from requests->huggingface_hub) (3.10)\n",
            "Requirement already satisfied: urllib3<3,>=1.21.1 in /usr/local/lib/python3.11/dist-packages (from requests->huggingface_hub) (2.3.0)\n",
            "Requirement already satisfied: certifi>=2017.4.17 in /usr/local/lib/python3.11/dist-packages (from requests->huggingface_hub) (2025.1.31)\n",
            "Downloading huggingface_hub-0.29.1-py3-none-any.whl (468 kB)\n",
            "\u001b[?25l   \u001b[90m━━━━━━━━━━━━━━━━━━━━━━━━━━━━━━━━━━━━━━━━\u001b[0m \u001b[32m0.0/468.0 kB\u001b[0m \u001b[31m?\u001b[0m eta \u001b[36m-:--:--\u001b[0m\r\u001b[2K   \u001b[90m━━━━━━━━━━━━━━━━━━━━━━━━━━━━━━━━━━━━━━━━\u001b[0m \u001b[32m468.0/468.0 kB\u001b[0m \u001b[31m27.6 MB/s\u001b[0m eta \u001b[36m0:00:00\u001b[0m\n",
            "\u001b[?25hInstalling collected packages: huggingface_hub\n",
            "  Attempting uninstall: huggingface_hub\n",
            "    Found existing installation: huggingface-hub 0.28.1\n",
            "    Uninstalling huggingface-hub-0.28.1:\n",
            "      Successfully uninstalled huggingface-hub-0.28.1\n",
            "Successfully installed huggingface_hub-0.29.1\n"
          ]
        },
        {
          "output_type": "display_data",
          "data": {
            "application/vnd.colab-display-data+json": {
              "pip_warning": {
                "packages": [
                  "huggingface_hub"
                ]
              },
              "id": "2b043fa037e04f4c9852e7a28e7f36fd"
            }
          },
          "metadata": {}
        }
      ]
    },
    {
      "cell_type": "code",
      "source": [
        "import os\n",
        "from huggingface_hub import HfApi, login\n",
        "\n",
        "os.environ[\"HUGGINGFACE_TOKEN\"] = \"Use your hugging face API key here\"  # Replace with your token\n",
        "\n",
        "hf_username = \"Your username here\"# Set your hf username here\n",
        "repo_name = \"my-tensorflow-model\"# keep your personalized name for the model\n",
        "repo_id = f\"{hf_username}/{repo_name}\"\n",
        "\n",
        "token = os.environ.get(\"HUGGINGFACE_TOKEN\")\n",
        "\n",
        "login(token=token)\n",
        "\n",
        "api = HfApi()\n",
        "\n",
        "api.create_repo(repo_id=repo_id, exist_ok=True)\n",
        "\n",
        "print(f\"Repository created: https://huggingface.co/{repo_id}\")"
      ],
      "metadata": {
        "colab": {
          "base_uri": "https://localhost:8080/"
        },
        "id": "SmhMVs-BRZ5f",
        "outputId": "792122d5-1885-47cf-9868-110c134baf25"
      },
      "execution_count": null,
      "outputs": [
        {
          "output_type": "stream",
          "name": "stderr",
          "text": [
            "Note: Environment variable`HF_TOKEN` is set and is the current active token independently from the token you've just configured.\n",
            "WARNING:huggingface_hub._login:Note: Environment variable`HF_TOKEN` is set and is the current active token independently from the token you've just configured.\n"
          ]
        },
        {
          "output_type": "stream",
          "name": "stdout",
          "text": [
            "Repository created: https://huggingface.co/Aditya-1911/my-tensorflow-model\n"
          ]
        }
      ]
    },
    {
      "cell_type": "markdown",
      "source": [
        "## Push Artifacts on HF"
      ],
      "metadata": {
        "id": "oLT-_HepTvTH"
      }
    },
    {
      "cell_type": "code",
      "source": [
        "import pickle\n",
        "import os\n",
        "from huggingface_hub import HfApi\n",
        "import tensorflow as tf\n",
        "from tensorflow.keras.preprocessing.text import Tokenizer\n",
        "\n",
        "# Define save directory\n",
        "model_dir = \"./saved_model\"\n",
        "os.makedirs(model_dir, exist_ok=True)\n",
        "\n",
        "# Save the model\n",
        "model_path = os.path.join(model_dir, \"model.keras\")\n",
        "model.save(model_path)\n",
        "\n",
        "# Save the tokenizer as a pickle file\n",
        "tokenizer_path = os.path.join(model_dir, \"tokenizer.pkl\")\n",
        "with open(tokenizer_path, \"wb\") as f:\n",
        "    pickle.dump(tokenizer, f)\n",
        "\n",
        "# Upload model and tokenizer to Hugging Face\n",
        "repo_id = f\"Your_user_name/{repo_name}\"  # Change as needed- Add your username\n",
        "api = HfApi()\n",
        "\n",
        "api.upload_file(path_or_fileobj=model_path, path_in_repo=\"model.keras\", repo_id=repo_id)\n",
        "api.upload_file(path_or_fileobj=tokenizer_path, path_in_repo=\"tokenizer.pkl\", repo_id=repo_id)\n",
        "\n",
        "print(f\"Model and tokenizer successfully pushed to: https://huggingface.co/{repo_id}\")"
      ],
      "metadata": {
        "colab": {
          "base_uri": "https://localhost:8080/",
          "height": 99,
          "referenced_widgets": [
            "306d032c0e7b4420859a46fab149a482",
            "2dc0ec5e7d3243979403207ce3a73cbc",
            "ddbf720a72994ed79798c415cd0a3b79",
            "8aa211c44fe747a0a14ca389c812a818",
            "cab9b342642245aebc441cb647d5ffed",
            "1cfd9bba40264da39e4aa38f418f0955",
            "ca14a22ffbf8400cae28d7ddb1723c0f",
            "c13edc661c774712b22dcb6e22e760a3",
            "d521957070a947a9bdff179d3a070ea3",
            "f6c41a2ef3e64246ab1a2cc53353a957",
            "76e3833477f44ce4bd2282680217fb8e",
            "23cb2e6167aa462784c42b1558e19cbe",
            "168948ed50ce42db953502d3461ba731",
            "5eef942310b54a4d8fb72ef6de2d406c",
            "5d2f0e30ea1f41339133a822fd724640",
            "6491938394bc45f9a96c9acfd9b94607",
            "ba89bb7e75094c7dabf25db59e1bd708",
            "ffefc0883fa949b08201104daaf01fa7",
            "6ab30596dd0d42da800056c2d4e9046a",
            "7914c5c8f2d544a3a244794651dba903",
            "7afde3d562b14312bf8409645c710cd7",
            "5eba94457f714611adae9956821f014c"
          ]
        },
        "id": "JqH2HkwUPZ9t",
        "outputId": "f3e5c878-f8cc-40da-aaf5-43ceaf8cb107"
      },
      "execution_count": null,
      "outputs": [
        {
          "output_type": "display_data",
          "data": {
            "text/plain": [
              "model.keras:   0%|          | 0.00/6.35M [00:00<?, ?B/s]"
            ],
            "application/vnd.jupyter.widget-view+json": {
              "version_major": 2,
              "version_minor": 0,
              "model_id": "306d032c0e7b4420859a46fab149a482"
            }
          },
          "metadata": {}
        },
        {
          "output_type": "display_data",
          "data": {
            "text/plain": [
              "tokenizer.pkl:   0%|          | 0.00/630k [00:00<?, ?B/s]"
            ],
            "application/vnd.jupyter.widget-view+json": {
              "version_major": 2,
              "version_minor": 0,
              "model_id": "23cb2e6167aa462784c42b1558e19cbe"
            }
          },
          "metadata": {}
        },
        {
          "output_type": "stream",
          "name": "stdout",
          "text": [
            "Model and tokenizer successfully pushed to: https://huggingface.co/Aditya-1911/my-tensorflow-model\n"
          ]
        }
      ]
    },
    {
      "cell_type": "markdown",
      "source": [],
      "metadata": {
        "id": "ljRRWOLK2qes"
      }
    },
    {
      "cell_type": "markdown",
      "source": [
        "## Download Model Artifact from HF"
      ],
      "metadata": {
        "id": "Rtr2BtibTy0e"
      }
    },
    {
      "cell_type": "code",
      "source": [
        "import os\n",
        "import tensorflow as tf\n",
        "from tensorflow import keras\n",
        "from huggingface_hub import hf_hub_download\n",
        "\n",
        "# Ensure correct backend (optional)\n",
        "#os.environ[\"KERAS_BACKEND\"] = \"jax\"\n",
        "\n",
        "# Define repo ID and model filename\n",
        "repo_id = \"Your_username/my-tensorflow-model\"#-Add your username here\n",
        "filename = \"model.keras\"\n",
        "\n",
        "# Download the model\n",
        "model_path = hf_hub_download(repo_id=repo_id, filename=filename)\n",
        "\n",
        "# Define the registered function before loading\n",
        "def bert_layer(inputs):\n",
        "    return bert_model(inputs[0], attention_mask=inputs[1])[0][:, 0, :]\n",
        "\n",
        "# Load the Keras model with custom objects\n",
        "new_model = keras.models.load_model(model_path, custom_objects={\"bert_layer\": bert_layer})\n",
        "\n",
        "print(\"Model loaded successfully!\")\n"
      ],
      "metadata": {
        "id": "SU4X68sYW9BL",
        "colab": {
          "base_uri": "https://localhost:8080/"
        },
        "outputId": "ed7d8ac9-f707-4375-b2a7-8250eb24c7c6"
      },
      "execution_count": null,
      "outputs": [
        {
          "output_type": "stream",
          "name": "stdout",
          "text": [
            "Model loaded successfully!\n"
          ]
        }
      ]
    },
    {
      "cell_type": "markdown",
      "source": [
        "## Local Inference"
      ],
      "metadata": {
        "id": "rs6qIIMwT1bt"
      }
    },
    {
      "cell_type": "code",
      "source": [
        "import pickle\n",
        "from huggingface_hub import hf_hub_download\n",
        "from tensorflow import keras\n",
        "import numpy as np\n",
        "\n",
        "# Download model\n",
        "model_path = hf_hub_download(repo_id=repo_id, filename=\"model.keras\")\n",
        "new_model = keras.models.load_model(model_path)\n",
        "\n",
        "# Download tokenizer\n",
        "tokenizer_path = hf_hub_download(repo_id=repo_id, filename=\"tokenizer.pkl\")\n",
        "\n",
        "# Load the tokenizer\n",
        "with open(tokenizer_path, \"rb\") as f:\n",
        "    tokenizer = pickle.load(f)\n",
        "\n",
        "print(\"Model and tokenizer loaded successfully!\")\n",
        "\n",
        "# Sample test data\n",
        "test_texts = [\n",
        "    \"How to improve focus and concentration?\",\n",
        "    \"What are the side effects of lack of sleep?\",\n",
        "    \"Best techniques to manage stress effectively?\",\n",
        "    \"How does regular exercise impact mental health?\",\n",
        "    \"What are the benefits of meditation and mindfulness?\",\n",
        "    \"Tips for maintaining a healthy work-life balance?\",\n",
        "    \"How to boost productivity while working from home?\",\n",
        "    \"What are the common causes of anxiety and how to cope?\",\n",
        "    \"Does diet affect cognitive function and memory?\",\n",
        "    \"How to build better habits for personal growth?\",\n",
        "    \"What are the long-term effects of chronic stress?\",\n",
        "]\n",
        "\n",
        "# Get max_length from model input shape\n",
        "max_length = new_model.input_shape[0][1]\n",
        "\n",
        "# Encode test text properly using BERT tokenizer\n",
        "encoded_test = tokenizer(test_texts, padding='max_length', truncation=True, max_length=max_length, return_tensors=\"np\")\n",
        "\n",
        "X_text_test = np.array(encoded_test[\"input_ids\"])\n",
        "X_mask_test = np.array(encoded_test[\"attention_mask\"])\n",
        "\n",
        "# Dummy numeric input (func_rating)\n",
        "X_func_test = np.array([5,4,3,4,2,1,3,4,2,2,3]).reshape(-1, 1)\n",
        "\n",
        "# Make predictions\n",
        "predictions = new_model.predict({\"text_input\": X_text_test, \"attention_mask\": X_mask_test, \"func_rating_input\": X_func_test})\n",
        "\n",
        "# Display results\n",
        "for i, text in enumerate(test_texts):\n",
        "    print(f\"Prompt: {text}\")\n",
        "    print(f\"Predicted Rating: {predictions[i][0]:.2f}\")\n",
        "    print(\"-\" * 50)\n"
      ],
      "metadata": {
        "colab": {
          "base_uri": "https://localhost:8080/"
        },
        "id": "6P159YYHoVca",
        "outputId": "48597f23-d970-4809-ad5d-7a1b23f6fd75"
      },
      "execution_count": null,
      "outputs": [
        {
          "output_type": "stream",
          "name": "stdout",
          "text": [
            "Model and tokenizer loaded successfully!\n",
            "\u001b[1m1/1\u001b[0m \u001b[32m━━━━━━━━━━━━━━━━━━━━\u001b[0m\u001b[37m\u001b[0m \u001b[1m5s\u001b[0m 5s/step\n",
            "Prompt: How to improve focus and concentration?\n",
            "Predicted Rating: 3.69\n",
            "--------------------------------------------------\n",
            "Prompt: What are the side effects of lack of sleep?\n",
            "Predicted Rating: 3.25\n",
            "--------------------------------------------------\n",
            "Prompt: Best techniques to manage stress effectively?\n",
            "Predicted Rating: 3.17\n",
            "--------------------------------------------------\n",
            "Prompt: How does regular exercise impact mental health?\n",
            "Predicted Rating: 3.39\n",
            "--------------------------------------------------\n",
            "Prompt: What are the benefits of meditation and mindfulness?\n",
            "Predicted Rating: 3.11\n",
            "--------------------------------------------------\n",
            "Prompt: Tips for maintaining a healthy work-life balance?\n",
            "Predicted Rating: 2.55\n",
            "--------------------------------------------------\n",
            "Prompt: How to boost productivity while working from home?\n",
            "Predicted Rating: 3.29\n",
            "--------------------------------------------------\n",
            "Prompt: What are the common causes of anxiety and how to cope?\n",
            "Predicted Rating: 3.10\n",
            "--------------------------------------------------\n",
            "Prompt: Does diet affect cognitive function and memory?\n",
            "Predicted Rating: 2.93\n",
            "--------------------------------------------------\n",
            "Prompt: How to build better habits for personal growth?\n",
            "Predicted Rating: 2.70\n",
            "--------------------------------------------------\n",
            "Prompt: What are the long-term effects of chronic stress?\n",
            "Predicted Rating: 2.96\n",
            "--------------------------------------------------\n"
          ]
        }
      ]
    }
  ]
}